{
 "cells": [
  {
   "cell_type": "code",
   "execution_count": 1,
   "metadata": {},
   "outputs": [
    {
     "name": "stdout",
     "output_type": "stream",
     "text": [
      "Balance:  300.29999999999995\n"
     ]
    }
   ],
   "source": [
    "balance = 100.10\n",
    "balance += 100.10\n",
    "balance += 100.10\n",
    "print(\"Balance: \", balance)"
   ]
  },
  {
   "cell_type": "code",
   "execution_count": 2,
   "metadata": {},
   "outputs": [
    {
     "name": "stdout",
     "output_type": "stream",
     "text": [
      "Balance:  300.3\n"
     ]
    }
   ],
   "source": [
    "balance = 100.10\n",
    "balance += 100.10\n",
    "balance += 100.10\n",
    "balance = round(balance,2)\n",
    "print(\"Balance: \", balance)"
   ]
  },
  {
   "cell_type": "code",
   "execution_count": 3,
   "metadata": {},
   "outputs": [
    {
     "name": "stdout",
     "output_type": "stream",
     "text": [
      "3.141592653589793\n",
      "8.0\n",
      "4.0\n"
     ]
    }
   ],
   "source": [
    "# pi is a constant of the math library\n",
    "# remember a float is up to 16 significant digits\n",
    "# also using pow and sqrt functions of the math module\n",
    "\n",
    "import math as m\n",
    "print(m.pi)\n",
    "print(m.pow(2,3))\n",
    "print(m.sqrt(16))"
   ]
  },
  {
   "cell_type": "code",
   "execution_count": 4,
   "metadata": {},
   "outputs": [
    {
     "name": "stdout",
     "output_type": "stream",
     "text": [
      "1. Circuference: 75.39822368615503\n",
      "2. Area: 452.3893421169302\n",
      "3. Area: 452.3893421169302\n"
     ]
    }
   ],
   "source": [
    "# other functions of the math module\n",
    "\n",
    "radius = 12\n",
    "circumference = m.pi * radius * 2\n",
    "area = m.pi * m.pow(radius, 2)\n",
    "print(\"1. Circuference:\", circumference)\n",
    "print(\"2. Area:\", area)\n",
    "\n",
    "# use the other way to to square the radius(without using a function)\n",
    "area = m.pi * radius ** 2\n",
    "print(\"3. Area:\", area)\n",
    "\n",
    "      "
   ]
  },
  {
   "cell_type": "code",
   "execution_count": 5,
   "metadata": {},
   "outputs": [
    {
     "name": "stdout",
     "output_type": "stream",
     "text": [
      "12\n",
      "13\n",
      "-4\n",
      "-3\n"
     ]
    }
   ],
   "source": [
    "# other math functions\n",
    "\n",
    "import math as m\n",
    "\n",
    "print(m.floor(12.545))\n",
    "print(m.ceil(12.545))\n",
    "\n",
    "print(m.floor(-3.432))\n",
    "print(m.ceil(-3.432))"
   ]
  },
  {
   "cell_type": "code",
   "execution_count": 6,
   "metadata": {},
   "outputs": [
    {
     "name": "stdout",
     "output_type": "stream",
     "text": [
      "3\n",
      "2.1\n",
      "2.01\n",
      "3\n"
     ]
    }
   ],
   "source": [
    "# using ceil to work with decimal numbers\n",
    "\n",
    "import math as m\n",
    "\n",
    "print(m.ceil(2.0083))\n",
    "print(m.ceil(2.0083 * 10) / 10)\n",
    "print(m.ceil(2.0083 * 100) / 100)\n",
    "\n",
    "print(m.ceil(2.00001))\n",
    "      "
   ]
  },
  {
   "cell_type": "code",
   "execution_count": null,
   "metadata": {},
   "outputs": [],
   "source": [
    "# using floor to work with decimal numbers\n",
    "\n",
    "import math as m\n",
    "\n",
    "print(m.floor(2.0083))\n",
    "print(m.floor(2.0083 * 10) / 10)\n",
    "print(m.floor(2.0083 * 1000) / 1000)\n",
    "\n",
    "print(m.floor(2.00001))\n",
    "      "
   ]
  },
  {
   "cell_type": "code",
   "execution_count": 7,
   "metadata": {},
   "outputs": [
    {
     "name": "stdout",
     "output_type": "stream",
     "text": [
      "12345.68\n",
      "12345.6789\n",
      "12,345.68\n",
      "      12,345.68\n"
     ]
    }
   ],
   "source": [
    "# using format method of a string to format decimal numbers\n",
    "\n",
    "fp_num = 12345.6789\n",
    "print(\"{:.2f}\".format(fp_num))\n",
    "print(\"{:.4f}\".format(fp_num))\n",
    "print(\"{:,.2f}\".format(fp_num))\n",
    "print(\"{:15,.2f}\".format(fp_num))\n"
   ]
  },
  {
   "cell_type": "code",
   "execution_count": 8,
   "metadata": {},
   "outputs": [
    {
     "name": "stdout",
     "output_type": "stream",
     "text": [
      "12345\n",
      "12,345\n"
     ]
    }
   ],
   "source": [
    "# using format method of a string to format integers\n",
    "\n",
    "num = 12345\n",
    "print(\"{:d}\".format(num))\n",
    "print(\"{:,d}\".format(num))"
   ]
  },
  {
   "cell_type": "code",
   "execution_count": 15,
   "metadata": {},
   "outputs": [
    {
     "name": "stdout",
     "output_type": "stream",
     "text": [
      "12%\n",
      "12.3%\n",
      "13%\n"
     ]
    }
   ],
   "source": [
    "# using format method of a string to format decimals with %\n",
    "\n",
    "fp_num = .12345\n",
    "print(\"{:.0%}\".format(fp_num))\n",
    "print(\"{:.1%}\".format(fp_num))\n",
    "fp_num = .126\n",
    "print(\"{:.0%}\".format(fp_num))\n"
   ]
  },
  {
   "cell_type": "code",
   "execution_count": 10,
   "metadata": {},
   "outputs": [
    {
     "name": "stdout",
     "output_type": "stream",
     "text": [
      "1.23e+04\n",
      "1.2346e+04\n"
     ]
    }
   ],
   "source": [
    "# using format method of a string to format decimals with scientific notatiion\n",
    "\n",
    "fp_num = 12345.6789\n",
    "print(\"{:.2e}\".format(fp_num))\n",
    "print(\"{:.4e}\".format(fp_num))"
   ]
  },
  {
   "cell_type": "code",
   "execution_count": 11,
   "metadata": {},
   "outputs": [
    {
     "name": "stdout",
     "output_type": "stream",
     "text": [
      "Description          Price   Qty\n",
      "Hammer                9.99     3\n",
      "Nails                14.50    10\n"
     ]
    }
   ],
   "source": [
    "# using field widths to align results\n",
    "\n",
    "print(\"{:15} {:>10} {:>5}\".format(\"Description\", \"Price\", \"Qty\"))\n",
    "print(\"{:15} {:10.2f} {:5d}\".format(\"Hammer\", 9.99, 3))\n",
    "print(\"{:15} {:10.2f} {:5d}\".format(\"Nails\", 14.5, 10))"
   ]
  },
  {
   "cell_type": "code",
   "execution_count": 16,
   "metadata": {},
   "outputs": [
    {
     "name": "stdout",
     "output_type": "stream",
     "text": [
      "$12,345.15\n",
      "12,345\n",
      "12,345.15\n"
     ]
    },
    {
     "name": "stderr",
     "output_type": "stream",
     "text": [
      "C:\\ProgramData\\Anaconda3\\lib\\site-packages\\ipykernel_launcher.py:15: DeprecationWarning: This method will be removed in a future version of Python. Use 'locale.format_string()' instead.\n",
      "  from ipykernel import kernelapp as app\n",
      "C:\\ProgramData\\Anaconda3\\lib\\site-packages\\ipykernel_launcher.py:16: DeprecationWarning: This method will be removed in a future version of Python. Use 'locale.format_string()' instead.\n",
      "  app.launch_new_instance()\n"
     ]
    }
   ],
   "source": [
    "# using the localle module\n",
    "# grouping is optional and used for thousands separater\n",
    "\n",
    "import locale as lc\n",
    "\n",
    "# should get locale from computer unless it is a Mac\n",
    "result = lc.setlocale(lc.LC_ALL, \"\")\n",
    "if result == \"C\":\n",
    "    lc.setlocale(lc.LC_ALL, \"en_US\")\n",
    "    \n",
    "# using currency()\n",
    "print(lc.currency(12345.15, grouping = True))\n",
    "\n",
    "# using format()\n",
    "print(lc.format(\"%d\", 12345, grouping = True))\n",
    "print(lc.format(\"%.2f\", 12345.15, grouping = True))\n"
   ]
  },
  {
   "cell_type": "code",
   "execution_count": 17,
   "metadata": {},
   "outputs": [
    {
     "name": "stdout",
     "output_type": "stream",
     "text": [
      "Enter order total: 100.05\n",
      "\n",
      "Order total:          100.05\n",
      "Discount amount:       10.01\n",
      "Subtotal:              90.05\n",
      "Sales tax:              4.50\n",
      "Invoice total:         94.55\n"
     ]
    }
   ],
   "source": [
    "# code with incorrect decimal results\n",
    "\n",
    "order_total = float(input(\"Enter order total: \"))\n",
    "print()\n",
    "\n",
    "# determine discount percent\n",
    "if order_total > 0 and order_total < 100:\n",
    "    discount_percent = 0\n",
    "elif order_total >- 100 and order_total < 250:\n",
    "    discount_percent = .1\n",
    "elif order_total >= 250:\n",
    "    discount_percent = .2\n",
    "    \n",
    "# calculate the results\n",
    "discount = order_total * discount_percent\n",
    "subtotal = order_total - discount\n",
    "sales_tax = subtotal * .05\n",
    "invoice_total = subtotal + sales_tax\n",
    "\n",
    "# display the results\n",
    "print(\"Order total:      {:10,.2f}\".format(order_total))\n",
    "print(\"Discount amount:  {:10,.2f}\".format(discount))\n",
    "print(\"Subtotal:         {:10,.2f}\".format(subtotal))\n",
    "print(\"Sales tax:        {:10,.2f}\".format(sales_tax))\n",
    "print(\"Invoice total:    {:10,.2f}\".format(invoice_total))\n"
   ]
  },
  {
   "cell_type": "code",
   "execution_count": 18,
   "metadata": {},
   "outputs": [
    {
     "name": "stdout",
     "output_type": "stream",
     "text": [
      "Enter order total: 100.05\n",
      "\n",
      "Order total:          100.05\n",
      "Discount amount:       10.01\n",
      "Subtotal:              90.04\n",
      "Sales tax:              4.50\n",
      "Invoice total:         94.54\n"
     ]
    }
   ],
   "source": [
    "# code with correct  results\n",
    "\n",
    "order_total = float(input(\"Enter order total: \"))\n",
    "print()\n",
    "\n",
    "# determine discount percent\n",
    "if order_total > 0 and order_total < 100:\n",
    "    discount_percent = 0\n",
    "elif order_total >- 100 and order_total < 250:\n",
    "    discount_percent = .1\n",
    "elif order_total >= 250:\n",
    "    discount_percent = .2\n",
    "    \n",
    "# calculate the results with rounding\n",
    "discount = round(order_total * discount_percent, 2)\n",
    "subtotal = order_total - discount\n",
    "sales_tax = round(subtotal * .05, 2)\n",
    "invoice_total = subtotal + sales_tax\n",
    "\n",
    "# display the results\n",
    "print(\"Order total:      {:10,.2f}\".format(order_total))\n",
    "print(\"Discount amount:  {:10,.2f}\".format(discount))\n",
    "print(\"Subtotal:         {:10,.2f}\".format(subtotal))\n",
    "print(\"Sales tax:        {:10,.2f}\".format(sales_tax))\n",
    "print(\"Invoice total:    {:10,.2f}\".format(invoice_total))\n"
   ]
  },
  {
   "cell_type": "code",
   "execution_count": 21,
   "metadata": {},
   "outputs": [
    {
     "name": "stdout",
     "output_type": "stream",
     "text": [
      "Discount:  10.005\n",
      "Subtotal:  90.045\n",
      "Sales tax:  4.50225\n",
      "Invoice total:  94.54725\n",
      "180.090\n"
     ]
    },
    {
     "ename": "TypeError",
     "evalue": "unsupported operand type(s) for *: 'decimal.Decimal' and 'float'",
     "output_type": "error",
     "traceback": [
      "\u001b[1;31m---------------------------------------------------------------------------\u001b[0m",
      "\u001b[1;31mTypeError\u001b[0m                                 Traceback (most recent call last)",
      "\u001b[1;32m<ipython-input-21-fd435d7c5854>\u001b[0m in \u001b[0;36m<module>\u001b[1;34m\u001b[0m\n\u001b[0;32m     20\u001b[0m \u001b[1;33m\u001b[0m\u001b[0m\n\u001b[0;32m     21\u001b[0m \u001b[1;31m# error - can't mix Decimal with float\u001b[0m\u001b[1;33m\u001b[0m\u001b[1;33m\u001b[0m\u001b[1;33m\u001b[0m\u001b[0m\n\u001b[1;32m---> 22\u001b[1;33m \u001b[0mtest2\u001b[0m \u001b[1;33m=\u001b[0m \u001b[0msubtotal\u001b[0m \u001b[1;33m*\u001b[0m \u001b[1;36m3.5\u001b[0m\u001b[1;33m\u001b[0m\u001b[1;33m\u001b[0m\u001b[0m\n\u001b[0m",
      "\u001b[1;31mTypeError\u001b[0m: unsupported operand type(s) for *: 'decimal.Decimal' and 'float'"
     ]
    }
   ],
   "source": [
    "# import the Decimal class from the decimal module\n",
    "from decimal import Decimal\n",
    "\n",
    "order_total = Decimal(\"100.05\")\n",
    "discount_percent = Decimal(\".1\")\n",
    "discount = order_total * discount_percent\n",
    "print(\"Discount: \", discount)\n",
    "\n",
    "subtotal = order_total - discount\n",
    "print(\"Subtotal: \", subtotal)\n",
    "tax_percent = Decimal(\".05\")\n",
    "sales_tax = subtotal * tax_percent\n",
    "print(\"Sales tax: \", sales_tax)\n",
    "invoice_total = subtotal + sales_tax\n",
    "print(\"Invoice total: \", invoice_total)\n",
    "\n",
    "# you can mix Decimal with integer\n",
    "test1 = subtotal * 2\n",
    "print(test1)\n",
    "\n",
    "# error - can't mix Decimal with float\n",
    "test2 = subtotal * 3.5"
   ]
  },
  {
   "cell_type": "code",
   "execution_count": null,
   "metadata": {},
   "outputs": [],
   "source": [
    "# using quantize and default is ROUND_HALF_EVEN which looks at the number preceding it\n",
    "# if it is an even number, round down.  If it is odd, round up.\n",
    "\n",
    "from decimal import Decimal\n",
    "discount = Decimal(\"10.005\")\n",
    "discount = discount.quantize(Decimal(\"1.00\"))\n",
    "print(discount)"
   ]
  },
  {
   "cell_type": "code",
   "execution_count": null,
   "metadata": {},
   "outputs": [],
   "source": [
    "# used with business and math\n",
    "# ignore whether it is odd or even number\n",
    "\n",
    "from decimal import ROUND_HALF_UP\n",
    "\n",
    "discount = Decimal(\"10.005\")\n",
    "discount = discount.quantize(Decimal(\"1.00\"), ROUND_HALF_UP)\n",
    "print(discount)"
   ]
  },
  {
   "cell_type": "code",
   "execution_count": null,
   "metadata": {},
   "outputs": [],
   "source": [
    "# code with correct  results using Decimal\n",
    "from decimal import Decimal\n",
    "from decimal import ROUND_HALF_UP\n",
    "\n",
    "choice = \"y\"\n",
    "while choice == \"y\":\n",
    "\n",
    "    order_total = Decimal(input(\"Enter order total:       \"))\n",
    "    order_total = order_total.quantize(Decimal(\"1.00\"), ROUND_HALF_UP)\n",
    "    print()\n",
    "\n",
    "    # determine discount percent\n",
    "    if order_total > 0 and order_total < 100:\n",
    "        discount_percent = Decimal(\"0\")\n",
    "    elif order_total >- 100 and order_total < 250:\n",
    "        discount_percent = Decimal(\".1\")\n",
    "    elif order_total >= 250:\n",
    "        discount_percent = Decimal(\".2\")\n",
    "    \n",
    "    # calculate the results with rounding\n",
    "    discount = order_total * discount_percent\n",
    "    discount = discount.quantize(Decimal(\"1.00\"), ROUND_HALF_UP)\n",
    "    subtotal = order_total - discount\n",
    "    tax_percent = Decimal(\".05\")                                  \n",
    "    sales_tax = subtotal * tax_percent\n",
    "    sales_tax = sales_tax.quantize(Decimal(\"1.00\"), ROUND_HALF_UP)\n",
    "    invoice_total = subtotal + sales_tax\n",
    "\n",
    "    # display the results\n",
    "    print(\"Order total:      {:10,.2f}\".format(order_total))\n",
    "    print(\"Discount amount:  {:10,.2f}\".format(discount))\n",
    "    print(\"Subtotal:         {:10,.2f}\".format(subtotal))\n",
    "    print(\"Sales tax:        {:10,.2f}\".format(sales_tax))\n",
    "    print(\"Invoice total:    {:10,.2f}\".format(invoice_total))\n",
    "    print()\n",
    "                            \n",
    "    choice = input(\"Continue? (y/n): \")\n",
    "    print()\n",
    "                                       \n",
    "print('Bye for now')\n",
    "                                       \n"
   ]
  },
  {
   "cell_type": "code",
   "execution_count": null,
   "metadata": {},
   "outputs": [],
   "source": []
  }
 ],
 "metadata": {
  "kernelspec": {
   "display_name": "Python 3",
   "language": "python",
   "name": "python3"
  },
  "language_info": {
   "codemirror_mode": {
    "name": "ipython",
    "version": 3
   },
   "file_extension": ".py",
   "mimetype": "text/x-python",
   "name": "python",
   "nbconvert_exporter": "python",
   "pygments_lexer": "ipython3",
   "version": "3.7.3"
  }
 },
 "nbformat": 4,
 "nbformat_minor": 2
}
