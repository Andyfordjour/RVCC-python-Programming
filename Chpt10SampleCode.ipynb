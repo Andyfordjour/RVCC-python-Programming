{
 "cells": [
  {
   "cell_type": "code",
   "execution_count": 1,
   "metadata": {},
   "outputs": [
    {
     "name": "stdout",
     "output_type": "stream",
     "text": [
      "9:  57\n",
      "A:  65\n",
      "a:  97\n",
      "H\n",
      "e\n",
      "!\n"
     ]
    },
    {
     "ename": "TypeError",
     "evalue": "'str' object does not support item assignment",
     "output_type": "error",
     "traceback": [
      "\u001b[1;31m---------------------------------------------------------------------------\u001b[0m",
      "\u001b[1;31mTypeError\u001b[0m                                 Traceback (most recent call last)",
      "\u001b[1;32m<ipython-input-1-a91f9cfea776>\u001b[0m in \u001b[0;36m<module>\u001b[1;34m\u001b[0m\n\u001b[0;32m     16\u001b[0m \u001b[1;33m\u001b[0m\u001b[0m\n\u001b[0;32m     17\u001b[0m \u001b[1;31m# should not be able to change the value of string since immutable\u001b[0m\u001b[1;33m\u001b[0m\u001b[1;33m\u001b[0m\u001b[1;33m\u001b[0m\u001b[0m\n\u001b[1;32m---> 18\u001b[1;33m \u001b[0mmessage\u001b[0m\u001b[1;33m[\u001b[0m\u001b[1;36m0\u001b[0m\u001b[1;33m]\u001b[0m \u001b[1;33m=\u001b[0m \u001b[1;34m'A'\u001b[0m\u001b[1;33m\u001b[0m\u001b[1;33m\u001b[0m\u001b[0m\n\u001b[0m",
      "\u001b[1;31mTypeError\u001b[0m: 'str' object does not support item assignment"
     ]
    }
   ],
   "source": [
    "# print out ordinal value for the unicode character\n",
    "\n",
    "print(\"9: \", ord(\"9\"))\n",
    "print(\"A: \", ord(\"A\"))\n",
    "print(\"a: \", ord(\"a\"))\n",
    "\n",
    "# use an index to access a character in a string\n",
    "\n",
    "message = \"Hello from the other side!\"\n",
    "print(message[0])\n",
    "print(message[1])\n",
    "print(message[-1])\n",
    "\n",
    "# should be index out of range\n",
    "#print(message[31])\n",
    "\n",
    "# should not be able to change the value of string since immutable\n",
    "message[0] = 'A'"
   ]
  },
  {
   "cell_type": "code",
   "execution_count": 2,
   "metadata": {},
   "outputs": [
    {
     "name": "stdout",
     "output_type": "stream",
     "text": [
      "Hello from the other side!\n",
      "Hello\n",
      "from\n",
      "the other side!\n",
      "Hello from the other side\n",
      "!\n"
     ]
    }
   ],
   "source": [
    "# slicing a string\n",
    "# (just like lists except strings are immutable)\n",
    "\n",
    "message = \"Hello from the other side!\"\n",
    "print(message)\n",
    "print(message[:5])\n",
    "print(message[6:10])\n",
    "print(message[11:])\n",
    "print(message[:-1])\n",
    "print(message[-1])"
   ]
  },
  {
   "cell_type": "code",
   "execution_count": null,
   "metadata": {},
   "outputs": [],
   "source": [
    "# using the repetition operator\n",
    "\n",
    "print(\"=\" * 40)\n",
    "\n",
    "print(\"Jimmy two times! \" * 2)\n",
    "\n",
    "# using triple quotes to create a multiline string\n",
    "\n",
    "query = '''SELECT categoryID, name AS categoryName\n",
    "           FROM Category WHERE categoryID = ?'''"
   ]
  },
  {
   "cell_type": "code",
   "execution_count": 4,
   "metadata": {},
   "outputs": [
    {
     "name": "stdout",
     "output_type": "stream",
     "text": [
      "True\n",
      "False\n",
      "True\n",
      "True\n",
      "False\n",
      "Enter search term: whom\n",
      "whom was not found!\n"
     ]
    }
   ],
   "source": [
    "# using the in keyword to search for a substring within a string\n",
    "\n",
    "message_p1 = \"Once there was an elephant who tried to use the telephant!\"\n",
    "print(\"Once\" in message_p1)\n",
    "print(\"once\" in message_p1)\n",
    "print(\"ant\" in message_p1)\n",
    "print(\" the \" in message_p1)\n",
    "print(\" telephant! \" in message_p1)\n",
    "\n",
    "search_term = input(\"Enter search term: \")\n",
    "if search_term in message_p1:\n",
    "    print(search_term +  \" was found!\")\n",
    "else:\n",
    "    print(search_term + \" was not found!\")"
   ]
  },
  {
   "cell_type": "code",
   "execution_count": 5,
   "metadata": {},
   "outputs": [
    {
     "name": "stdout",
     "output_type": "stream",
     "text": [
      "T\n",
      "w\n",
      "e\n",
      "e\n",
      "t\n",
      "y\n",
      " \n",
      "B\n",
      "i\n",
      "r\n",
      "d\n",
      "49 50 51 32 65 66 67 32 97 98 99 "
     ]
    }
   ],
   "source": [
    "# looping through each character in a string\n",
    "\n",
    "message = \"Tweety Bird\"\n",
    "for char in message:\n",
    "    print(char)\n",
    "    \n",
    "message = \"123 ABC abc\"\n",
    "for char in message:\n",
    "    print(ord(char), end = \" \")"
   ]
  },
  {
   "cell_type": "code",
   "execution_count": 6,
   "metadata": {},
   "outputs": [
    {
     "name": "stdout",
     "output_type": "stream",
     "text": [
      "True\n",
      "True\n",
      "A Star Is Born\n",
      "908 555 5555\n",
      "Hammer             $19.99\n",
      "Nails               $5.50\n"
     ]
    }
   ],
   "source": [
    "# check whether a string contains all digits\n",
    "value = \"12345\"\n",
    "print(value.isdigit())\n",
    "\n",
    "# check whether string begins with a substring\n",
    "lyric = \"Dashing through the snow\"\n",
    "print(lyric.startswith(\"Dash\"))\n",
    "\n",
    "# change string to title case\n",
    "movie = \"a star is born\"\n",
    "print(movie.title())\n",
    "\n",
    "# strip whitespace from the beginning or end of a string\n",
    "tn = \"    908 555 5555   \"\n",
    "print(tn.strip())\n",
    "\n",
    "# aligning strings using left/right justification\n",
    "print(\"Hammer\".ljust(14), \"$19.99\".rjust(10))\n",
    "print(\"Nails\".ljust(14), \"$5.50\".rjust(10))"
   ]
  },
  {
   "cell_type": "code",
   "execution_count": 7,
   "metadata": {},
   "outputs": [
    {
     "name": "stdout",
     "output_type": "stream",
     "text": [
      "10\n",
      "-1\n",
      "Invalid email address:  linda.yang@com\n",
      "Frosty\n"
     ]
    }
   ],
   "source": [
    "# using find()\n",
    "\n",
    "email = \"linda.yang@com\"\n",
    "\n",
    "at_index = email.find(\"@\")\n",
    "print(at_index)\n",
    "dot_index = email.find(\".\", at_index)\n",
    "print(dot_index)\n",
    "\n",
    "if at_index == -1 or dot_index == -1:\n",
    "    print(\"Invalid email address: \", email)\n",
    "    \n",
    "# how to get the first word in a string\n",
    "name = \"Frosty the Snowman\"\n",
    "i = name.find(\" \")\n",
    "if i == -1:\n",
    "    print(\"This name doesn't contain a space.\")\n",
    "else:\n",
    "    print(name[0:i])"
   ]
  },
  {
   "cell_type": "code",
   "execution_count": 8,
   "metadata": {},
   "outputs": [
    {
     "name": "stdout",
     "output_type": "stream",
     "text": [
      "4012 881322 88810\n",
      "5555551234\n",
      "555555-1234\n",
      "(555) 555-1234\n"
     ]
    }
   ],
   "source": [
    "# using replace()\n",
    "cc_number = \"4012-881322-88810\"\n",
    "cc_number = cc_number.replace(\"-\", \" \")\n",
    "print(cc_number)\n",
    "\n",
    "# removing dashes from a phone nuber\n",
    "tn = \"555-555-1234\"\n",
    "tn = tn.replace(\"-\", \"\")\n",
    "print(tn)\n",
    "\n",
    "# replace the first dash and then add parenthesis in the phone number\n",
    "tn = \"555-555-1234\"\n",
    "tn = tn.replace(\"-\",\"\",1)\n",
    "print(tn)\n",
    "tn = \"(\" + tn[:3] + \") \" + tn[3:]\n",
    "print(tn)"
   ]
  },
  {
   "cell_type": "code",
   "execution_count": 11,
   "metadata": {},
   "outputs": [
    {
     "name": "stdout",
     "output_type": "stream",
     "text": [
      "Enter full name: linda yang\n",
      "\n",
      "Enter password:  Melissarrrrr\n",
      "Password must be 8 characters or more \n",
      "with at least one digit and one uppercase letter.\n",
      "Enter password:  Melissa4\n",
      "\n",
      "Hi linda, thanks for creating an account.\n"
     ]
    }
   ],
   "source": [
    "# Create Account Program\n",
    "\n",
    "def get_full_name():\n",
    "    bad_name = True\n",
    "    while bad_name:\n",
    "        name = input(\"Enter full name: \").strip()\n",
    "        if \" \" in name:\n",
    "            bad_name = False\n",
    "            return name\n",
    "        else:\n",
    "            print(\"You must enter your full name.\")\n",
    "            \n",
    "def get_password():\n",
    "    bad_pwd = True\n",
    "    while bad_pwd:\n",
    "        password = input(\"Enter password:  \").strip()\n",
    "        digit = False\n",
    "        cap_letter = False\n",
    "        for char in password:\n",
    "            if char.isdigit():\n",
    "                digit = True\n",
    "            elif char.isupper():\n",
    "                cap_letter = True\n",
    "        if digit == False or cap_letter == False or len(password) < 8:\n",
    "            print(\"Password must be 8 characters or more \\n\" +\n",
    "                  \"with at least one digit and one uppercase letter.\")\n",
    "        else:\n",
    "            bad_pwd = False\n",
    "            return password\n",
    "        \n",
    "def get_first_name(full_name):\n",
    "    index1 = full_name.find(\" \")\n",
    "    first_name = full_name[:index1]\n",
    "    return first_name\n",
    "\n",
    "def main():\n",
    "    full_name = get_full_name()\n",
    "    print()\n",
    "    \n",
    "    password = get_password()\n",
    "    print()\n",
    "    \n",
    "    first_name = get_first_name(full_name)\n",
    "    print(\"Hi \" + first_name + \", thanks for creating an account.\")\n",
    "    \n",
    "if __name__ == \"__main__\":\n",
    "    main()"
   ]
  },
  {
   "cell_type": "code",
   "execution_count": 12,
   "metadata": {},
   "outputs": [
    {
     "name": "stdout",
     "output_type": "stream",
     "text": [
      "These\n",
      "good\n",
      "times.\n",
      "times.\n"
     ]
    },
    {
     "ename": "IndexError",
     "evalue": "list index out of range",
     "output_type": "error",
     "traceback": [
      "\u001b[1;31m---------------------------------------------------------------------------\u001b[0m",
      "\u001b[1;31mIndexError\u001b[0m                                Traceback (most recent call last)",
      "\u001b[1;32m<ipython-input-12-8348a88b588b>\u001b[0m in \u001b[0;36m<module>\u001b[1;34m\u001b[0m\n\u001b[0;32m      7\u001b[0m \u001b[0mprint\u001b[0m\u001b[1;33m(\u001b[0m\u001b[0mwords\u001b[0m\u001b[1;33m[\u001b[0m\u001b[1;36m5\u001b[0m\u001b[1;33m]\u001b[0m\u001b[1;33m)\u001b[0m\u001b[1;33m\u001b[0m\u001b[1;33m\u001b[0m\u001b[0m\n\u001b[0;32m      8\u001b[0m \u001b[0mprint\u001b[0m\u001b[1;33m(\u001b[0m\u001b[0mwords\u001b[0m\u001b[1;33m[\u001b[0m\u001b[1;33m-\u001b[0m\u001b[1;36m1\u001b[0m\u001b[1;33m]\u001b[0m\u001b[1;33m)\u001b[0m\u001b[1;33m\u001b[0m\u001b[1;33m\u001b[0m\u001b[0m\n\u001b[1;32m----> 9\u001b[1;33m \u001b[0mprint\u001b[0m\u001b[1;33m(\u001b[0m\u001b[0mwords\u001b[0m\u001b[1;33m[\u001b[0m\u001b[1;36m6\u001b[0m\u001b[1;33m]\u001b[0m\u001b[1;33m)\u001b[0m\u001b[1;33m\u001b[0m\u001b[1;33m\u001b[0m\u001b[0m\n\u001b[0m",
      "\u001b[1;31mIndexError\u001b[0m: list index out of range"
     ]
    }
   ],
   "source": [
    "# using the split() function\n",
    "\n",
    "quote = \"These are the good old times.\"\n",
    "words = quote.split()\n",
    "print(words[0])\n",
    "print(words[3])\n",
    "print(words[5])\n",
    "print(words[-1])\n",
    "print(words[6])"
   ]
  },
  {
   "cell_type": "code",
   "execution_count": 13,
   "metadata": {},
   "outputs": [
    {
     "name": "stdout",
     "output_type": "stream",
     "text": [
      "10 19 1990\n"
     ]
    }
   ],
   "source": [
    "# splitting date by a delimiter\n",
    "\n",
    "date = \"10/19/1990\"\n",
    "date = date.split(\"/\")\n",
    "month = int(date[0])\n",
    "day = int(date[1])\n",
    "year = int(date[2])\n",
    "print(month, day, year)"
   ]
  },
  {
   "cell_type": "code",
   "execution_count": 14,
   "metadata": {},
   "outputs": [
    {
     "name": "stdout",
     "output_type": "stream",
     "text": [
      "Cindy Rella\n",
      "5 Castle Way\n",
      "Orlando, FL 30545\n"
     ]
    }
   ],
   "source": [
    "# splitting a row of data on a delimiter\n",
    "\n",
    "address = \"Cindy Rella|5 Castle Way|Orlando|FL|30545\"\n",
    "address = address.split(\"|\")\n",
    "print(address[0])\n",
    "print(address[1])\n",
    "print(address[2] + \", \" + address[3] + \" \" + address[4])"
   ]
  },
  {
   "cell_type": "code",
   "execution_count": 18,
   "metadata": {},
   "outputs": [
    {
     "name": "stdout",
     "output_type": "stream",
     "text": [
      "Linda Yang\n",
      "Yang, Linda\n",
      "Linda Yang|Raritan Valley Rd|Branchburg|NJ|08876\n",
      "A B S O L U T E L Y\n",
      "AabcBabcSabcOabcLabcUabcTabcEabcLabcY\n",
      "AabcBabcSabcOabcLabcUabcTabcEabcLabcY\n"
     ]
    }
   ],
   "source": [
    "# first use the + operator\n",
    "\n",
    "first_name = \"Linda\"\n",
    "last_name = \"Yang\"\n",
    "full_name = first_name + \" \" + last_name\n",
    "print(full_name)\n",
    "\n",
    "# now use += operator\n",
    "\n",
    "first_name = \"Linda\"\n",
    "last_name = \"Yang\"\n",
    "full_name = last_name\n",
    "full_name += \", \"\n",
    "full_name += first_name\n",
    "print(full_name)\n",
    "\n",
    "# using join() method for joining elements of a sequence into a string\n",
    "\n",
    "address = [\"Linda Yang\", \"Raritan Valley Rd\", \"Branchburg\", \"NJ\", \"08876\"]\n",
    "address = \"|\".join(address)\n",
    "print(address)\n",
    "\n",
    "# using join() method to join characters in a string\n",
    "\n",
    "letters = \"ABSOLUTELY\"\n",
    "letters_spaced = \" \".join(letters)\n",
    "print(letters_spaced)\n",
    "\n",
    "testResult = \"abc\".join(letters)\n",
    "print(testResult)\n",
    "\n",
    "var = \"abc\"\n",
    "testResult = var.join(letters)\n",
    "print(testResult)"
   ]
  },
  {
   "cell_type": "code",
   "execution_count": 21,
   "metadata": {},
   "outputs": [
    {
     "name": "stdout",
     "output_type": "stream",
     "text": [
      "The Movie  List Program\n",
      "\n",
      "list - List all movies\n",
      "add - Add a movie\n",
      "del - Delete a movie\n",
      "exit - Exit program\n",
      "Enter Command: list\n"
     ]
    },
    {
     "ename": "IndexError",
     "evalue": "list index out of range",
     "output_type": "error",
     "traceback": [
      "\u001b[1;31m---------------------------------------------------------------------------\u001b[0m",
      "\u001b[1;31mIndexError\u001b[0m                                Traceback (most recent call last)",
      "\u001b[1;32m<ipython-input-21-668733c8e469>\u001b[0m in \u001b[0;36m<module>\u001b[1;34m\u001b[0m\n\u001b[0;32m     78\u001b[0m \u001b[1;33m\u001b[0m\u001b[0m\n\u001b[0;32m     79\u001b[0m \u001b[1;32mif\u001b[0m \u001b[0m__name__\u001b[0m \u001b[1;33m==\u001b[0m \u001b[1;34m\"__main__\"\u001b[0m\u001b[1;33m:\u001b[0m\u001b[1;33m\u001b[0m\u001b[1;33m\u001b[0m\u001b[0m\n\u001b[1;32m---> 80\u001b[1;33m     \u001b[0mmain\u001b[0m\u001b[1;33m(\u001b[0m\u001b[1;33m)\u001b[0m\u001b[1;33m\u001b[0m\u001b[1;33m\u001b[0m\u001b[0m\n\u001b[0m",
      "\u001b[1;32m<ipython-input-21-668733c8e469>\u001b[0m in \u001b[0;36mmain\u001b[1;34m()\u001b[0m\n\u001b[0;32m     58\u001b[0m     \u001b[1;32mwhile\u001b[0m \u001b[1;33m(\u001b[0m\u001b[0mcommand\u001b[0m\u001b[1;33m.\u001b[0m\u001b[0mlower\u001b[0m\u001b[1;33m(\u001b[0m\u001b[1;33m)\u001b[0m \u001b[1;33m!=\u001b[0m \u001b[1;34m\"exit\"\u001b[0m\u001b[1;33m)\u001b[0m\u001b[1;33m:\u001b[0m\u001b[1;33m\u001b[0m\u001b[1;33m\u001b[0m\u001b[0m\n\u001b[0;32m     59\u001b[0m         \u001b[1;32mif\u001b[0m \u001b[0mcommand\u001b[0m\u001b[1;33m.\u001b[0m\u001b[0mlower\u001b[0m\u001b[1;33m(\u001b[0m\u001b[1;33m)\u001b[0m \u001b[1;33m==\u001b[0m \u001b[1;34m\"list\"\u001b[0m\u001b[1;33m:\u001b[0m\u001b[1;33m\u001b[0m\u001b[1;33m\u001b[0m\u001b[0m\n\u001b[1;32m---> 60\u001b[1;33m             \u001b[0mlist_movies\u001b[0m\u001b[1;33m(\u001b[0m\u001b[0mmovie_list\u001b[0m\u001b[1;33m)\u001b[0m\u001b[1;33m\u001b[0m\u001b[1;33m\u001b[0m\u001b[0m\n\u001b[0m\u001b[0;32m     61\u001b[0m             \u001b[0mdisplay_menu\u001b[0m\u001b[1;33m(\u001b[0m\u001b[1;33m)\u001b[0m\u001b[1;33m\u001b[0m\u001b[1;33m\u001b[0m\u001b[0m\n\u001b[0;32m     62\u001b[0m             \u001b[0mcommand\u001b[0m \u001b[1;33m=\u001b[0m \u001b[0minput\u001b[0m\u001b[1;33m(\u001b[0m\u001b[1;34m\"Enter Command: \"\u001b[0m\u001b[1;33m)\u001b[0m\u001b[1;33m\u001b[0m\u001b[1;33m\u001b[0m\u001b[0m\n",
      "\u001b[1;32m<ipython-input-21-668733c8e469>\u001b[0m in \u001b[0;36mlist_movies\u001b[1;34m(movie_list)\u001b[0m\n\u001b[0;32m     21\u001b[0m     \u001b[1;32mfor\u001b[0m \u001b[0mi\u001b[0m \u001b[1;32min\u001b[0m \u001b[0mrange\u001b[0m\u001b[1;33m(\u001b[0m\u001b[0mlen\u001b[0m\u001b[1;33m(\u001b[0m\u001b[0mmovie_list\u001b[0m\u001b[1;33m)\u001b[0m\u001b[1;33m)\u001b[0m\u001b[1;33m:\u001b[0m\u001b[1;33m\u001b[0m\u001b[1;33m\u001b[0m\u001b[0m\n\u001b[0;32m     22\u001b[0m         \u001b[0mmovie\u001b[0m \u001b[1;33m=\u001b[0m \u001b[0mmovie_list\u001b[0m\u001b[1;33m[\u001b[0m\u001b[0mi\u001b[0m\u001b[1;33m]\u001b[0m\u001b[1;33m\u001b[0m\u001b[1;33m\u001b[0m\u001b[0m\n\u001b[1;32m---> 23\u001b[1;33m         \u001b[0mprint\u001b[0m\u001b[1;33m(\u001b[0m\u001b[0mstr\u001b[0m\u001b[1;33m(\u001b[0m\u001b[0mi\u001b[0m\u001b[1;33m+\u001b[0m\u001b[1;36m1\u001b[0m\u001b[1;33m)\u001b[0m \u001b[1;33m+\u001b[0m \u001b[1;34m\". \"\u001b[0m \u001b[1;33m+\u001b[0m \u001b[0mmovie\u001b[0m\u001b[1;33m[\u001b[0m\u001b[1;36m0\u001b[0m\u001b[1;33m]\u001b[0m \u001b[1;33m+\u001b[0m \u001b[1;34m\"|\"\u001b[0m \u001b[1;33m+\u001b[0m \u001b[0mmovie\u001b[0m\u001b[1;33m[\u001b[0m\u001b[1;36m1\u001b[0m\u001b[1;33m]\u001b[0m\u001b[1;33m)\u001b[0m\u001b[1;33m\u001b[0m\u001b[1;33m\u001b[0m\u001b[0m\n\u001b[0m\u001b[0;32m     24\u001b[0m     \u001b[0mprint\u001b[0m\u001b[1;33m(\u001b[0m\u001b[1;33m)\u001b[0m\u001b[1;33m\u001b[0m\u001b[1;33m\u001b[0m\u001b[0m\n\u001b[0;32m     25\u001b[0m \u001b[1;33m\u001b[0m\u001b[0m\n",
      "\u001b[1;31mIndexError\u001b[0m: list index out of range"
     ]
    }
   ],
   "source": [
    "# make filename a global variable\n",
    "# This file must already exist for this work!!!!!!\n",
    "FILENAME = \"movies.txt\"\n",
    "\n",
    "def write_movies(movie_list):\n",
    "    with open(FILENAME, \"w\") as file:\n",
    "        for movie in movie_list:\n",
    "            line = \"|\".join(movie)\n",
    "            file.write(line + \"\\n\")\n",
    "            \n",
    "def read_movies():\n",
    "    movie_list = []\n",
    "    with open(FILENAME) as file:\n",
    "        for line in file:\n",
    "            line = line.replace(\"\\n\", \"\")\n",
    "            movie = line.split(\"|\")\n",
    "            movie_list.append(movie)\n",
    "    return(movie_list)\n",
    "\n",
    "def list_movies(movie_list):\n",
    "    for i in range(len(movie_list)):\n",
    "        movie = movie_list[i]\n",
    "        print(str(i+1) + \". \" + movie[0] + \"|\" + movie[1])       \n",
    "    print()\n",
    "    \n",
    "def add_movie(movie_list):\n",
    "    name = input(\"Movie Name: \")\n",
    "    year = input(\"Movie Year: \")\n",
    "    movie = []\n",
    "    movie.append(name)\n",
    "    movie.append(year)\n",
    "    movie_list.append(movie)\n",
    "    write_movies(movie_list)\n",
    "    print(movie[0] + \" was added to the movie list.\\n\")\n",
    "    \n",
    "def delete_movie(movie_list):\n",
    "    number = int(input(\"Movie number: \"))\n",
    "    if number < 1 or number > len(movie_list):\n",
    "        print(\"Invalid movie number.\\n\")\n",
    "    else:\n",
    "        movie = movie_list.pop(number-1)\n",
    "        write_movies(movie_list)\n",
    "        print(movie[0] + \" was deleted.\\n\")\n",
    "        \n",
    "def display_menu():\n",
    "    print(\"The Movie  List Program\\n\")\n",
    "    print(\"list - List all movies\")\n",
    "    print(\"add - Add a movie\")\n",
    "    print(\"del - Delete a movie\")\n",
    "    print(\"exit - Exit program\")\n",
    "    \n",
    "\n",
    "def main():\n",
    "    movie_list = read_movies()\n",
    "    display_menu()\n",
    "    command = input(\"Enter Command: \")\n",
    "        \n",
    "    while (command.lower() != \"exit\"):\n",
    "        if command.lower() == \"list\":\n",
    "            list_movies(movie_list)\n",
    "            display_menu()\n",
    "            command = input(\"Enter Command: \")\n",
    "        elif command.lower() == \"add\":\n",
    "            add_movie(movie_list)\n",
    "            display_menu()\n",
    "            command = input(\"Enter Command: \")\n",
    "        elif command.lower() == \"del\":\n",
    "            delete_movie(movie_list)\n",
    "            display_menu()\n",
    "            command = input(\"Enter Command: \")\n",
    "        elif command.lower() == \"exit\":\n",
    "            continue\n",
    "        else:\n",
    "            print(\"Not a valid command.  Please try again.\\n\")\n",
    "            command = input(\"Enter Command: \")\n",
    "               \n",
    "    print(\"You'll be back!\")     \n",
    "        \n",
    "if __name__ == \"__main__\":\n",
    "    main()"
   ]
  },
  {
   "cell_type": "code",
   "execution_count": null,
   "metadata": {},
   "outputs": [],
   "source": []
  },
  {
   "cell_type": "code",
   "execution_count": null,
   "metadata": {},
   "outputs": [],
   "source": [
    "# count the words in a text that's read from a text file\n",
    "\n",
    "def get_words_from_file(filename):\n",
    "    \n",
    "    # read string from a file\n",
    "    with open(filename) as file:\n",
    "        text = file.read()\n",
    "        \n",
    "    # remove commas, periods and newlines... convert to lower case\n",
    "    text = text.replace(\"\\n\", \" \")\n",
    "    text = text.replace(\",\", \"\")\n",
    "    text = text.replace(\".\", \"\")\n",
    "    text = text.lower()\n",
    "    print(text)\n",
    "    \n",
    "    # convert the string to a sorted list and return it\n",
    "    words = text.split(\" \")\n",
    "    words.sort()\n",
    "    return(words)\n",
    "\n",
    "def get_unique_words(words):\n",
    "    unique_words = []\n",
    "    unique_words.append(words[0])\n",
    "    \n",
    "    for i in range(1, len(words)):\n",
    "        if words[i] == words[i - 1]:\n",
    "            continue\n",
    "        else:\n",
    "            unique_words.append(words[i])\n",
    "    return unique_words\n",
    "\n",
    "def main():\n",
    "    filename = \"pledge.txt\"\n",
    "    print(\"The Word Counter Program\\n\")\n",
    "    \n",
    "    # get words and unique words\n",
    "    words = get_words_from_file(filename)\n",
    "    unique_words = get_unique_words(words)\n",
    "    \n",
    "    # display number of words and unique words\n",
    "    print(\"Number of words =\", len(words))\n",
    "    print(\"Number of unique words = \", len(unique_words))\n",
    "    \n",
    "    # display unique words and their word counts\n",
    "    print(\"Unique word occurrences:\")\n",
    "    for word in unique_words:\n",
    "        print(\"   \", word, \"=\", words.count(word))\n",
    "        \n",
    "if __name__ == \"__main__\":\n",
    "    main()\n",
    "    \n",
    "        "
   ]
  },
  {
   "cell_type": "code",
   "execution_count": 22,
   "metadata": {},
   "outputs": [
    {
     "name": "stdout",
     "output_type": "stream",
     "text": [
      "The word economy appears 14 times in the text.\n"
     ]
    }
   ],
   "source": [
    "# Count the number of times a search term appears in a text transcript\n",
    "\n",
    "def main():\n",
    "    search_string = \"economy\"\n",
    "    count = 0\n",
    "    with open(\"DebateTranscript.txt\") as infile:\n",
    "        for line in infile:\n",
    "            if search_string in line:\n",
    "                count = count + 1\n",
    "            \n",
    "    print(\"The word\", search_string, \"appears\", count,\n",
    "          \"times in the text.\")\n",
    "    infile.close()\n",
    "    \n",
    "if __name__ == \"__main__\":\n",
    "    main()"
   ]
  },
  {
   "cell_type": "code",
   "execution_count": null,
   "metadata": {},
   "outputs": [],
   "source": []
  }
 ],
 "metadata": {
  "kernelspec": {
   "display_name": "Python 3",
   "language": "python",
   "name": "python3"
  },
  "language_info": {
   "codemirror_mode": {
    "name": "ipython",
    "version": 3
   },
   "file_extension": ".py",
   "mimetype": "text/x-python",
   "name": "python",
   "nbconvert_exporter": "python",
   "pygments_lexer": "ipython3",
   "version": "3.7.3"
  }
 },
 "nbformat": 4,
 "nbformat_minor": 2
}
