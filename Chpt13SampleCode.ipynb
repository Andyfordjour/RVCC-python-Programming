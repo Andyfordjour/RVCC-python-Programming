{
 "cells": [
  {
   "cell_type": "code",
   "execution_count": 7,
   "metadata": {},
   "outputs": [
    {
     "name": "stdout",
     "output_type": "stream",
     "text": [
      "15\n",
      "\n",
      "15\n",
      "\n"
     ]
    }
   ],
   "source": [
    "# an iterative function that sums all the numbers from 0 to an upper limit\n",
    "def add_numbers(upper):\n",
    "    total = 0\n",
    "    for number in range(upper + 1):\n",
    "        total += number\n",
    "    return total\n",
    "\n",
    "# recursion which uses deferred action\n",
    "def add_number(upper):\n",
    "    if upper == 0:\n",
    "        return upper\n",
    "    else:\n",
    "        return upper + add_number(upper-1)\n",
    "    \n",
    "def main():\n",
    "    total = add_numbers(5)\n",
    "    print(total)\n",
    "    print()\n",
    "    \n",
    "    result = add_number(5)\n",
    "    print(result)\n",
    "    print()\n",
    "    \n",
    "if __name__ == \"__main__\":\n",
    "    main()\n",
    "    "
   ]
  },
  {
   "cell_type": "code",
   "execution_count": 8,
   "metadata": {},
   "outputs": [
    {
     "name": "stdout",
     "output_type": "stream",
     "text": [
      "120\n"
     ]
    }
   ],
   "source": [
    "# recursive factorial\n",
    "\n",
    "def factorial(num):\n",
    "    if num == 0:\n",
    "        return 1\n",
    "    else:\n",
    "        return num * factorial(num - 1)\n",
    "    \n",
    "def main():\n",
    "    print(factorial(5))\n",
    "\n",
    "if __name__ == \"__main__\":\n",
    "    main()\n"
   ]
  },
  {
   "cell_type": "code",
   "execution_count": 11,
   "metadata": {},
   "outputs": [
    {
     "name": "stdout",
     "output_type": "stream",
     "text": [
      "120\n"
     ]
    }
   ],
   "source": [
    "# iterative factorial\n",
    "def factorial(num):\n",
    "    fact = 1\n",
    "    for number in range(1, num + 1):\n",
    "        fact = number * fact\n",
    "    return fact\n",
    "\n",
    "def main():\n",
    "    print(factorial(5))\n",
    "\n",
    "if __name__ == \"__main__\":\n",
    "    main()\n"
   ]
  },
  {
   "cell_type": "code",
   "execution_count": 16,
   "metadata": {},
   "outputs": [
    {
     "name": "stdout",
     "output_type": "stream",
     "text": [
      "0 1 1 2 3 "
     ]
    }
   ],
   "source": [
    "# fibonacci series\n",
    "\n",
    "def fib(n):\n",
    "    if n == 0:\n",
    "        return 0\n",
    "    elif n == 1:\n",
    "        return 1\n",
    "    else:\n",
    "        return fib(n - 1) + fib (n - 2)\n",
    "    \n",
    "def main():\n",
    "    for i in range(5):\n",
    "        print(fib(i), end = ' ')\n",
    "\n",
    "if __name__ == \"__main__\":\n",
    "    main()\n"
   ]
  },
  {
   "cell_type": "code",
   "execution_count": 21,
   "metadata": {},
   "outputs": [
    {
     "name": "stdout",
     "output_type": "stream",
     "text": [
      "5\n"
     ]
    }
   ],
   "source": [
    "# iterative fibonacci\n",
    "def fib(n):\n",
    "    if n == 0:\n",
    "        return 0\n",
    "    elif n == 1:\n",
    "        return 1\n",
    "    n1 =0\n",
    "    n2 = 1\n",
    "    fib = 0\n",
    "    for i in range(2, n + 1):\n",
    "        fib = n1 + n2\n",
    "        n1 = n2\n",
    "        n2 = fib\n",
    "    return fib\n",
    "\n",
    "def main():\n",
    "    print(fib(5))\n",
    "\n",
    "if __name__ == \"__main__\":\n",
    "    main()\n"
   ]
  },
  {
   "cell_type": "code",
   "execution_count": null,
   "metadata": {},
   "outputs": [],
   "source": []
  }
 ],
 "metadata": {
  "kernelspec": {
   "display_name": "Python 3",
   "language": "python",
   "name": "python3"
  },
  "language_info": {
   "codemirror_mode": {
    "name": "ipython",
    "version": 3
   },
   "file_extension": ".py",
   "mimetype": "text/x-python",
   "name": "python",
   "nbconvert_exporter": "python",
   "pygments_lexer": "ipython3",
   "version": "3.7.4"
  }
 },
 "nbformat": 4,
 "nbformat_minor": 2
}
