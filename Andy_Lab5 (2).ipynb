{
 "cells": [
  {
   "cell_type": "markdown",
   "id": "d99bc24b",
   "metadata": {},
   "source": [
    "### Author  Andy fordjour\n",
    "### Lab 5\n",
    "### problem 1\n"
   ]
  },
  {
   "cell_type": "code",
   "execution_count": 21,
   "id": "8b097497",
   "metadata": {},
   "outputs": [
    {
     "name": "stdout",
     "output_type": "stream",
     "text": [
      "Enter a number: 2\n",
      "Enter another number: 3\n",
      "\n",
      "*****\n",
      "*****\n",
      "*****\n",
      "*****\n",
      "*****\n"
     ]
    }
   ],
   "source": [
    "# Author Andy fordjour\n",
    "#this program add two numbers and displays the sumation with stars\n",
    "#a function to print 5 stars\n",
    "def print_stars():\n",
    "    \"\"\"the print_starts print to display 5 stars\n",
    "    \"\"\"\n",
    "    print(\"*****\")\n",
    "\n",
    "def add_them(num1,num2):\n",
    "    \"\"\" \n",
    "    the add_them function calculations to be returned \n",
    "    returns the calculated sumation for the function add_them \n",
    "    \"\"\"\n",
    "    sumation = int(num1+num2)\n",
    "    \n",
    "    return sumation\n",
    "\n",
    "#defining the main\n",
    "def main():\n",
    "    \"\"\"the main ask for user input and calls for the function  add_them funtion\n",
    "        and later iterate through to print out the stars\n",
    "    \"\"\"\n",
    "    num1 = int(input(\"Enter a number: \"))\n",
    "    num2 = int(input(\"Enter another number: \"))\n",
    "    \n",
    "    sumation = add_them(num1,num2)\n",
    "    print()\n",
    "    for i in range(sumation):\n",
    "        print_stars()\n",
    "              \n",
    "if __name__ ==\"__main__\":\n",
    "    main()"
   ]
  },
  {
   "cell_type": "markdown",
   "id": "6c561e09",
   "metadata": {},
   "source": [
    "### Author Andy Fordjour\n",
    "### Problem 2"
   ]
  },
  {
   "cell_type": "code",
   "execution_count": 23,
   "id": "f5317655",
   "metadata": {},
   "outputs": [
    {
     "name": "stdout",
     "output_type": "stream",
     "text": [
      "Welcome to the Even/Odd Tester!\n",
      "\n",
      "Enter an integer: 1120\n",
      "\n",
      "You entered 1120 which is an even number.\n",
      "\n",
      "Do you want to enter another number (y/n): n\n",
      "\n",
      "Hasta la vidta,baby\n"
     ]
    }
   ],
   "source": [
    "# Andy fordjour\n",
    "#this program test for even or odd and displays the integer and if its an even or odd number\n",
    "\n",
    "def integer_tester(integer):\n",
    "    \"\"\" the interger_tester use if statement to choose if integer is odd or even \n",
    "    \"\"\"\n",
    "    if integer %2 == 0:\n",
    "        print(\"You entered\",integer,\"which is an even number.\\n\")\n",
    "    else:\n",
    "        print(\"You entered\",integer,\"which is an odd number.\\n\")\n",
    "    \n",
    "#defining the main        \n",
    "def main():\n",
    "    print(\"Welcome to the Even/Odd Tester!\\n\")\n",
    "    \"\"\"the main ask for and integer and displays the output and ask user to continue or not\n",
    "    \"\"\"\n",
    "    choice = \"y\"\n",
    "    while choice.lower()==\"y\":\n",
    "    \n",
    "        #user input\n",
    "        integer = int(input(\"Enter an integer: \"))\n",
    "        print()\n",
    "        \n",
    "        integer = integer_tester(integer)\n",
    "      \n",
    "        \n",
    "        choice = input(\"Do you want to enter another number (y/n): \")\n",
    "        print()\n",
    "        \n",
    "    print(\"Hasta la vidta,baby\")\n",
    "    \n",
    "if __name__ ==\"__main__\":\n",
    "    main()"
   ]
  },
  {
   "cell_type": "code",
   "execution_count": null,
   "id": "de6d17f5",
   "metadata": {},
   "outputs": [],
   "source": []
  },
  {
   "cell_type": "code",
   "execution_count": null,
   "id": "523753b4",
   "metadata": {},
   "outputs": [],
   "source": []
  }
 ],
 "metadata": {
  "kernelspec": {
   "display_name": "Python 3",
   "language": "python",
   "name": "python3"
  }
 },
 "nbformat": 4,
 "nbformat_minor": 5
}
