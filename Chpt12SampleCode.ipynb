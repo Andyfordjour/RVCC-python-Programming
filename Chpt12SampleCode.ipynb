{
 "cells": [
  {
   "cell_type": "code",
   "execution_count": 1,
   "metadata": {},
   "outputs": [
    {
     "name": "stdout",
     "output_type": "stream",
     "text": [
      "{'Rita', 'Susana', 'Carly'}\n"
     ]
    }
   ],
   "source": [
    "# creating a set\n",
    "cast = {\"Rita\", \"Carly\", \"Susana\"}\n",
    "print(cast)"
   ]
  },
  {
   "cell_type": "code",
   "execution_count": 3,
   "metadata": {},
   "outputs": [
    {
     "name": "stdout",
     "output_type": "stream",
     "text": [
      "{'Rita', 'Susana', 'Carly'}\n"
     ]
    }
   ],
   "source": [
    "# no duplicates in a set\n",
    "cast = {\"Rita\", \"Carly\", \"Susana\", \"Rita\"}\n",
    "print(cast)"
   ]
  },
  {
   "cell_type": "code",
   "execution_count": 34,
   "metadata": {},
   "outputs": [
    {
     "name": "stdout",
     "output_type": "stream",
     "text": [
      "{}\n"
     ]
    }
   ],
   "source": [
    "# create an empty set\n",
    "# note the book says you can't create it this way...\n",
    "# and you will have problems... more later!\n",
    "cast ={}\n",
    "print(cast)"
   ]
  },
  {
   "cell_type": "code",
   "execution_count": 15,
   "metadata": {},
   "outputs": [
    {
     "name": "stdout",
     "output_type": "stream",
     "text": [
      "set()\n",
      "0\n",
      "{'Tobey', 'Smokey', 'Teddie'}\n"
     ]
    }
   ],
   "source": [
    "# create a set from a list\n",
    "names = [\"Tobey\", \"Teddie\", \"Smokey\"]\n",
    "\n",
    "cast = set()\n",
    "print(cast)\n",
    "print(len(cast))\n",
    "\n",
    "cast = set(names)\n",
    "print(cast)"
   ]
  },
  {
   "cell_type": "code",
   "execution_count": 12,
   "metadata": {},
   "outputs": [
    {
     "name": "stdout",
     "output_type": "stream",
     "text": [
      "The list before conversion is : [3, 4, 1, 4, 5]\n",
      "The tuple before conversion is : (3, 4, 1, 4, 5)\n",
      "The list after conversion is : {1, 3, 4, 5}\n",
      "The tuple after conversion is : {1, 3, 4, 5}\n"
     ]
    }
   ],
   "source": [
    "# creating a set() from list and tuple \n",
    "  \n",
    "# initializing list  \n",
    "list1 = [ 3, 4, 1, 4, 5 ] \n",
    "  \n",
    "# initializing tuple \n",
    "tuple1 = (3, 4, 1, 4, 5) \n",
    "  \n",
    "# Printing iterables before conversion \n",
    "print(\"The list before conversion is : \" + str(list1)) \n",
    "print(\"The tuple before conversion is : \" + str(tuple1)) \n",
    "  \n",
    "# Iterables after conversion are  \n",
    "# notice distinct and sorted elements \n",
    "print(\"The list after conversion is : \" + str(set(list1))) \n",
    "print(\"The tuple after conversion is : \" + str(set(tuple1))) "
   ]
  },
  {
   "cell_type": "code",
   "execution_count": 25,
   "metadata": {},
   "outputs": [
    {
     "name": "stdout",
     "output_type": "stream",
     "text": [
      "3\n"
     ]
    }
   ],
   "source": [
    "# get the number of elements in the set\n",
    "names = {\"Tobey\", \"Teddie\", \"Smokey\", \"Tobey\"}\n",
    "\n",
    "numElements = len(names)\n",
    "print(numElements)"
   ]
  },
  {
   "cell_type": "code",
   "execution_count": 24,
   "metadata": {},
   "outputs": [
    {
     "name": "stdout",
     "output_type": "stream",
     "text": [
      "Smokey is a member of the set names!\n",
      "The members of the set names includes:\n",
      "Tobey\n",
      "Smokey\n",
      "Teddie\n"
     ]
    }
   ],
   "source": [
    "# using the in operator\n",
    "names = {\"Tobey\", \"Teddie\", \"Smokey\", \"Tobey\"}\n",
    "if \"Smokey\" in names:\n",
    "    print(\"Smokey is a member of the set names!\")\n",
    "else:\n",
    "    print(\"Smokey is not a member of the set names!\")\n",
    "    \n",
    "print(\"The members of the set names includes:\")\n",
    "for name in names:\n",
    "    print(name)"
   ]
  },
  {
   "cell_type": "code",
   "execution_count": 28,
   "metadata": {},
   "outputs": [
    {
     "name": "stdout",
     "output_type": "stream",
     "text": [
      "{'Tobey', 'Smokey', 'Teddie'}\n",
      "{'Tobey', 'Koda', 'Smokey', 'Munchie', 'Teddie'}\n"
     ]
    }
   ],
   "source": [
    "# adding to an existing set\n",
    "names = set([\"Tobey\", \"Teddie\", \"Smokey\"])  \n",
    "print(names)\n",
    "\n",
    "names.add(\"Koda\")                         \n",
    "names.add(\"Munchie\")\n",
    "names.add(\"Smokey\")\n",
    "\n",
    "print(names)"
   ]
  },
  {
   "cell_type": "code",
   "execution_count": 29,
   "metadata": {},
   "outputs": [
    {
     "name": "stdout",
     "output_type": "stream",
     "text": [
      "{'Tobey', 'Smokey', 'Teddie'}\n",
      "{'Tobey', 'Teddie'}\n",
      "{'Tobey', 'Teddie'}\n"
     ]
    }
   ],
   "source": [
    "# discard an element\n",
    "# no exception if the element is not there\n",
    "names = {\"Tobey\", \"Teddie\", \"Smokey\"}  \n",
    "print(names)\n",
    "\n",
    "names.discard(\"Smokey\")  \n",
    "print(names)\n",
    "names.discard(\"Koda\")\n",
    "print(names)\n"
   ]
  },
  {
   "cell_type": "code",
   "execution_count": 30,
   "metadata": {},
   "outputs": [
    {
     "name": "stdout",
     "output_type": "stream",
     "text": [
      "{'Tobey', 'Smokey', 'Teddie'}\n",
      "{'Tobey', 'Teddie'}\n"
     ]
    },
    {
     "ename": "KeyError",
     "evalue": "'Koda'",
     "output_type": "error",
     "traceback": [
      "\u001b[1;31m---------------------------------------------------------------------------\u001b[0m",
      "\u001b[1;31mKeyError\u001b[0m                                  Traceback (most recent call last)",
      "\u001b[1;32m<ipython-input-30-3556fc181483>\u001b[0m in \u001b[0;36m<module>\u001b[1;34m()\u001b[0m\n\u001b[0;32m      6\u001b[0m \u001b[0mnames\u001b[0m\u001b[1;33m.\u001b[0m\u001b[0mremove\u001b[0m\u001b[1;33m(\u001b[0m\u001b[1;34m\"Smokey\"\u001b[0m\u001b[1;33m)\u001b[0m\u001b[1;33m\u001b[0m\u001b[0m\n\u001b[0;32m      7\u001b[0m \u001b[0mprint\u001b[0m\u001b[1;33m(\u001b[0m\u001b[0mnames\u001b[0m\u001b[1;33m)\u001b[0m\u001b[1;33m\u001b[0m\u001b[0m\n\u001b[1;32m----> 8\u001b[1;33m \u001b[0mnames\u001b[0m\u001b[1;33m.\u001b[0m\u001b[0mremove\u001b[0m\u001b[1;33m(\u001b[0m\u001b[1;34m\"Koda\"\u001b[0m\u001b[1;33m)\u001b[0m\u001b[1;33m\u001b[0m\u001b[0m\n\u001b[0m\u001b[0;32m      9\u001b[0m \u001b[0mprint\u001b[0m\u001b[1;33m(\u001b[0m\u001b[0mnames\u001b[0m\u001b[1;33m)\u001b[0m\u001b[1;33m\u001b[0m\u001b[0m\n",
      "\u001b[1;31mKeyError\u001b[0m: 'Koda'"
     ]
    }
   ],
   "source": [
    "# remove an element\n",
    "# exception if the element is not there\n",
    "names = {\"Tobey\", \"Teddie\", \"Smokey\"}  \n",
    "print(names)\n",
    "\n",
    "names.remove(\"Smokey\")  \n",
    "print(names)\n",
    "names.remove(\"Koda\")\n",
    "print(names)"
   ]
  },
  {
   "cell_type": "code",
   "execution_count": 31,
   "metadata": {},
   "outputs": [
    {
     "name": "stdout",
     "output_type": "stream",
     "text": [
      "{'Tobey', 'Smokey', 'Teddie'}\n",
      "set()\n"
     ]
    }
   ],
   "source": [
    "# clear()\n",
    "names = {\"Tobey\", \"Teddie\", \"Smokey\"}  \n",
    "print(names)\n",
    "\n",
    "names.clear()\n",
    "print(names)"
   ]
  },
  {
   "cell_type": "code",
   "execution_count": 37,
   "metadata": {},
   "outputs": [
    {
     "name": "stdout",
     "output_type": "stream",
     "text": [
      "All Canadian flag colors occur in the British flag.\n",
      "At least one of the colors in the Italian flag does not.\n"
     ]
    }
   ],
   "source": [
    "# issubset()\n",
    "\n",
    "canadian = { \"Red\", \"White\" }\n",
    "british = { \"Red\", \"Blue\", \"White\" }\n",
    "italian = { \"Red\", \"White\", \"Green\" }\n",
    "\n",
    "# True\n",
    "if canadian.issubset(british):\n",
    "    print(\"All Canadian flag colors occur in the British flag.\")\n",
    "\n",
    "# True\n",
    "if not italian.issubset(british):\n",
    "    print(\"At least one of the colors in the Italian flag does not.\")\n"
   ]
  },
  {
   "cell_type": "code",
   "execution_count": 42,
   "metadata": {
    "scrolled": true
   },
   "outputs": [
    {
     "name": "stdout",
     "output_type": "stream",
     "text": [
      "The British and French flags use the same colors.\n",
      "The colors of British and Italian flags together:  {'Red', 'White', 'Green', 'Blue'}\n",
      "The colors that are in both the British and Italian flags are:  {'Red', 'White'}\n",
      "Colors that are in the Italian flag but not the British:\n",
      "{'Green'}\n",
      "Colors that are in the British flag but not the Italian:\n",
      "{'Blue'}\n"
     ]
    }
   ],
   "source": [
    "# set equality\n",
    "french = { \"Red\", \"White\", \"Blue\" }\n",
    "canadian = { \"Red\", \"White\" }\n",
    "british = { \"Red\", \"Blue\", \"White\" }\n",
    "italian = { \"Red\", \"White\", \"Green\" }\n",
    "\n",
    "if british == french :\n",
    "    print(\"The British and French flags use the same colors.\")\n",
    "    \n",
    "# set union  \n",
    "inEither = british.union(italian)\n",
    "print(\"The colors of British and Italian flags together: \", inEither)\n",
    "  \n",
    "# set intersection\n",
    "inBoth = british.intersection(italian)\n",
    "print(\"The colors that are in both the British and Italian flags are: \", inBoth)\n",
    "\n",
    "# set difference\n",
    "print(\"Colors that are in the Italian flag but not the British:\")\n",
    "print(italian.difference(british)) \n",
    "\n",
    "# set difference\n",
    "print(\"Colors that are in the British flag but not the Italian:\")\n",
    "print(british.difference(italian)) "
   ]
  },
  {
   "cell_type": "code",
   "execution_count": null,
   "metadata": {},
   "outputs": [],
   "source": []
  },
  {
   "cell_type": "code",
   "execution_count": 1,
   "metadata": {},
   "outputs": [
    {
     "name": "stdout",
     "output_type": "stream",
     "text": [
      "{'CA': 'Canada', 'US': 'United States', 'MX': 'Mexico'}\n",
      "{1: 'One', 2: 'Two', 3: 'Three'}\n",
      "{'name': 'A Star Is Born', 'year': 2018, 'price': 12.0}\n",
      "{}\n"
     ]
    }
   ],
   "source": [
    "# dictionaries\n",
    "\n",
    "# using string as keys and values\n",
    "countries = {\"CA\": \"Canada\",\n",
    "             \"US\": \"United States\",\n",
    "             \"MX\": \"Mexico\"}\n",
    "\n",
    "print(countries)\n",
    "\n",
    "# numbers as keys, strings as values\n",
    "numbers = {\n",
    "            1: \"One\",\n",
    "            2: \"Two\",\n",
    "            3: \"Three\"\n",
    "          }\n",
    "\n",
    "print(numbers)\n",
    "\n",
    "# strings as keys, values of mixed types\n",
    "movie = {\"name\": \"A Star Is Born\",\n",
    "         \"year\": 2018,\n",
    "         \"price\": 12.00}\n",
    "\n",
    "print(movie)\n",
    "\n",
    "# create an empty dictionary\n",
    "book_catalog = {}\n",
    "print(book_catalog)"
   ]
  },
  {
   "cell_type": "code",
   "execution_count": 2,
   "metadata": {},
   "outputs": [
    {
     "name": "stdout",
     "output_type": "stream",
     "text": [
      "Mexico\n"
     ]
    },
    {
     "ename": "KeyError",
     "evalue": "'GB'",
     "output_type": "error",
     "traceback": [
      "\u001b[1;31m---------------------------------------------------------------------------\u001b[0m",
      "\u001b[1;31mKeyError\u001b[0m                                  Traceback (most recent call last)",
      "\u001b[1;32m<ipython-input-2-cdb15a92161a>\u001b[0m in \u001b[0;36m<module>\u001b[1;34m()\u001b[0m\n\u001b[0;32m      9\u001b[0m \u001b[1;31m# This will give you a key error because\u001b[0m\u001b[1;33m\u001b[0m\u001b[1;33m\u001b[0m\u001b[0m\n\u001b[0;32m     10\u001b[0m \u001b[1;31m# the key does not exist\u001b[0m\u001b[1;33m\u001b[0m\u001b[1;33m\u001b[0m\u001b[0m\n\u001b[1;32m---> 11\u001b[1;33m \u001b[0mcountry_error\u001b[0m \u001b[1;33m=\u001b[0m \u001b[0mcountries\u001b[0m\u001b[1;33m[\u001b[0m\u001b[1;34m\"GB\"\u001b[0m\u001b[1;33m]\u001b[0m\u001b[1;33m\u001b[0m\u001b[0m\n\u001b[0m",
      "\u001b[1;31mKeyError\u001b[0m: 'GB'"
     ]
    }
   ],
   "source": [
    "# using string as keys and values\n",
    "countries = {\"CA\": \"Canada\",\n",
    "             \"US\": \"United States\",\n",
    "             \"MX\": \"Mexico\"}\n",
    "\n",
    "country = countries[\"MX\"]\n",
    "print(country)\n",
    "\n",
    "# This will give you a key error because\n",
    "# the key does not exist\n",
    "country_error = countries[\"GB\"]"
   ]
  },
  {
   "cell_type": "code",
   "execution_count": 1,
   "metadata": {},
   "outputs": [
    {
     "name": "stdout",
     "output_type": "stream",
     "text": [
      "{'CA': 'Canada', 'US': 'United States', 'MX': 'Mexico', 'GB': 'Great Britain', 'FR': 'France'}\n",
      "{'CA': 'Canada', 'US': 'United States', 'MX': 'Mexico', 'GB': 'United Kingdom', 'FR': 'France'}\n",
      "There is not country for this code: IE\n",
      "Mexico\n",
      "None\n"
     ]
    },
    {
     "ename": "TypeError",
     "evalue": "unsupported operand type(s) for -: 'NoneType' and 'str'",
     "output_type": "error",
     "traceback": [
      "\u001b[1;31m---------------------------------------------------------------------------\u001b[0m",
      "\u001b[1;31mTypeError\u001b[0m                                 Traceback (most recent call last)",
      "\u001b[1;32m<ipython-input-1-da15c6a1c2a0>\u001b[0m in \u001b[0;36m<module>\u001b[1;34m()\u001b[0m\n\u001b[0;32m     27\u001b[0m \u001b[0mprint\u001b[0m\u001b[1;33m(\u001b[0m\u001b[0mcountry\u001b[0m\u001b[1;33m)\u001b[0m\u001b[1;33m\u001b[0m\u001b[0m\n\u001b[0;32m     28\u001b[0m \u001b[1;33m\u001b[0m\u001b[0m\n\u001b[1;32m---> 29\u001b[1;33m \u001b[0mcountry\u001b[0m \u001b[1;33m-\u001b[0m \u001b[0mcountries\u001b[0m\u001b[1;33m.\u001b[0m\u001b[0mget\u001b[0m\u001b[1;33m(\u001b[0m\u001b[1;34m\"IE\"\u001b[0m\u001b[1;33m,\u001b[0m \u001b[1;34m\"unknown\"\u001b[0m\u001b[1;33m)\u001b[0m\u001b[1;33m\u001b[0m\u001b[0m\n\u001b[0m\u001b[0;32m     30\u001b[0m \u001b[1;31m# unknown is the default instead of putting none, but does not work\u001b[0m\u001b[1;33m\u001b[0m\u001b[1;33m\u001b[0m\u001b[0m\n\u001b[0;32m     31\u001b[0m \u001b[0mprint\u001b[0m\u001b[1;33m(\u001b[0m\u001b[0mcountry\u001b[0m\u001b[1;33m)\u001b[0m\u001b[1;33m\u001b[0m\u001b[0m\n",
      "\u001b[1;31mTypeError\u001b[0m: unsupported operand type(s) for -: 'NoneType' and 'str'"
     ]
    }
   ],
   "source": [
    "# using string as keys and values\n",
    "countries = {\"CA\": \"Canada\",\n",
    "             \"US\": \"United States\",\n",
    "             \"MX\": \"Mexico\"}\n",
    "\n",
    "countries[\"GB\"] = \"Great Britain\"\n",
    "countries[\"FR\"] = \"France\"\n",
    "print(countries)\n",
    "\n",
    "countries[\"GB\"] = \"United Kingdom\"\n",
    "print(countries)\n",
    "\n",
    "# usin the in keyword\n",
    "code = \"IE\"\n",
    "if code in countries:\n",
    "    country = countries[code]\n",
    "    print(country)\n",
    "else:\n",
    "    print(\"There is not country for this code: \" + code)\n",
    "    \n",
    "    \n",
    "# Using the get() method\n",
    "country = countries.get(\"MX\")\n",
    "print(country)\n",
    "\n",
    "country = countries.get(\"IE\")\n",
    "print(country)\n",
    "\n",
    "country - countries.get(\"IE\", \"unknown\")\n",
    "# unknown is the default instead of putting none, but does not work\n",
    "print(country)\n"
   ]
  },
  {
   "cell_type": "code",
   "execution_count": 2,
   "metadata": {},
   "outputs": [
    {
     "name": "stdout",
     "output_type": "stream",
     "text": [
      "{'CA': 'Canada', 'US': 'United States', 'MX': 'Mexico', 'GB': 'Great Britain', 'FR': 'France'}\n",
      "{'CA': 'Canada', 'US': 'United States', 'GB': 'Great Britain', 'FR': 'France'}\n",
      "There is no country for this code: IE\n",
      "United States\n"
     ]
    },
    {
     "ename": "KeyError",
     "evalue": "'IE'",
     "output_type": "error",
     "traceback": [
      "\u001b[1;31m---------------------------------------------------------------------------\u001b[0m",
      "\u001b[1;31mKeyError\u001b[0m                                  Traceback (most recent call last)",
      "\u001b[1;32m<ipython-input-2-135049829ac9>\u001b[0m in \u001b[0;36m<module>\u001b[1;34m()\u001b[0m\n\u001b[0;32m     28\u001b[0m \u001b[1;33m\u001b[0m\u001b[0m\n\u001b[0;32m     29\u001b[0m \u001b[1;31m# the following pop will give you a key error\u001b[0m\u001b[1;33m\u001b[0m\u001b[1;33m\u001b[0m\u001b[0m\n\u001b[1;32m---> 30\u001b[1;33m \u001b[0mcountry\u001b[0m \u001b[1;33m=\u001b[0m \u001b[0mcountries\u001b[0m\u001b[1;33m.\u001b[0m\u001b[0mpop\u001b[0m\u001b[1;33m(\u001b[0m\u001b[1;34m\"IE\"\u001b[0m\u001b[1;33m)\u001b[0m\u001b[1;33m\u001b[0m\u001b[0m\n\u001b[0m\u001b[0;32m     31\u001b[0m \u001b[1;31m#country = countries.pop(\"IE\", \"Unknown\")\u001b[0m\u001b[1;33m\u001b[0m\u001b[1;33m\u001b[0m\u001b[0m\n\u001b[0;32m     32\u001b[0m \u001b[0mprint\u001b[0m\u001b[1;33m(\u001b[0m\u001b[0mcountry\u001b[0m\u001b[1;33m)\u001b[0m\u001b[1;33m\u001b[0m\u001b[0m\n",
      "\u001b[1;31mKeyError\u001b[0m: 'IE'"
     ]
    }
   ],
   "source": [
    "# deleting items from the dictionary\n",
    "\n",
    "countries = {\"CA\": \"Canada\",\n",
    "             \"US\": \"United States\",\n",
    "             \"MX\": \"Mexico\"}\n",
    "\n",
    "countries[\"GB\"] = \"Great Britain\"\n",
    "countries[\"FR\"] = \"France\"\n",
    "print(countries)\n",
    "\n",
    "del countries[\"MX\"]\n",
    "print(countries)\n",
    "\n",
    "# will cause a KeyError\n",
    "#del countries[\"IE\"]\n",
    "\n",
    "code = \"IE\"\n",
    "if code in countries:\n",
    "    country = countries[code]\n",
    "    del countries[code]\n",
    "    print(country + \" was deleted.\")\n",
    "else:\n",
    "    print(\"There is no country for this code: \" + code)\n",
    "    \n",
    "# using pop() to remove an item from the list\n",
    "country = countries.pop(\"US\")\n",
    "print(country)\n",
    "\n",
    "# the following pop will give you a key error\n",
    "country = countries.pop(\"IE\")\n",
    "#country = countries.pop(\"IE\", \"Unknown\")\n",
    "print(country)\n",
    "\n",
    "print(countries)\n",
    "countries.clear()\n",
    "print(countries)"
   ]
  },
  {
   "cell_type": "code",
   "execution_count": 8,
   "metadata": {},
   "outputs": [
    {
     "name": "stdout",
     "output_type": "stream",
     "text": [
      "{'CA': 'Canada', 'US': 'United States', 'MX': 'Mexico', 'GB': 'Great Britain', 'FR': 'France'}\n",
      "CA     Canada\n",
      "US     United States\n",
      "MX     Mexico\n",
      "GB     Great Britain\n",
      "FR     France\n",
      "\n",
      "CA     Canada\n",
      "US     United States\n",
      "MX     Mexico\n",
      "GB     Great Britain\n",
      "FR     France\n",
      "\n",
      "CA      Canada\n",
      "US      United States\n",
      "MX      Mexico\n",
      "GB      Great Britain\n",
      "FR      France\n",
      "\n",
      "Canada\n",
      "United States\n",
      "Mexico\n",
      "Great Britain\n",
      "France\n",
      "\n"
     ]
    }
   ],
   "source": [
    "# using view iterators for dictionaries\n",
    "\n",
    "countries = {\"CA\": \"Canada\",\n",
    "             \"US\": \"United States\",\n",
    "             \"MX\": \"Mexico\"}\n",
    "\n",
    "countries[\"GB\"] = \"Great Britain\"\n",
    "countries[\"FR\"] = \"France\"\n",
    "print(countries)\n",
    "\n",
    "# using keys() method\n",
    "for code in countries.keys():\n",
    "    print(code + \"     \" + countries[code])\n",
    "print()\n",
    "\n",
    "# another way to get the same result\n",
    "for code in countries:\n",
    "    print(code + \"     \" + countries[code])\n",
    "print()\n",
    "\n",
    "# using the items() method\n",
    "# items() unpacks the tuple into code and name\n",
    "for code, name in countries.items():\n",
    "    print(code + \"      \" + name)\n",
    "print()\n",
    "\n",
    "# using the values() method\n",
    "for name in countries.values():\n",
    "    print(name)\n",
    "print()"
   ]
  },
  {
   "cell_type": "code",
   "execution_count": 9,
   "metadata": {},
   "outputs": [
    {
     "name": "stdout",
     "output_type": "stream",
     "text": [
      "{'CA': 'Canada', 'US': 'United States', 'MX': 'Mexico', 'GB': 'Great Britain', 'FR': 'France'}\n",
      "\n",
      "['CA', 'US', 'MX', 'GB', 'FR']\n",
      "\n",
      "CA      Canada\n",
      "FR      France\n",
      "GB      Great Britain\n",
      "MX      Mexico\n",
      "US      United States\n",
      "[['GB', 'United Kingdom'], ['SW', 'Sweden'], ['IT', 'Italy']]\n",
      "\n",
      "{'GB': 'United Kingdom', 'SW': 'Sweden', 'IT': 'Italy'}\n"
     ]
    }
   ],
   "source": [
    "# Using the built-in list() constructor\n",
    "countries = {\"CA\": \"Canada\",\n",
    "             \"US\": \"United States\",\n",
    "             \"MX\": \"Mexico\"}\n",
    "\n",
    "countries[\"GB\"] = \"Great Britain\"\n",
    "countries[\"FR\"] = \"France\"\n",
    "print(countries)\n",
    "print()\n",
    "\n",
    "# use list constructor to create a list object from \n",
    "# view object that is returned from the keys() method\n",
    "codes = list(countries.keys())\n",
    "print(codes)\n",
    "print()\n",
    "\n",
    "codes.sort()\n",
    "for code in codes:\n",
    "    print(code + \"      \" + countries[code])\n",
    "    \n",
    "\n",
    "# converting a 2-D list to a dictionary\n",
    "countries = [[\"GB\", \"United Kingdom\"],\n",
    "             [\"SW\", \"Sweden\"],\n",
    "             [\"IT\", \"Italy\"]]\n",
    "\n",
    "print(countries)\n",
    "print()\n",
    "\n",
    "countries = dict(countries)\n",
    "print(countries)\n"
   ]
  },
  {
   "cell_type": "code",
   "execution_count": 3,
   "metadata": {},
   "outputs": [
    {
     "name": "stdout",
     "output_type": "stream",
     "text": [
      "COMMAND MENU\n",
      "view - View country name\n",
      "add  - Add a country\n",
      "del  - Delete a country\n",
      "exit - Exit program\n",
      "\n",
      "Enter a command: view\n",
      "Country codes: CA MX US \n",
      "Enter country code: MX\n",
      "Country name: Mexico.\n",
      "\n",
      "Enter a command: view\n",
      "Country codes: CA MX US \n",
      "Enter country code: IT\n",
      "There is no country with that code.\n",
      "\n",
      "Enter a command: add\n",
      "Enter country code: ME\n",
      "Enter country name: Meme\n",
      "Meme was added.\n",
      "\n",
      "Enter Command: view\n",
      "Country codes: CA ME MX US \n",
      "Enter country code: ME\n",
      "Country name: Meme.\n",
      "\n",
      "Enter a command: del\n",
      "Enter country code: MS\n",
      "there is no country with that code. \n",
      "\n",
      "Enter Command: ME\n",
      "Not a valid command.  Please try again.\n",
      "\n",
      "Enter Command: del\n",
      "Enter country code: ME\n",
      "Meme was deleted.\n",
      "\n",
      "Enter Command: view\n",
      "Country codes: CA MX US \n",
      "Enter country code: exit\n",
      "There is no country with that code.\n",
      "\n",
      "Enter a command: exit\n",
      "You'll be back!\n"
     ]
    }
   ],
   "source": [
    "# country code program\n",
    "\n",
    "def display_menu():\n",
    "    print(\"COMMAND MENU\")\n",
    "    print(\"view - View country name\")\n",
    "    print(\"add  - Add a country\")\n",
    "    print(\"del  - Delete a country\")\n",
    "    print(\"exit - Exit program\\n\")\n",
    "    \n",
    "def display_codes(countries):\n",
    "    codes = list(countries.keys())\n",
    "    codes.sort()\n",
    "    line = \"Country codes: \"\n",
    "    for code in codes:\n",
    "        line += code + \" \"\n",
    "    print(line)\n",
    "    \n",
    "def view(countries):\n",
    "    display_codes(countries)\n",
    "    code = input(\"Enter country code: \")\n",
    "    code = code.upper()\n",
    "    if code in countries:\n",
    "        name = countries[code]\n",
    "        print(\"Country name: \" + name + \".\\n\")\n",
    "    else:\n",
    "        print(\"There is no country with that code.\\n\")\n",
    "        \n",
    "def add(countries):\n",
    "    code = input(\"Enter country code: \")\n",
    "    code = code.upper()\n",
    "    if code in countries:\n",
    "        name = countries[code]\n",
    "        print(name + \" is already using this code.\\n\")\n",
    "    else:\n",
    "        name = input(\"Enter country name: \")\n",
    "        name = name.title()\n",
    "        countries[code] = name\n",
    "        print(name +  \" was added.\\n\")\n",
    "        \n",
    "def delete(countries):\n",
    "    code = input(\"Enter country code: \")\n",
    "    code = code.upper()\n",
    "    if code in countries:\n",
    "        name = countries.pop(code)\n",
    "        print(name + \" was deleted.\\n\")\n",
    "    else:\n",
    "        print(\"there is no country with that code. \\n\")\n",
    "        \n",
    "def main():\n",
    "    countries = {\"CA\": \"Canada\",\n",
    "                 \"US\": \"United States\",\n",
    "                 \"MX\": \"Mexico\"}\n",
    "    \n",
    "    display_menu()\n",
    "    command = input(\"Enter a command: \")\n",
    "        \n",
    "    while (command.lower() != \"exit\"):\n",
    "        command = command.lower()\n",
    "        if command == \"view\":\n",
    "            view(countries)\n",
    "            command = input(\"Enter a command: \")\n",
    "        elif command == \"add\":\n",
    "            add(countries)\n",
    "            command = input(\"Enter Command: \")\n",
    "        elif command == \"del\":\n",
    "            delete(countries)\n",
    "            command = input(\"Enter Command: \")\n",
    "        elif command.lower() == \"exit\":\n",
    "            continue\n",
    "        else:\n",
    "            print(\"Not a valid command.  Please try again.\\n\")\n",
    "            command = input(\"Enter Command: \")\n",
    "\n",
    "    print(\"You'll be back!\")     \n",
    "        \n",
    "if __name__ == \"__main__\":\n",
    "    main()"
   ]
  },
  {
   "cell_type": "code",
   "execution_count": 4,
   "metadata": {},
   "outputs": [
    {
     "name": "stdout",
     "output_type": "stream",
     "text": [
      "The Word Counter Program- revised!\n",
      "\n",
      "i pledge allegiance to the flag of the united states of america and to the republic for which it stands one nation under god indivisible with liberty and justice for all\n",
      "all = 1\n",
      "allegiance = 1\n",
      "america = 1\n",
      "and = 2\n",
      "flag = 1\n",
      "for = 2\n",
      "god = 1\n",
      "i = 1\n",
      "indivisible = 1\n",
      "it = 1\n",
      "justice = 1\n",
      "liberty = 1\n",
      "nation = 1\n",
      "of = 2\n",
      "one = 1\n",
      "pledge = 1\n",
      "republic = 1\n",
      "stands = 1\n",
      "states = 1\n",
      "the = 3\n",
      "to = 2\n",
      "under = 1\n",
      "united = 1\n",
      "which = 1\n",
      "with = 1\n"
     ]
    }
   ],
   "source": [
    "# word count program revised\n",
    "\n",
    "# count the words in a text that's read from a text file\n",
    "def get_words_from_file(filename):\n",
    "    \n",
    "    # read string from a file\n",
    "    with open(filename) as file:\n",
    "        text = file.read()\n",
    "        \n",
    "    # remove commas, periods and newlines... convert to lower case\n",
    "    text = text.replace(\"\\n\", \" \")\n",
    "    text = text.replace(\",\", \"\")\n",
    "    text = text.replace(\".\", \"\")\n",
    "    text = text.lower()\n",
    "    print(text)\n",
    "    \n",
    "    # convert the string to a sorted list and return it\n",
    "    words = text.split(\" \")\n",
    "    words.sort()\n",
    "    return(words)\n",
    "\n",
    "def count_words(words):\n",
    "    # define a dictionary to store the word count\n",
    "    word_count = {}\n",
    "    for word in words:\n",
    "        if word in word_count:\n",
    "            word_count[word] += 1\n",
    "        else:\n",
    "            word_count[word] = 1\n",
    "    return word_count\n",
    "\n",
    "def display_word_count(word_count):\n",
    "    words = list(word_count.keys())\n",
    "    words.sort(key=str.lower)\n",
    "    for word in words:\n",
    "        count = word_count[word]\n",
    "        print(word, \"=\", count)\n",
    "\n",
    "def main():\n",
    "    print(\"The Word Counter Program- revised!\\n\")\n",
    "    filename = \"pledge.txt\"\n",
    "    \n",
    "    # get words and unique words\n",
    "    words = get_words_from_file(filename)\n",
    "    word_count = count_words(words)\n",
    "    \n",
    "    # display number of words and unique words\n",
    "    display_word_count(word_count)\n",
    "        \n",
    "if __name__ == \"__main__\":\n",
    "    main()\n",
    "    "
   ]
  },
  {
   "cell_type": "code",
   "execution_count": 15,
   "metadata": {},
   "outputs": [
    {
     "name": "stdout",
     "output_type": "stream",
     "text": [
      "{'Joel': {'address': '1500 Any Street', 'city': 'San Francisco', 'state': 'California', 'postalCode': '94110', 'phone': '555-555-1111'}, 'Cindy': {'address': '1000 Some Street', 'city': 'Fresno', 'state': 'California', 'postalCode': '93704', 'phone': '125-555-2222'}, 'Mike': {'address': '4000 Other Street', 'city': 'Hollywood', 'state': 'California', 'postalCode': '90210', 'phone': '123-456-7890'}}\n",
      "\n",
      "125-555-2222\n",
      "\n",
      "Sorry, there is no email address for this contact.\n",
      "123-456-7890\n",
      "\n",
      "None\n",
      "\n",
      "None\n",
      "\n",
      "[85, 95, 100]\n",
      "\n",
      "95\n"
     ]
    }
   ],
   "source": [
    " # dictionary that contains other dictionaries\n",
    "contacts = {\n",
    "            \"Joel\":\n",
    "                {\"address\": \"1500 Any Street\", \"city\": \"San Francisco\",\n",
    "                 \"state\": \"California\", \"postalCode\": \"94110\",\n",
    "                 \"phone\": \"555-555-1111\"},\n",
    "             \"Cindy\":\n",
    "                {\"address\": \"1000 Some Street\", \"city\": \"Fresno\",\n",
    "                    \"state\": \"California\", \"postalCode\": \"93704\",\n",
    "                    \"phone\": \"125-555-2222\"},\n",
    "             \"Mike\":\n",
    "                {\"address\": \"4000 Other Street\", \"city\": \"Hollywood\",\n",
    "                 \"state\": \"California\", \"postalCode\": \"90210\",\n",
    "                \"phone\": \"123-456-7890\"}\n",
    "        \n",
    "    }\n",
    "    \n",
    "print(contacts)\n",
    "print()\n",
    "\n",
    "phone = contacts[\"Cindy\"][\"phone\"]\n",
    "print(phone)\n",
    "print()\n",
    "\n",
    "#email = contacts[\"Mike\"][\"email\"]\n",
    "\n",
    "# code to check whether a key exists within another key\n",
    "key = \"email\"\n",
    "if key in contacts[\"Cindy\"]:\n",
    "    email = contacts[\"Cindy\"][key]\n",
    "    print(email)\n",
    "else:\n",
    "    print(\"Sorry, there is no email address for this contact.\")\n",
    "    \n",
    "# using the get() method with embedded dictionaries\n",
    "phone = contacts.get(\"Mike\").get(\"phone\")\n",
    "print(phone)\n",
    "print()\n",
    "\n",
    "# if it doesn't exist print none\n",
    "email = contacts.get(\"Cindy\").get(\"email\")\n",
    "print(email)\n",
    "print()\n",
    "\n",
    "# if main key does not exist AttributeError\n",
    "#phone = contacts.get(\"John\").get(\"phone\")\n",
    "#print(phone)\n",
    "#print()\n",
    "\n",
    "# this way does not cause AttributeError\n",
    "phone = contacts.get(\"John\", {}).get(\"phone\")\n",
    "print(phone)\n",
    "print()\n",
    "\n",
    "# dictionary that contains lists as values\n",
    "students = {\"Maria\": [85, 95, 100],\n",
    "            \"Irene\": [95, 100, 100],\n",
    "            \"Paula\": [100, 90, 80]}\n",
    "\n",
    "scores = students[\"Maria\"]\n",
    "print(scores)\n",
    "print()\n",
    "irene_score1 = students[\"Irene\"][0]\n",
    "print(irene_score1)"
   ]
  },
  {
   "cell_type": "code",
   "execution_count": null,
   "metadata": {},
   "outputs": [],
   "source": []
  }
 ],
 "metadata": {
  "kernelspec": {
   "display_name": "Python 3",
   "language": "python",
   "name": "python3"
  },
  "language_info": {
   "codemirror_mode": {
    "name": "ipython",
    "version": 3
   },
   "file_extension": ".py",
   "mimetype": "text/x-python",
   "name": "python",
   "nbconvert_exporter": "python",
   "pygments_lexer": "ipython3",
   "version": "3.6.5"
  }
 },
 "nbformat": 4,
 "nbformat_minor": 2
}
