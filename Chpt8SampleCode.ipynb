{
 "cells": [
  {
   "cell_type": "code",
   "execution_count": 1,
   "metadata": {},
   "outputs": [
    {
     "name": "stdout",
     "output_type": "stream",
     "text": [
      "Enter a valild integer: a\n"
     ]
    },
    {
     "ename": "ValueError",
     "evalue": "invalid literal for int() with base 10: 'a'",
     "output_type": "error",
     "traceback": [
      "\u001b[1;31m---------------------------------------------------------------------------\u001b[0m",
      "\u001b[1;31mValueError\u001b[0m                                Traceback (most recent call last)",
      "\u001b[1;32m<ipython-input-1-c8d3d229d4de>\u001b[0m in \u001b[0;36m<module>\u001b[1;34m\u001b[0m\n\u001b[1;32m----> 1\u001b[1;33m \u001b[0mresult\u001b[0m \u001b[1;33m=\u001b[0m \u001b[0mint\u001b[0m\u001b[1;33m(\u001b[0m\u001b[0minput\u001b[0m\u001b[1;33m(\u001b[0m\u001b[1;34m\"Enter a valild integer: \"\u001b[0m\u001b[1;33m)\u001b[0m\u001b[1;33m)\u001b[0m\u001b[1;33m\u001b[0m\u001b[1;33m\u001b[0m\u001b[0m\n\u001b[0m\u001b[0;32m      2\u001b[0m \u001b[0mprint\u001b[0m\u001b[1;33m(\u001b[0m\u001b[1;34m\"You entered a valid integer of \"\u001b[0m\u001b[1;33m,\u001b[0m \u001b[0mresult\u001b[0m\u001b[1;33m)\u001b[0m\u001b[1;33m\u001b[0m\u001b[1;33m\u001b[0m\u001b[0m\n",
      "\u001b[1;31mValueError\u001b[0m: invalid literal for int() with base 10: 'a'"
     ]
    }
   ],
   "source": [
    "result = int(input(\"Enter a valild integer: \"))\n",
    "print(\"You entered a valid integer of \", result)"
   ]
  },
  {
   "cell_type": "code",
   "execution_count": null,
   "metadata": {},
   "outputs": [],
   "source": [
    "# demonstrate throwing an exception\n",
    "\n",
    "result = int(input(\"Enter a valild integer: \"))\n",
    "print(\"You entered a valid integer of \", result)"
   ]
  },
  {
   "cell_type": "code",
   "execution_count": 2,
   "metadata": {},
   "outputs": [
    {
     "ename": "NameError",
     "evalue": "name 'x' is not defined",
     "output_type": "error",
     "traceback": [
      "\u001b[1;31m---------------------------------------------------------------------------\u001b[0m",
      "\u001b[1;31mNameError\u001b[0m                                 Traceback (most recent call last)",
      "\u001b[1;32m<ipython-input-2-fc17d851ef81>\u001b[0m in \u001b[0;36m<module>\u001b[1;34m\u001b[0m\n\u001b[1;32m----> 1\u001b[1;33m \u001b[0mprint\u001b[0m\u001b[1;33m(\u001b[0m\u001b[0mx\u001b[0m\u001b[1;33m)\u001b[0m\u001b[1;33m\u001b[0m\u001b[1;33m\u001b[0m\u001b[0m\n\u001b[0m",
      "\u001b[1;31mNameError\u001b[0m: name 'x' is not defined"
     ]
    }
   ],
   "source": [
    "print(x)"
   ]
  },
  {
   "cell_type": "code",
   "execution_count": 3,
   "metadata": {},
   "outputs": [
    {
     "name": "stdout",
     "output_type": "stream",
     "text": [
      "The Total Calculator Program\n",
      "\n",
      "Enter price: a\n",
      "Invalid decimal number. Please try again.\n",
      "Enter price: 2\n",
      "Enter quantity: 4\n",
      "\n",
      "PRICE:     2.0\n",
      "QUANTITY:  4\n",
      "TOTAL:     8.0\n"
     ]
    }
   ],
   "source": [
    "# using a try block for input data validation\n",
    "\n",
    "def get_price():\n",
    "    bad_data = True\n",
    "    while (bad_data):\n",
    "        try:\n",
    "            price = float(input(\"Enter price: \"))\n",
    "            bad_data = False\n",
    "        except ValueError:\n",
    "            print(\"Invalid decimal number. Please try again.\")\n",
    "            \n",
    "    return price\n",
    "            \n",
    "def get_quantity():\n",
    "    bad_data = True\n",
    "    while (bad_data):\n",
    "        try:  \n",
    "            quantity = int(input(\"Enter quantity: \"))\n",
    "            bad_data = False\n",
    "        except ValueError:\n",
    "            print(\"Invalid integer. Please try again.\")\n",
    "            \n",
    "    return quantity\n",
    "            \n",
    "def main():\n",
    "    print(\"The Total Calculator Program\\n\")\n",
    "    \n",
    "    # get the price and quantity\n",
    "    price = get_price()\n",
    "    quantity = get_quantity()\n",
    "    \n",
    "    # calculate the total\n",
    "    total = price * quantity\n",
    "    \n",
    "    # display results\n",
    "    print()\n",
    "    print(\"PRICE:    \", price)\n",
    "    print(\"QUANTITY: \", quantity)\n",
    "    print(\"TOTAL:    \", total)\n",
    "    \n",
    "if __name__ == \"__main__\":\n",
    "    main()\n",
    "                                 "
   ]
  },
  {
   "cell_type": "code",
   "execution_count": null,
   "metadata": {},
   "outputs": [],
   "source": [
    "# movie 2.0 that handles exceptions\n",
    "\n",
    "import csv\n",
    "import sys\n",
    "\n",
    "# our csv file in the current directory as a global variaable\n",
    "FILENAME = \"movies.csv\" \n",
    "\n",
    "def write_movies(movie_list):\n",
    "    try:\n",
    "        with open(FILENAME, \"w\", newline=\"\") as file:\n",
    "            writer = csv.writer(file)\n",
    "            writer.writerows(movie_list)\n",
    "    except Exception as e:\n",
    "        print(type(e), e)\n",
    "        exit_program()\n",
    "        \n",
    "def read_movies():\n",
    "    try:\n",
    "        movie_list = []\n",
    "        with open(FILENAME, newline=\"\") as file:\n",
    "            reader = csv.reader(file)\n",
    "            for row in reader:\n",
    "                movie_list.append(row)\n",
    "        return movie_list\n",
    "    except FileNotFoundError:\n",
    "        print(\"Could not find \" + FILENAME + \" file.\")\n",
    "        exit_program()\n",
    "    except Exception as e:\n",
    "        print(type(e), e)\n",
    "        exit_program()\n",
    "\n",
    "def list_movies(movie_list):\n",
    "    for i in range(len(movie_list)):\n",
    "        movie = movie_list[i]\n",
    "        print(str(i+1) + \". \" + movie[0] + \" (\" + movie[1] + \")\")\n",
    "    print()\n",
    "    \n",
    "def add_movie(movie_list):\n",
    "    name = input(\"Movie Name: \")\n",
    "    year = input(\"Movie Year: \")\n",
    "    movie = []\n",
    "    movie.append(name)\n",
    "    movie.append(year)\n",
    "    movie_list.append(movie)\n",
    "    write_movies(movie_list)\n",
    "    print(movie[0] + \" was added.\\n\")\n",
    "    \n",
    "def exit_program():\n",
    "    print(\"Terminating program.\")\n",
    "    sys.exit()\n",
    "    \n",
    "def delete_movie(movie_list):\n",
    "    bad_data = True\n",
    "    while bad_data:\n",
    "        try:\n",
    "            number = int(input(\"Movie number: \"))\n",
    "        except ValueError:\n",
    "            print(\"Invalid integer. Please try again.\")\n",
    "            continue\n",
    "        if number < 1 or number > len(movie_list):\n",
    "            print(\"There is no movie with that number. \" +\n",
    "                  \"Please try again.\\n\")\n",
    "        else:\n",
    "            bad_data = False\n",
    "            \n",
    "    movie = movie_list.pop(number-1)\n",
    "    write_movies(movie_list)\n",
    "    print(movie[0] + \" was deleted.\\n\")\n",
    "                \n",
    "def display_menu():\n",
    "    print(\"The Movie List Program\\n\")\n",
    "    print(\"list - List all movies\")\n",
    "    print(\"add - Add a movie\")\n",
    "    print(\"del - Delete a movie\")\n",
    "    print(\"exit - Exit program\\n\")\n",
    "    \n",
    "def main():\n",
    "        display_menu()\n",
    "        movie_list = read_movies()\n",
    "        print(movie_list)\n",
    "        command = input(\"Enter Command: \")\n",
    "        \n",
    "        while (command.lower() != \"exit\"):\n",
    "            if command.lower() == \"list\":\n",
    "                list_movies(movie_list)\n",
    "                display_menu()\n",
    "                command = input(\"Enter Command: \")\n",
    "            elif command.lower() == \"add\":\n",
    "                add_movie(movie_list)\n",
    "                display_menu()\n",
    "                command = input(\"Enter Command: \")\n",
    "            elif command.lower() == \"del\":\n",
    "                delete_movie(movie_list)\n",
    "                display_menu()\n",
    "                command = input(\"Enter Command: \")\n",
    "            elif command.lower() == \"exit\":\n",
    "                continue\n",
    "            else:\n",
    "                print(\"Not a valid command.  Please try again.\\n\")\n",
    "                command = input(\"Enter Command: \")\n",
    "\n",
    "        print(\"You'll be back!\")     \n",
    "        \n",
    "if __name__ == \"__main__\":\n",
    "    main()"
   ]
  },
  {
   "cell_type": "code",
   "execution_count": null,
   "metadata": {},
   "outputs": [],
   "source": []
  }
 ],
 "metadata": {
  "kernelspec": {
   "display_name": "Python 3",
   "language": "python",
   "name": "python3"
  },
  "language_info": {
   "codemirror_mode": {
    "name": "ipython",
    "version": 3
   },
   "file_extension": ".py",
   "mimetype": "text/x-python",
   "name": "python",
   "nbconvert_exporter": "python",
   "pygments_lexer": "ipython3",
   "version": "3.7.3"
  }
 },
 "nbformat": 4,
 "nbformat_minor": 2
}
