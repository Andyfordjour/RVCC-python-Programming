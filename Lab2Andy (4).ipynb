{
 "cells": [
  {
   "cell_type": "code",
   "execution_count": 1,
   "id": "931c371c",
   "metadata": {},
   "outputs": [],
   "source": [
    "#lab 2\n",
    "#Author   Andy fordjour"
   ]
  },
  {
   "cell_type": "markdown",
   "id": "50efce4d",
   "metadata": {},
   "source": [
    "### bitcoin is a digital currency created in 2009.Bitcoin is a cryptocurrency. There is no physical bitcoin. Each bitcoing is basically a compputer filewhich is stored in a digital wallet app on smartphones or computers. You can send bitcoins to your digital wallet, and you can send Bitcoins to others.You can also sell things and let people pay you with Bitcoin Refrence:http://www.bbc.com\n",
    "\n"
   ]
  },
  {
   "cell_type": "code",
   "execution_count": 13,
   "id": "27c0831a",
   "metadata": {},
   "outputs": [],
   "source": [
    "#Bitcoin converter"
   ]
  },
  {
   "cell_type": "markdown",
   "id": "26f045a1",
   "metadata": {},
   "source": [
    "### lab2, problem2 bitcoin converter"
   ]
  },
  {
   "cell_type": "code",
   "execution_count": null,
   "id": "e7e13bfa",
   "metadata": {
    "scrolled": true
   },
   "outputs": [],
   "source": [
    "#lab 2\n",
    "#Author   Andy fordjour\n",
    "#bitcoin converter\n",
    "#price of bitcoin \n",
    "bitcoin = 48232.37\n",
    "#user input\n",
    "\n",
    "user =float(input(\"How many bitcoin do you have: \"))\n",
    "\n",
    "#calculated value in dollars\n",
    "\n",
    "bitcoin_in_dollars = float(user * bitcoin)\n",
    "\n",
    "#display calculated value\n",
    "\n",
    "print(\"This is your bitcoin in dollars: $\",round(bitcoin_in_dollars,2))\n"
   ]
  },
  {
   "cell_type": "markdown",
   "id": "c75389f0",
   "metadata": {},
   "source": [
    "### lab2 problem3 madlibs"
   ]
  },
  {
   "cell_type": "code",
   "execution_count": null,
   "id": "0d84af8c",
   "metadata": {},
   "outputs": [],
   "source": [
    "#lab 2\n",
    "#Author   Andy fordjour\n",
    "#madlibs\n",
    "print(\"A funstory About your college\")\n",
    "#asking for user inputs\n",
    "\n",
    "college = str(input(\"Enter your college \"))\n",
    "\n",
    "adjective = str(input(\"adjective\"))\n",
    "\n",
    "town = str(input(\"town/city:\"))\n",
    "              \n",
    "state =str(input(\"Enter a state\"))\n",
    "              \n",
    "students=int(input(\"Enter a number population: \"))\n",
    "              \n",
    "country=str(input(\"Enter a country: \"))\n",
    "\n",
    "#display madlibs\n",
    "print(college,\"is where i attend college.\"+\"It is a(n) \"+ adjective+\" school situated in the heart of \"+town+\" in \"+state+\". \"+college+\" has about \"+str(students)+\" students in population and is currently one of the best schools in \"+ country+\".\")"
   ]
  },
  {
   "cell_type": "code",
   "execution_count": null,
   "id": "a6497042",
   "metadata": {},
   "outputs": [],
   "source": []
  }
 ],
 "metadata": {
  "kernelspec": {
   "display_name": "Python 3",
   "language": "python",
   "name": "python3"
  },
  "language_info": {
   "codemirror_mode": {
    "name": "ipython",
    "version": 3
   },
   "file_extension": ".py",
   "mimetype": "text/x-python",
   "name": "python",
   "nbconvert_exporter": "python",
   "pygments_lexer": "ipython3",
   "version": "3.8.8"
  }
 },
 "nbformat": 4,
 "nbformat_minor": 5
}
