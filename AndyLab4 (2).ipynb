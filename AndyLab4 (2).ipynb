{
 "cells": [
  {
   "cell_type": "markdown",
   "id": "c00e6a33",
   "metadata": {},
   "source": [
    "###  LAB 4\n",
    "### Author :Andy fordjour\n",
    "### Problem 1"
   ]
  },
  {
   "cell_type": "code",
   "execution_count": null,
   "id": "d245c75b",
   "metadata": {},
   "outputs": [
    {
     "name": "stdout",
     "output_type": "stream",
     "text": [
      "Possible Date # 1 :\n",
      "Enter your age: 80\n",
      "Enter LI age: 30\n",
      "Are you kinding -you are too creepy! find someone your own age!\n",
      "Possible Date # 2 :\n"
     ]
    }
   ],
   "source": [
    "#Author: Andy fordjour\n",
    "# dating program\n",
    "\n",
    "# counter counters the number of loops\n",
    "counter = 0\n",
    "while counter < 3 :\n",
    "    counter =counter +1\n",
    "    print(\"Possible Date #\",counter,':')\n",
    "    your_age = int(input(\"Enter your age: \"))\n",
    "    love_interest_age = int(input(\"Enter LI age: \"))\n",
    "    if love_interest_age < your_age / 2 + 7:\n",
    "        print(\"Are you kinding -you are too creepy! find someone your own age!\")\n",
    "    else:\n",
    "        print(\"The creepiness factor is gone! Good luck with your date!\")"
   ]
  },
  {
   "cell_type": "markdown",
   "id": "7c6c8f40",
   "metadata": {},
   "source": [
    "### problem 2\n",
    "### author:Andy forjour\n",
    "### code to display the sum of all integers"
   ]
  },
  {
   "cell_type": "code",
   "execution_count": null,
   "id": "32164cc2",
   "metadata": {},
   "outputs": [],
   "source": [
    "# sum of all even interger between 1 and 100\n",
    "sum = 0\n",
    "for num in range(0,101,2):\n",
    "    sum = sum + num\n",
    "print(\"The sum of all even integers between 1 and 100: \", sum)\n",
    "print()\n",
    "# sum of all odd integres between 1and 100\n",
    "sum =0\n",
    "for num in range(1,101):\n",
    "    if num %2 !=0:\n",
    "        sum= sum+num\n",
    "print(\"The sum of all odd integers between 1 and 100: \", sum)\n",
    "print()\n",
    "# sum of all integers between 1 and 100\n",
    "sum = 0\n",
    "for num in range(0,101):\n",
    "    sum = sum + num\n",
    "print(\"The sum of all integers between 1 and 100: \", sum)\n"
   ]
  },
  {
   "cell_type": "markdown",
   "id": "c0e91b04",
   "metadata": {},
   "source": [
    "### Problem 3\n",
    "### Author Fordjour\n",
    "### fliping coins"
   ]
  },
  {
   "cell_type": "code",
   "execution_count": null,
   "id": "79bb2f96",
   "metadata": {},
   "outputs": [],
   "source": [
    "#Andy fordjour\n",
    "# flipping coin\n",
    "import random\n",
    "\n",
    "head =0\n",
    "tail =0\n",
    "wallet =0\n",
    "  \n",
    "for i in range(0,100+1):\n",
    "    flip_coin =random.choice([0,1])\n",
    "    if flip_coin == 0:\n",
    "        head +=1\n",
    "        wallet +=10\n",
    "        print(\"the coin landed on heads\\n You Win!\")\n",
    "    else:\n",
    "        tail +=1 \n",
    "        wallet -=10\n",
    "        print(\"the coin landed on the tail\\n You lose\")\n",
    "print()        \n",
    "print(\"Number of Heads: \", head)\n",
    "print(\"Number of Tails: \",tail)\n",
    "print(\"You now have $\",float(wallet) ,\"in your wallet.\")\n",
    "    \n",
    "       "
   ]
  },
  {
   "cell_type": "code",
   "execution_count": null,
   "id": "ce26b79d",
   "metadata": {},
   "outputs": [],
   "source": []
  },
  {
   "cell_type": "code",
   "execution_count": null,
   "id": "880456b1",
   "metadata": {},
   "outputs": [],
   "source": []
  }
 ],
 "metadata": {
  "kernelspec": {
   "display_name": "Python 3",
   "language": "python",
   "name": "python3"
  },
  "language_info": {
   "codemirror_mode": {
    "name": "ipython",
    "version": 3
   },
   "file_extension": ".py",
   "mimetype": "text/x-python",
   "name": "python",
   "nbconvert_exporter": "python",
   "pygments_lexer": "ipython3",
   "version": "3.8.8"
  }
 },
 "nbformat": 4,
 "nbformat_minor": 5
}
