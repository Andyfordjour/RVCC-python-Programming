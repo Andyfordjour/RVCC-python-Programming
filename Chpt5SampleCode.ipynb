{
 "cells": [
  {
   "cell_type": "code",
   "execution_count": 2,
   "metadata": {},
   "outputs": [
    {
     "name": "stdout",
     "output_type": "stream",
     "text": [
      "Welcome to the Miles per Gallon Calculator\n",
      "\n"
     ]
    }
   ],
   "source": [
    "# prints welcome message\n",
    "def print_welcome():\n",
    "    print(\"Welcome to the Miles per Gallon Calculator\")\n",
    "    print()\n",
    "    \n",
    "print_welcome()"
   ]
  },
  {
   "cell_type": "code",
   "execution_count": 1,
   "metadata": {},
   "outputs": [
    {
     "name": "stdout",
     "output_type": "stream",
     "text": [
      "Result of double_it is:  10\n"
     ]
    }
   ],
   "source": [
    "\"\"\" This is module week4OneMore! \"\"\"\n",
    "def double_it(x):\n",
    "    \"\"\"double it !\"\"\"\n",
    "    #print(x + x)\n",
    "    return (x * 2)\n",
    "    \n",
    "print(\"Result of double_it is: \", double_it(5))\n",
    "    "
   ]
  },
  {
   "cell_type": "code",
   "execution_count": 3,
   "metadata": {},
   "outputs": [
    {
     "name": "stdout",
     "output_type": "stream",
     "text": [
      "Welcome to the Miles per Gallon Calculator\n",
      "\n"
     ]
    }
   ],
   "source": [
    "# prints message but is more generic.... more reusable\n",
    "def print_welcome(message):\n",
    "    print(message)\n",
    "    print()\n",
    "    \n",
    "print_welcome(\"Welcome to the Miles per Gallon Calculator\")"
   ]
  },
  {
   "cell_type": "code",
   "execution_count": 1,
   "metadata": {},
   "outputs": [
    {
     "name": "stdout",
     "output_type": "stream",
     "text": [
      "35.7\n"
     ]
    }
   ],
   "source": [
    "# function that accepts two arguments and returnes a value\n",
    "# demonstrate how to call the function\n",
    "def calculate_miles_per_gallon(miles_driven, gallons_used):\n",
    "    mpg = miles_driven / gallons_used\n",
    "    mpg = round(mpg,1)                 \n",
    "    # could have also coded mpg = round(miles_drive / gallons_used, 1)\n",
    "    return mpg\n",
    "\n",
    "miles = 500\n",
    "gallons = 14\n",
    "mpg = calculate_miles_per_gallon(miles, gallons)\n",
    "print(mpg)"
   ]
  },
  {
   "cell_type": "code",
   "execution_count": 2,
   "metadata": {},
   "outputs": [
    {
     "name": "stdout",
     "output_type": "stream",
     "text": [
      "The Miles Per Gallon Calculator\n",
      "\n",
      "Enter the miles driven: 123\n",
      "Enter the number of gallons used: 10\n",
      "\n",
      "The miles per gallon is:  12.3\n"
     ]
    }
   ],
   "source": [
    "# function that accepts two arguments and returnes a value\n",
    "# demonstrate how to call the function\n",
    "def calculate_miles_per_gallon(miles_driven, gallons_used):\n",
    "    mpg = miles_driven / gallons_used\n",
    "    mpg = round(mpg,1)                 \n",
    "    # could have also coded mpg = round(miles_drive / gallons_used, 1)\n",
    "    return mpg\n",
    "\n",
    "#define the main function\n",
    "def main():\n",
    "    print(\"The Miles Per Gallon Calculator\\n\")\n",
    "    \n",
    "    # get input\n",
    "    miles = float(input(\"Enter the miles driven: \"))\n",
    "    gallons = float(input(\"Enter the number of gallons used: \")) \n",
    "    \n",
    "    # calculate miles per gallon if valid input\n",
    "    if miles > 0 and gallons > 0:\n",
    "        mpg = calculate_miles_per_gallon(miles, gallons)\n",
    "        print(\"\\nThe miles per gallon is: \", mpg)\n",
    "    else:\n",
    "        print(\"\\nOneof the values entered was 0 or less. Try again!\")\n",
    "        \n",
    "\n",
    "main()\n",
    "    \n",
    "    "
   ]
  },
  {
   "cell_type": "code",
   "execution_count": 6,
   "metadata": {},
   "outputs": [
    {
     "name": "stdout",
     "output_type": "stream",
     "text": [
      "The Miles Per Gallon Calculator\n",
      "\n",
      "Enter the miles driven: 55\n",
      "Enter the number of gallons used: 2\n",
      "\n",
      "The miles per gallon is:  27.5\n",
      "Continue? (y/n): n\n",
      "\n",
      "We are done! Good bye!\n"
     ]
    }
   ],
   "source": [
    "# demonstrate main function within the code\n",
    "def calculate_miles_per_gallon(miles_driven, gallons_used):\n",
    "    mpg = miles_driven / gallons_used\n",
    "    mpg = round(mpg, 2)                 \n",
    "    # could have also coded mpg = round(miles_drive / gallons_used, 1)\n",
    "    return mpg\n",
    "\n",
    "\n",
    "# define the main function\n",
    "def main():\n",
    "    print(\"The Miles Per Gallon Calculator\\n\")\n",
    "    \n",
    "    choice = \"y\"\n",
    "    while choice.lower() == \"y\":\n",
    "        \n",
    "        # get user input\n",
    "        miles = float(input(\"Enter the miles driven: \"))\n",
    "        gallons = float(input(\"Enter the number of gallons used: \")) \n",
    "    \n",
    "        # calculate the miles per gallon\n",
    "        if miles > 0 and gallons > 0:\n",
    "            # the main function calls the calculate_miles_per_gallon function\n",
    "            mpg = calculate_miles_per_gallon(miles, gallons)\n",
    "            print(\"\\nThe miles per gallon is: \", mpg)\n",
    "        else:\n",
    "            print(\"\\nOne of the values entered was 0 or less.  Please try again!\")\n",
    "            \n",
    "        choice = input(\"Continue? (y/n): \")\n",
    "        print()\n",
    "        \n",
    "    print(\"We are done! Good bye!\")\n",
    "    \n",
    "if __name__ == \"__main__\":\n",
    "    main()\n"
   ]
  },
  {
   "cell_type": "code",
   "execution_count": 2,
   "metadata": {},
   "outputs": [
    {
     "ename": "NameError",
     "evalue": "name 'cubeVolume' is not defined",
     "output_type": "error",
     "traceback": [
      "\u001b[1;31m---------------------------------------------------------------------------\u001b[0m",
      "\u001b[1;31mNameError\u001b[0m                                 Traceback (most recent call last)",
      "\u001b[1;32m<ipython-input-2-32367465d043>\u001b[0m in \u001b[0;36m<module>\u001b[1;34m\u001b[0m\n\u001b[0;32m     10\u001b[0m \u001b[1;33m\u001b[0m\u001b[0m\n\u001b[0;32m     11\u001b[0m \u001b[1;32mif\u001b[0m \u001b[0m__name__\u001b[0m \u001b[1;33m==\u001b[0m \u001b[1;34m'__main__'\u001b[0m\u001b[1;33m:\u001b[0m\u001b[1;33m\u001b[0m\u001b[1;33m\u001b[0m\u001b[0m\n\u001b[1;32m---> 12\u001b[1;33m     \u001b[0mmain\u001b[0m\u001b[1;33m(\u001b[0m\u001b[1;33m)\u001b[0m\u001b[1;33m\u001b[0m\u001b[1;33m\u001b[0m\u001b[0m\n\u001b[0m\u001b[0;32m     13\u001b[0m \u001b[1;33m\u001b[0m\u001b[0m\n\u001b[0;32m     14\u001b[0m \u001b[1;32mdef\u001b[0m \u001b[0mcubeVolume\u001b[0m\u001b[1;33m(\u001b[0m\u001b[0msideLength\u001b[0m\u001b[1;33m)\u001b[0m \u001b[1;33m:\u001b[0m\u001b[1;33m\u001b[0m\u001b[1;33m\u001b[0m\u001b[0m\n",
      "\u001b[1;32m<ipython-input-2-32367465d043>\u001b[0m in \u001b[0;36mmain\u001b[1;34m()\u001b[0m\n\u001b[0;32m      7\u001b[0m \u001b[1;33m\u001b[0m\u001b[0m\n\u001b[0;32m      8\u001b[0m \u001b[1;32mdef\u001b[0m \u001b[0mmain\u001b[0m\u001b[1;33m(\u001b[0m\u001b[1;33m)\u001b[0m\u001b[1;33m:\u001b[0m\u001b[1;33m\u001b[0m\u001b[1;33m\u001b[0m\u001b[0m\n\u001b[1;32m----> 9\u001b[1;33m     \u001b[0mprint\u001b[0m\u001b[1;33m(\u001b[0m\u001b[0mcubeVolume\u001b[0m\u001b[1;33m(\u001b[0m\u001b[1;36m10\u001b[0m\u001b[1;33m)\u001b[0m\u001b[1;33m)\u001b[0m\u001b[1;33m\u001b[0m\u001b[1;33m\u001b[0m\u001b[0m\n\u001b[0m\u001b[0;32m     10\u001b[0m \u001b[1;33m\u001b[0m\u001b[0m\n\u001b[0;32m     11\u001b[0m \u001b[1;32mif\u001b[0m \u001b[0m__name__\u001b[0m \u001b[1;33m==\u001b[0m \u001b[1;34m'__main__'\u001b[0m\u001b[1;33m:\u001b[0m\u001b[1;33m\u001b[0m\u001b[1;33m\u001b[0m\u001b[0m\n",
      "\u001b[1;31mNameError\u001b[0m: name 'cubeVolume' is not defined"
     ]
    }
   ],
   "source": [
    "# Author: Hostmann and Necaise and Yang\n",
    "# Simple function\n",
    "\n",
    "#def cubeVolume(sideLength) :\n",
    "#    volume = sideLength ** 3\n",
    " #   return volume\n",
    "\n",
    "def main():\n",
    "    print(cubeVolume(10))\n",
    "    \n",
    "if __name__ == '__main__':\n",
    "    main()\n",
    "    \n",
    "def cubeVolume(sideLength) :\n",
    "    volume = sideLength ** 3\n",
    "    return volume\n"
   ]
  },
  {
   "cell_type": "code",
   "execution_count": 8,
   "metadata": {},
   "outputs": [
    {
     "name": "stdout",
     "output_type": "stream",
     "text": [
      "1000\n"
     ]
    }
   ],
   "source": [
    "# Author: Hostmann and Necaise and Yang\n",
    "# Simple function\n",
    "\n",
    "def cubeVolume(sideLength) :\n",
    "    volume = sideLength ** 3\n",
    "    return volume\n",
    "\n",
    "def main():\n",
    "    print(cubeVolume(10))\n",
    "    \n",
    "if __name__ == '__main__':\n",
    "    main()"
   ]
  },
  {
   "cell_type": "code",
   "execution_count": 9,
   "metadata": {},
   "outputs": [
    {
     "name": "stdout",
     "output_type": "stream",
     "text": [
      "A cube with side length 2 has volume 8\n"
     ]
    }
   ],
   "source": [
    "# Author: Hostmann and Necaise and Yang\n",
    "# Printing what output means\n",
    "\n",
    "def cubeVolume(sideLength) :\n",
    "    volume = sideLength ** 3\n",
    "    return volume\n",
    "\n",
    "def main():\n",
    "    result = cubeVolume(2)\n",
    "    print(\"A cube with side length 2 has volume\", result)\n",
    "    \n",
    "if __name__ == '__main__':\n",
    "    main()"
   ]
  },
  {
   "cell_type": "code",
   "execution_count": 10,
   "metadata": {},
   "outputs": [
    {
     "name": "stdout",
     "output_type": "stream",
     "text": [
      "A cube with side length 2 has volume 8\n"
     ]
    }
   ],
   "source": [
    "# Author: Hostmann and Necaise and Yang\n",
    "# This could be problematic!\n",
    "\n",
    "def cubeVolume(sideLength):\n",
    "    if (sideLength > 0): \n",
    "        return sideLength ** 3\n",
    "\n",
    "def main():\n",
    "    result = cubeVolume(2)\n",
    "    print(\"A cube with side length 2 has volume\", result)\n",
    "    \n",
    "if __name__ == '__main__':\n",
    "    main()"
   ]
  },
  {
   "cell_type": "code",
   "execution_count": 11,
   "metadata": {},
   "outputs": [
    {
     "name": "stdout",
     "output_type": "stream",
     "text": [
      "A cube with side length 2 has volume 8\n"
     ]
    }
   ],
   "source": [
    "# Author: Hostmann and Necaise and Yang\n",
    "# This corrected the problem\n",
    "\n",
    "def cubeVolume(sideLength):\n",
    "    if (sideLength < 0): \n",
    "        return 0 \n",
    "    return sideLength ** 3\n",
    "\n",
    "def main():\n",
    "    result = cubeVolume(2)\n",
    "    print(\"A cube with side length 2 has volume\", result)\n",
    "    \n",
    "if __name__ == '__main__':\n",
    "    main()\n"
   ]
  },
  {
   "cell_type": "code",
   "execution_count": 16,
   "metadata": {},
   "outputs": [
    {
     "name": "stdout",
     "output_type": "stream",
     "text": [
      "The Miles Per Gallon Calculator\n",
      "\n",
      "\n",
      "The miles per gallon is:  30.0\n",
      "\n",
      "The miles per gallon is:  50.0\n",
      "\n",
      "We are done! Good bye!\n",
      "The Miles Per Gallon Calculator\n",
      "\n",
      "\n",
      "The miles per gallon is:  30.0\n",
      "\n",
      "The miles per gallon is:  50.0\n",
      "\n",
      "We are done! Good bye!\n"
     ]
    }
   ],
   "source": [
    "# demonstrate main function within the code - using default value\n",
    "\n",
    "def calculate_miles_per_gallon(miles_driven, gallons_used = 10):\n",
    "    mpg = miles_driven / gallons_used\n",
    "    mpg = round(mpg, 2)                 \n",
    "    # could have also coded mpg = round(miles_driven / gallons_used, 1)\n",
    "    return mpg\n",
    "\n",
    "\n",
    "# define the main function\n",
    "def main():\n",
    "    print(\"The Miles Per Gallon Calculator\\n\")\n",
    "    \n",
    "    # using the default value\n",
    "    mpg = calculate_miles_per_gallon(300)\n",
    "    print(\"\\nThe miles per gallon is: \", mpg)\n",
    "    \n",
    "    # overriding the default value\n",
    "    mpg = calculate_miles_per_gallon(250, 5)\n",
    "    print(\"\\nThe miles per gallon is: \", mpg)\n",
    "    \n",
    "    print(\"\\nWe are done! Good bye!\")\n",
    "    \n",
    "#main()\n",
    "if __name__ == \"__main__\":\n",
    "    main()\n"
   ]
  },
  {
   "cell_type": "code",
   "execution_count": 1,
   "metadata": {},
   "outputs": [
    {
     "name": "stdout",
     "output_type": "stream",
     "text": [
      "The Miles Per Gallon Calculator\n",
      "\n",
      "\n",
      "The miles per gallon is:  30.0\n",
      "\n",
      "We are done! Good bye!\n"
     ]
    }
   ],
   "source": [
    "# demonstrate main function within code using named arguments\n",
    "def calculate_miles_per_gallon(miles_driven, gallons_used = 10):\n",
    "    mpg = miles_driven / gallons_used\n",
    "    mpg = round(mpg, 2)                 \n",
    "    # could have also coded mpg = round(miles_drive / gallons_used, 1)\n",
    "    return mpg\n",
    "\n",
    "\n",
    "# define the main function\n",
    "def main():\n",
    "    print(\"The Miles Per Gallon Calculator\\n\")\n",
    "    \n",
    "    # using the default value\n",
    "    mpg = calculate_miles_per_gallon(\n",
    "        gallons_used = 15,\n",
    "        miles_driven = 450)\n",
    "        \n",
    "    print(\"\\nThe miles per gallon is: \", mpg)\n",
    "    \n",
    "    print(\"\\nWe are done! Good bye!\")\n",
    "    \n",
    "if __name__ == \"__main__\":\n",
    "    main()\n"
   ]
  },
  {
   "cell_type": "code",
   "execution_count": 22,
   "metadata": {},
   "outputs": [
    {
     "name": "stdout",
     "output_type": "stream",
     "text": [
      "Result of double_it is:  10\n",
      "Result from double_it:  10\n",
      "Result from double_it:  5.0\n"
     ]
    }
   ],
   "source": [
    "def double_it(x):\n",
    "    \"\"\"double it !\"\"\"\n",
    "    #print(x + x)\n",
    "    return (x * 2)\n",
    "    \n",
    "print(\"Result of double_it is: \", double_it(5))\n",
    "    \n",
    "    \n",
    "def main():\n",
    "    \"\"\" This is the main function \"\"\"\n",
    "    num = 5\n",
    "    result = double_it(num)\n",
    "    print(\"Result from double_it: \", result)\n",
    "    \n",
    "    num2 = 2.5\n",
    "    result = double_it(num2)\n",
    "    print(\"Result from double_it: \", result)\n",
    "    \n",
    "if __name__ == \"__main__\":\n",
    "    main()\n",
    "    "
   ]
  },
  {
   "cell_type": "code",
   "execution_count": 14,
   "metadata": {},
   "outputs": [
    {
     "name": "stdout",
     "output_type": "stream",
     "text": [
      "Tax: 4.25\n",
      "Tax: 0.0\n"
     ]
    }
   ],
   "source": [
    "# tax is a global variable\n",
    "tax = 0.0                        \n",
    "\n",
    "def calc_tax(amount, tax_rate):\n",
    "    # tax is a local variable\n",
    "    tax = amount * tax_rate      \n",
    "    print(\"Tax:\", tax)           \n",
    "\n",
    "def main():\n",
    "    calc_tax(85.0, .05)\n",
    "    print(\"Tax:\", tax)           \n",
    "\n",
    "if __name__ == \"__main__\":\n",
    "    main()"
   ]
  },
  {
   "cell_type": "code",
   "execution_count": null,
   "metadata": {},
   "outputs": [],
   "source": [
    "# demonstrate main function within the code\n",
    "def calculate_miles_per_gallon(miles_driven, gallons_used = 10):\n",
    "    \"\"\"\n",
    "    This module contains a function for \n",
    "    calculating miles per gallon\n",
    "    \"\"\"\n",
    "    mpg = miles_driven / gallons_used\n",
    "    mpg = round(mpg, 2)                 \n",
    "    # could have also coded mpg = round(miles_drive / gallons_used, 1)\n",
    "    return mpg\n",
    "\n",
    "\n"
   ]
  },
  {
   "cell_type": "code",
   "execution_count": 17,
   "metadata": {},
   "outputs": [
    {
     "name": "stdout",
     "output_type": "stream",
     "text": [
      "Enter your age: 23\n",
      "Enter the age of the person you want to date: 19\n",
      "You are good to go!\n"
     ]
    }
   ],
   "source": [
    "# Dating Equation from internet\n",
    "def goodToDate():\n",
    "    \"\"\"\n",
    "    This module determines whether it is socially acceptable\n",
    "    to date a person based upon the youngest age allowable.\n",
    "    \n",
    "    \"\"\"\n",
    "    yourAge = int(input(\"Enter your age: \"))\n",
    "    loveInterestAge = int(input(\"Enter the age of the person you want to date: \"))\n",
    "\n",
    "    if loveInterestAge < yourAge / 2 + 7:\n",
    "        return False\n",
    "    else:\n",
    "        return True\n",
    "    \n",
    "def main():\n",
    "    \"\"\"\n",
    "    This is the main program for the dating calculation.\n",
    "    \"\"\"\n",
    "    if goodToDate():\n",
    "        print(\"You are good to go!\")\n",
    "\n",
    "    else:\n",
    "        print(\"You are a creeper! Find someone your own age!\")\n",
    "    \n",
    "if __name__ == '__main__':\n",
    "    main()\n"
   ]
  },
  {
   "cell_type": "code",
   "execution_count": 21,
   "metadata": {},
   "outputs": [
    {
     "name": "stdout",
     "output_type": "stream",
     "text": [
      "Help on module dateEq:\n",
      "\n",
      "NAME\n",
      "    dateEq - # Dating Equation from internet\n",
      "\n",
      "FUNCTIONS\n",
      "    goodToDate()\n",
      "        This module determines whether it is socially acceptable\n",
      "        to date a person based upon the youngest age allowable.\n",
      "    \n",
      "    main()\n",
      "        This is the main program for the dating calculation.\n",
      "\n",
      "FILE\n",
      "    c:\\users\\g00231980\\dateeq.py\n",
      "\n",
      "\n"
     ]
    }
   ],
   "source": [
    "import dateEq\n",
    "help(dateEq)"
   ]
  },
  {
   "cell_type": "code",
   "execution_count": 5,
   "metadata": {},
   "outputs": [
    {
     "name": "stdout",
     "output_type": "stream",
     "text": [
      "Guess the number!\n",
      "\n",
      "I'm thinking of a number from 1 to 10\n",
      "\n",
      "Your guess: 5\n",
      "That's too low!\n",
      "Your guess: 8\n",
      "That's too high!\n",
      "Your guess: 7\n",
      "That's too high!\n",
      "Your guess: 6\n",
      "You guessed it in 4 tries.\n",
      "\n",
      "Would you like to play again? (y/n): y\n",
      "\n",
      "I'm thinking of a number from 1 to 10\n",
      "\n",
      "Your guess: 8\n",
      "That's too high!\n",
      "Your guess: 4\n",
      "That's too low!\n",
      "Your guess: 6\n",
      "That's too high!\n",
      "Your guess: 5\n",
      "You guessed it in 4 tries.\n",
      "\n",
      "Would you like to play again? (y/n): n\n",
      "\n",
      "It was fun playing with you... Bye!!!\n"
     ]
    }
   ],
   "source": [
    "import random\n",
    "#help(random)\n",
    "\n",
    "LIMIT = 10\n",
    "\n",
    "def display_title():\n",
    "    \"\"\"\n",
    "    This function displays a \n",
    "    title for the program.\n",
    "    \"\"\"\n",
    "    print(\"Guess the number!\\n\")\n",
    "    \n",
    "def play_game():\n",
    "    \"\"\" This function plays a guessing game. \"\"\"\n",
    "    number = random.randint(1,10)\n",
    "    print(\"I'm thinking of a number from 1 to \" + str(LIMIT) + \"\\n\")\n",
    "    count = 1\n",
    "    not_done = True\n",
    "    while not_done:\n",
    "        guess = int(input(\"Your guess: \"))\n",
    "        if guess < number:\n",
    "            print(\"That's too low!\")\n",
    "            count += 1\n",
    "        elif guess > number:\n",
    "            print(\"That's too high!\")\n",
    "            count += 1\n",
    "        else:\n",
    "            print(\"You guessed it in \" + str(count) + \" tries.\\n\")\n",
    "            not_done = False\n",
    "        \n",
    "def main():\n",
    "    display_title()\n",
    "    again = \"y\"\n",
    "    while again.lower() == \"y\":\n",
    "        play_game()\n",
    "        again = input(\"Would you like to play again? (y/n): \")\n",
    "        print()\n",
    "    print(\"It was fun playing with you... Bye!!!\")\n",
    "    \n",
    "if __name__ == \"__main__\":\n",
    "    main()"
   ]
  },
  {
   "cell_type": "code",
   "execution_count": null,
   "metadata": {},
   "outputs": [],
   "source": [
    "import random\n",
    "\n",
    "def roll():\n",
    "    \"\"\" \n",
    "    This function rolls\n",
    "    the dice.\n",
    "    \"\"\"\n",
    "    value = random.randint(1, 6)\n",
    "    return value\n",
    "\n",
    "def display_title():\n",
    "    \"\"\" This function displays the title of the program! \"\"\"\n",
    "    print(\"Dice Roller\")\n",
    "    print()\n",
    "\n",
    "def roll_dice():\n",
    "    \"\"\"\n",
    "    This function rolls two dice, adds them and \n",
    "    prints their value.\n",
    "    \"\"\"\n",
    "    die1 = roll()\n",
    "    die2 = roll()\n",
    "    total = die1 + die2\n",
    "\n",
    "    print(\"Die 1:\", die1)\n",
    "    print(\"Die 2:\", die2)\n",
    "    print(\"Total:\", total)\n",
    "    if total == 2:\n",
    "        print(\"Snake eyes!\")\n",
    "    if total == 12:\n",
    "        print(\"Boxcars!\")\n",
    "\n",
    "    print()\n",
    "\n",
    "def main():\n",
    "    \"\"\" This is the main method! \"\"\"\n",
    "    display_title()\n",
    "    choice = input(\"Roll the dice? (y/n): \")\n",
    "    print()\n",
    "    while choice == \"y\":\n",
    "        roll_dice()\n",
    "        choice = input(\"Roll again? (y/n): \")\n",
    "        print()\n",
    "\n",
    "# if started as the main module, call the main function\n",
    "if __name__ == \"__main__\":\n",
    "    main()\n"
   ]
  },
  {
   "cell_type": "code",
   "execution_count": 7,
   "metadata": {},
   "outputs": [
    {
     "name": "stdout",
     "output_type": "stream",
     "text": [
      "0 Fahrenheit = -18 Celsius\n",
      "40 Fahrenheit = 4 Celsius\n",
      "80 Fahrenheit = 27 Celsius\n",
      "120 Fahrenheit = 49 Celsius\n",
      "160 Fahrenheit = 71 Celsius\n",
      "200 Fahrenheit = 93 Celsius\n",
      "0 Celsius = 32 Fahrenheit\n",
      "20 Celsius = 68 Fahrenheit\n",
      "40 Celsius = 104 Fahrenheit\n",
      "60 Celsius = 140 Fahrenheit\n",
      "80 Celsius = 176 Fahrenheit\n"
     ]
    }
   ],
   "source": [
    "\"\"\"\n",
    "This mmodule contains functions for converting\n",
    "temperature between Fahrenheit and Celsius\n",
    "\"\"\"\n",
    "\n",
    "def to_celsius(fahrenheit):\n",
    "    \"\"\"\n",
    "    Accepts Fahrenheit degrees as argument\n",
    "    Returns Celsius degree\n",
    "    \"\"\"\n",
    "    celsius = (fahrenheit - 32) * 5/9\n",
    "    return celsius\n",
    "\n",
    "def to_fahrenheit(celsius):\n",
    "    \"\"\"\n",
    "    Accepts Celsius degrees (celsius argument)\n",
    "    Returns Fahrenheit degrees\n",
    "    \"\"\"\n",
    "    fahrenheit = celsius * 9/5 + 32\n",
    "    return fahrenheit\n",
    "\n",
    "# main function used to test other functions\n",
    "# only run if module is the main\n",
    "def main():\n",
    "    for temp in range(0, 212, 40):\n",
    "        print(temp, \"Fahrenheit =\", round(to_celsius(temp)), \"Celsius\")\n",
    "        \n",
    "    for temp in range(0, 100, 20):\n",
    "        print(temp, \"Celsius =\", round(to_fahrenheit(temp)), \"Fahrenheit\")\n",
    "        \n",
    "# check if main module\n",
    "if __name__ == \"__main__\":\n",
    "    main()"
   ]
  },
  {
   "cell_type": "code",
   "execution_count": 9,
   "metadata": {},
   "outputs": [
    {
     "name": "stdout",
     "output_type": "stream",
     "text": [
      "Help on module temperature:\n",
      "\n",
      "NAME\n",
      "    temperature\n",
      "\n",
      "DESCRIPTION\n",
      "    This mmodule contains functions for converting\n",
      "    temperature between Fahrenheit and Celsius\n",
      "\n",
      "FUNCTIONS\n",
      "    main()\n",
      "        # main function used to test other functions\n",
      "        # only run if module is the main\n",
      "    \n",
      "    to_celsius(fahrenheit)\n",
      "        Accepts Fahrenheit degrees as argument\n",
      "        Returns Celsius degree\n",
      "    \n",
      "    to_fahrenheit(celsius)\n",
      "        Accepts Celsius degrees (celsius argument)\n",
      "        Returns Fahrenheit degrees\n",
      "\n",
      "FILE\n",
      "    c:\\users\\g00231980\\temperature.py\n",
      "\n",
      "\n"
     ]
    }
   ],
   "source": [
    "import temperature\n",
    "help(temperature)"
   ]
  },
  {
   "cell_type": "code",
   "execution_count": null,
   "metadata": {},
   "outputs": [],
   "source": []
  },
  {
   "cell_type": "code",
   "execution_count": null,
   "metadata": {},
   "outputs": [],
   "source": []
  }
 ],
 "metadata": {
  "kernelspec": {
   "display_name": "Python 3",
   "language": "python",
   "name": "python3"
  },
  "language_info": {
   "codemirror_mode": {
    "name": "ipython",
    "version": 3
   },
   "file_extension": ".py",
   "mimetype": "text/x-python",
   "name": "python",
   "nbconvert_exporter": "python",
   "pygments_lexer": "ipython3",
   "version": "3.7.6"
  }
 },
 "nbformat": 4,
 "nbformat_minor": 2
}
