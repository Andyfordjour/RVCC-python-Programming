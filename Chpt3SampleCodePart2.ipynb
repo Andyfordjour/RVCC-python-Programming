{
 "cells": [
  {
   "cell_type": "code",
   "execution_count": null,
   "metadata": {},
   "outputs": [],
   "source": [
    "# x is 0110\n",
    "# y is 0101\n",
    "x = 6\n",
    "y = 5\n",
    "\n",
    "# exclusive or \n",
    "z = x ^ y\n",
    "print(z)"
   ]
  },
  {
   "cell_type": "code",
   "execution_count": null,
   "metadata": {},
   "outputs": [],
   "source": [
    "# Linda Yang\n",
    "# Counter Loop\n",
    "\n",
    "counter = 0\n",
    "while counter < 5:\n",
    "    print (\"Hello, it's me!\")\n",
    "    counter += 1\n",
    "\n",
    "print(\"Counter is: \", counter)"
   ]
  },
  {
   "cell_type": "code",
   "execution_count": null,
   "metadata": {},
   "outputs": [],
   "source": [
    "choice = \"y\"\n",
    "while choice.lower() == \"y\":\n",
    "    print(\"Hello!\")\n",
    "    choice = input(\"Say hello again? (y/n) : \")\n",
    "print(\"Chaio! - see I didn't say hello!\")\n",
    "    "
   ]
  },
  {
   "cell_type": "code",
   "execution_count": null,
   "metadata": {},
   "outputs": [],
   "source": [
    "##\n",
    "#  Author: Horstmann and Necaise ==> used by Yang\n",
    "#  This program computes the time required to double an investment.\n",
    "#\n",
    "\n",
    "# Create constant variables.\n",
    "RATE = 5.0\n",
    "INITIAL_BALANCE = 10000.0\n",
    "TARGET = 2 * INITIAL_BALANCE\n",
    "      \n",
    "# Initialize variables used with the loop.\n",
    "balance = INITIAL_BALANCE\n",
    "year = 0\n",
    "\n",
    "# Count the years required for the investment to double.\n",
    "while balance < TARGET:\n",
    "    year = year + 1\n",
    "    interest = balance * RATE / 100\n",
    "    balance = balance + interest\n",
    "\n",
    "print(\"Done with loop!\")\n",
    "   \n",
    "# Print the results.   \n",
    "print(\"The investment doubled after\", year, \"years.\")"
   ]
  },
  {
   "cell_type": "code",
   "execution_count": null,
   "metadata": {},
   "outputs": [],
   "source": [
    "# Linda Yang\n",
    "# Change Calculator - uses a loop\n",
    "\n",
    "print(\"Change Calculator\")\n",
    "print()\n",
    "\n",
    "choice = \"y\"\n",
    "while choice.lower() == \"y\":\n",
    "\n",
    "    # get input from the user\n",
    "    cents = int(input(\"Enter number of cents (0-99): \"))\n",
    "    print()\n",
    "\n",
    "    # calculate the number of quarters\n",
    "    quarters = cents // 25\n",
    "    cents = cents % 25      # assign the remainder to the cents variable\n",
    "\n",
    "    # calculate the number of dimes\n",
    "    dimes = cents // 10\n",
    "    cents = cents % 10      # assign the remainder to the cents variable\n",
    "\n",
    "    # calculate the number of nickels and pennies\n",
    "    nickels = cents // 5    # get number of nickels\n",
    "    pennies = cents % 5     # get number of pennies    \n",
    "\n",
    "    # display coins\n",
    "    print(\"Quarters: \" + str(quarters))\n",
    "    print(\"Dimes:    \" + str(dimes))\n",
    "    print(\"Nickels:  \" + str(nickels))\n",
    "    print(\"Pennies:  \" + str(pennies))\n",
    "    print()\n",
    "    \n",
    "    # see if the user wants to continue\n",
    "    choice = input(\"Continue? (y/n): \")\n",
    "    print()\n",
    "\n",
    "print(\"Bye!\")\n",
    "\n"
   ]
  },
  {
   "cell_type": "code",
   "execution_count": null,
   "metadata": {},
   "outputs": [],
   "source": [
    "##\n",
    "#  Author: Horstmann and Necaise ==> used by Uang\n",
    "#  This program prints the average of salary values that are terminated with \n",
    "#  a sentinel.\n",
    "#\n",
    "\n",
    "# Initialize variables to maintain the running total and count.\n",
    "total = 0.0\n",
    "count = 0\n",
    "\n",
    "# Initialize salary to any non-sentinel value.\n",
    "salary = 0.0\n",
    "\n",
    "# Process data until the sentinel is entered.\n",
    "while salary >= 0.0:\n",
    "    salary = float(input(\"Enter a salary or -1 to finish: \"))\n",
    "    if salary >= 0.0:\n",
    "        total = total + salary\n",
    "        count = count + 1\n",
    "\n",
    "# Compute and print the average salary.\n",
    "if count > 0 :\n",
    "    average = total / count\n",
    "    print(\"Average salary is\", average)\n",
    "else :\n",
    "    print(\"No data was entered.\")\n",
    "\n"
   ]
  },
  {
   "cell_type": "code",
   "execution_count": null,
   "metadata": {},
   "outputs": [],
   "source": [
    "# Linda Yang\n",
    "# For loop\n",
    "\n",
    "for name in [\"Dancer\", \"Prancer\", \"Rudolph\", \"Blitzen\"]:\n",
    "    print(name)"
   ]
  },
  {
   "cell_type": "code",
   "execution_count": null,
   "metadata": {},
   "outputs": [],
   "source": [
    "# Linda Yang - For Loop\n",
    "\n",
    "for num in [0, 1, 2, 3, 4]:\n",
    "    print(num)\n"
   ]
  },
  {
   "cell_type": "code",
   "execution_count": null,
   "metadata": {},
   "outputs": [],
   "source": [
    "# Linda Yang - For Loop\n",
    "# This loop executes 5 times. \n",
    "\n",
    "for num in range(5):\n",
    "    print(num)"
   ]
  },
  {
   "cell_type": "code",
   "execution_count": null,
   "metadata": {},
   "outputs": [],
   "source": [
    "# Linda Yang - Another for loop\n",
    "# This loop starts at 10, increases by (default). The second argument is the limit.\n",
    "\n",
    "for num in range(10,16):\n",
    "    print(num)"
   ]
  },
  {
   "cell_type": "code",
   "execution_count": null,
   "metadata": {},
   "outputs": [],
   "source": [
    "# Linda Yang - Yet another for loop!\n",
    " # Step is increments of 2\n",
    "\n",
    "sum = 0\n",
    "for num in range(0, 9, 2):\n",
    "    sum = sum + num\n",
    "    print(num)\n",
    "    \n",
    "print(\"Sum: \", sum)\n",
    "\n",
    "print(\"I'll be back!\")"
   ]
  },
  {
   "cell_type": "code",
   "execution_count": null,
   "metadata": {},
   "outputs": [],
   "source": [
    "# Linda Yang - Yet another for loop counting down!\n",
    "\n",
    "for num in range(5, 0, -1):\n",
    "    print(num)\n",
    "    \n",
    "print(\"Hasta la vista baby!\")"
   ]
  },
  {
   "cell_type": "code",
   "execution_count": null,
   "metadata": {},
   "outputs": [],
   "source": [
    "# Linda Yang - Print squares of numbers 1 through 10\n",
    "\n",
    "for num in range(1,11):\n",
    "    square = num ** 2\n",
    "    print(num, \"\\t\", square)\n",
    "\n",
    "print(\"The loop has ended... Bye for now!\")\n"
   ]
  },
  {
   "cell_type": "code",
   "execution_count": null,
   "metadata": {},
   "outputs": [],
   "source": [
    "##\n",
    "# SKIP THIS... haven't done formatting of print!!!\n",
    "#  This program prints a table of powers of x.\n",
    "#\n",
    "  \n",
    "# Initialize constant variables for the max ranges.\n",
    "NMAX = 4\n",
    "XMAX = 10\n",
    "\n",
    "# Print table header.      \n",
    "for n in range(1, NMAX + 1) :\n",
    "    print(\"%10d\" % n, end=\"\")\n",
    "\n",
    "print()\n",
    "for n in range(1, NMAX + 1) :\n",
    "    print(\"%10s\" % \"x \", end=\"\")\n",
    "\n",
    "print(\"\\n\", \"    \", \"-\" * 35)\n",
    "\n",
    "# Print table body.\n",
    "for x in range(1, XMAX + 1) :   \n",
    "   # Print the x row in the table.\n",
    "   for n in range(1, NMAX + 1):   \n",
    "        print(\"%10.0f\" % x ** n, end=\"\")\n",
    "    \n",
    "   print()\n"
   ]
  },
  {
   "cell_type": "code",
   "execution_count": null,
   "metadata": {},
   "outputs": [],
   "source": [
    "# Linda Yang - Clock Program with nested Loops\n",
    "\n",
    "for hour in range(0, 12):\n",
    "    for min in range(0,60):\n",
    "        for sec in range(0, 60):\n",
    "            print(hour, ':', min, ':', sec)\n",
    "        \n",
    "\n"
   ]
  },
  {
   "cell_type": "code",
   "execution_count": null,
   "metadata": {},
   "outputs": [],
   "source": [
    "# Author: Linda Yang\n",
    "# Break Statements  Only use if not another alternative\n",
    "\n",
    "print(\"Enter 'exit' when you're done.\\n\")\n",
    "while True:\n",
    "    data = input(\"Enter an integer to square: \")\n",
    "    if data == \"exit\":\n",
    "        break\n",
    "    i = int(data)\n",
    "    print(i, \"squared is\", i * i, \"\\n\")\n",
    "    \n",
    "print(\"Bye for now!\")\n",
    "\n",
    "#==================================\n",
    "# Alternative to using True on loop\n",
    "\n",
    "print(\"Alternative to using True.\\n\")\n",
    "data = input(\"Enter an integer to square or 'exit' to exit: \")\n",
    "\n",
    "while data != 'exit':\n",
    "    i = int(data)\n",
    "    print(i, \"squared is\", i * i, \"\\n\")\n",
    "    data = input(\"Enter an integer to square or 'exit' to exit: \")\n",
    "    \n",
    "print(\"Bye for now!\")\n",
    "        "
   ]
  },
  {
   "cell_type": "code",
   "execution_count": 1,
   "metadata": {},
   "outputs": [
    {
     "name": "stdout",
     "output_type": "stream",
     "text": [
      "The Miles Per Gallon application\n",
      "\n",
      "Enter miles driven:\t\t 250\n",
      "Enter gallons of gas used:\t 11\n",
      "Miles Per Gallon: 22.73 \n",
      "\n",
      "Continue? (y/n): y\n",
      "\n",
      "Enter miles driven:\t\t 360\n",
      "Enter gallons of gas used:\t 21\n",
      "Miles Per Gallon: 17.14 \n",
      "\n",
      "Continue? (y/n): n\n",
      "\n",
      "\n",
      "Bye for now!\n"
     ]
    }
   ],
   "source": [
    "# Miles Per Gallon Program\n",
    "# display a welcome message\n",
    "\n",
    "print(\"The Miles Per Gallon application\")\n",
    "print()\n",
    "\n",
    "more = \"y\"\n",
    "while(more.lower() == \"y\"):\n",
    "    # get input from the user\n",
    "    miles_driven = float(input(\"Enter miles driven:\\t\\t \"))\n",
    "    gallons_used = float(input(\"Enter gallons of gas used:\\t \"))\n",
    "\n",
    "    if miles_driven <= 0 or gallons_used <= 0:\n",
    "        print(\"Both entries must be greater than zero. Please try again.\")\n",
    "        continue\n",
    "        \n",
    "    # calculate and display miles per gallon\n",
    "    mpg = round((miles_driven / gallons_used), 2)\n",
    "    print(\"Miles Per Gallon:\", mpg, \"\\n\")\n",
    "    \n",
    "    more = input(\"Continue? (y/n): \")\n",
    "    print()\n",
    "\n",
    "print()\n",
    "print(\"Bye for now!\")"
   ]
  },
  {
   "cell_type": "code",
   "execution_count": 2,
   "metadata": {},
   "outputs": [
    {
     "name": "stdout",
     "output_type": "stream",
     "text": [
      "2 4\n",
      "5 4\n",
      "5 5\n",
      "6 2\n",
      "2 4\n",
      "2 4\n",
      "1 3\n",
      "6 4\n",
      "2 5\n",
      "1 3\n"
     ]
    }
   ],
   "source": [
    "# from Authors Horstmann and Necaise\n",
    "# simulate the toss of a pair of dice - 10 times\n",
    "import random\n",
    "\n",
    "for i in range(10):\n",
    "    \n",
    "    # generate the random toss\n",
    "    die1 = random.randint(1,6)\n",
    "    die2 = random.randint(1,6)\n",
    "\n",
    "    # print the values\n",
    "    print(die1, die2)\n",
    "    \n",
    "        "
   ]
  },
  {
   "cell_type": "code",
   "execution_count": null,
   "metadata": {},
   "outputs": [],
   "source": []
  }
 ],
 "metadata": {
  "kernelspec": {
   "display_name": "Python 3",
   "language": "python",
   "name": "python3"
  },
  "language_info": {
   "codemirror_mode": {
    "name": "ipython",
    "version": 3
   },
   "file_extension": ".py",
   "mimetype": "text/x-python",
   "name": "python",
   "nbconvert_exporter": "python",
   "pygments_lexer": "ipython3",
   "version": "3.7.6"
  }
 },
 "nbformat": 4,
 "nbformat_minor": 2
}
