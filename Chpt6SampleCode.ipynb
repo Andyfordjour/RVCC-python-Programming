{
 "cells": [
  {
   "cell_type": "code",
   "execution_count": 6,
   "metadata": {},
   "outputs": [
    {
     "name": "stdout",
     "output_type": "stream",
     "text": [
      "[48.0, 30.5, 20.2, 100.0, 42.0]\n",
      "['staff', 'hat', 'shoes']\n",
      "['Ghostbusters', 1985, 9.99]\n",
      "[]\n"
     ]
    }
   ],
   "source": [
    "temps = [48.0, 30.5, 20.2, 100.0, 42.0]\n",
    "inventory = [\"staff\", \"hat\", \"shoes\"]\n",
    "movie = [\"Ghostbusters\", 1985, 9.99]\n",
    "test_scores = []\n",
    "print(temps)\n",
    "print(inventory)\n",
    "print(movie)\n",
    "print(test_scores)"
   ]
  },
  {
   "cell_type": "code",
   "execution_count": 7,
   "metadata": {},
   "outputs": [
    {
     "name": "stdout",
     "output_type": "stream",
     "text": [
      "[0, 0, 0, 0, 0, 0, 0, 0]\n"
     ]
    }
   ],
   "source": [
    "test_scores = [0] * 8\n",
    "print(test_scores)"
   ]
  },
  {
   "cell_type": "code",
   "execution_count": 8,
   "metadata": {},
   "outputs": [
    {
     "name": "stdout",
     "output_type": "stream",
     "text": [
      "42.0\n"
     ]
    }
   ],
   "source": [
    "print(temps[-1])"
   ]
  },
  {
   "cell_type": "code",
   "execution_count": 9,
   "metadata": {},
   "outputs": [
    {
     "name": "stdout",
     "output_type": "stream",
     "text": [
      "[48.0, 30.5, 20.2, 100.0, 42.0]\n",
      "['staff', 'hat', 'shoes']\n",
      "48.0\n",
      "20.2\n",
      "shoes\n"
     ]
    }
   ],
   "source": [
    "print(temps)\n",
    "print(inventory)\n",
    "print(temps[0])\n",
    "\n",
    "# gets an item from the temps list\n",
    "temp = temps[2]\n",
    "print(temp)\n",
    "\n",
    "# gets an item from the temps list\n",
    "item = inventory[2]\n",
    "print(item)"
   ]
  },
  {
   "cell_type": "code",
   "execution_count": 10,
   "metadata": {},
   "outputs": [
    {
     "name": "stdout",
     "output_type": "stream",
     "text": [
      "[99.0, 30.5, 20.2, 100.0, 42.0]\n",
      "['staff', 'hat', 'next Item!']\n"
     ]
    }
   ],
   "source": [
    "# sets an item in the temps list\n",
    "temps[0] = 99.0\n",
    "print(temps)\n",
    "\n",
    "# sets an item in inventory list\n",
    "inventory[2] = \"next Item!\"\n",
    "print(inventory)"
   ]
  },
  {
   "cell_type": "code",
   "execution_count": 5,
   "metadata": {},
   "outputs": [
    {
     "name": "stdout",
     "output_type": "stream",
     "text": [
      "[99.0, 30.5, 20.2, 100.0, 42.0]\n",
      "['staff', 'hat', 'next Item!']\n"
     ]
    }
   ],
   "source": [
    "temps = [48.0, 30.5, 20.2, 100.0, 42.0]\n",
    "\n",
    "# sets an item in the temps list\n",
    "temps[0] = 99.0\n",
    "print(temps)\n",
    "\n",
    "inventory[2] = \"next Item!\"\n",
    "print(inventory)"
   ]
  },
  {
   "cell_type": "code",
   "execution_count": 11,
   "metadata": {},
   "outputs": [
    {
     "name": "stdout",
     "output_type": "stream",
     "text": [
      "You have 5 temperatures in your list!\n"
     ]
    }
   ],
   "source": [
    "temps = [48.0, 30.5, 20.2, 100.0, 42.0]\n",
    "temps_len = len(temps)\n",
    "print(\"You have\", temps_len, \"temperatures in your list!\")"
   ]
  },
  {
   "cell_type": "code",
   "execution_count": 12,
   "metadata": {},
   "outputs": [
    {
     "name": "stdout",
     "output_type": "stream",
     "text": [
      "[48.0, 30.5, 20.2, 100.0, 42.0]\n",
      "100.0\n",
      "85\n"
     ]
    }
   ],
   "source": [
    "temps = [48.0, 30.5, 20.2, 100.0, 42.0]\n",
    "print(temps)\n",
    "\n",
    "temp_hold = temps[3]\n",
    "print(temp_hold)\n",
    "\n",
    "# now temps is NOT a list!\n",
    "temps = 85\n",
    "print(temps)"
   ]
  },
  {
   "cell_type": "code",
   "execution_count": 13,
   "metadata": {},
   "outputs": [
    {
     "name": "stdout",
     "output_type": "stream",
     "text": [
      "[48.0, 30.5, 20.2, 100.0, 42.0]\n",
      "[48.0, 30.5, 20.2, 100.0, 42.0, 101.3]\n",
      "You have 6 temperatures in your list!\n"
     ]
    }
   ],
   "source": [
    "# append() and len()\n",
    "temps = [48.0, 30.5, 20.2, 100.0, 42.0]\n",
    "print(temps)\n",
    "temps.append(101.3)\n",
    "print(temps)\n",
    "temps_len = len(temps)\n",
    "print(\"You have\", temps_len, \"temperatures in your list!\")"
   ]
  },
  {
   "cell_type": "code",
   "execution_count": 15,
   "metadata": {},
   "outputs": [
    {
     "name": "stdout",
     "output_type": "stream",
     "text": [
      "['staff', 'hat', 'shoes', 'shirt', 'hat', 'tie']\n",
      "You have 6 items in your list!\n",
      "['staff', 'hat', 'shoes', 'sweater', 'shirt', 'hat', 'tie']\n",
      "You have 7 items in your list!\n",
      "['staff', 'shoes', 'sweater', 'shirt', 'hat', 'tie']\n",
      "You have 6 items in your list!\n"
     ]
    }
   ],
   "source": [
    "# insert(), and remove() methods\n",
    "\n",
    "inventory = [\"staff\", \"hat\", \"shoes\", \"shirt\",\"hat\", \"tie\"]\n",
    "print(inventory)\n",
    "print(\"You have\", len(inventory), \"items in your list!\")\n",
    "inventory.insert(3, \"sweater\")\n",
    "print(inventory)\n",
    "print(\"You have\", len(inventory), \"items in your list!\")\n",
    "inventory.remove(\"hat\")\n",
    "print(inventory)\n",
    "print(\"You have\", len(inventory), \"items in your list!\")"
   ]
  },
  {
   "cell_type": "code",
   "execution_count": 16,
   "metadata": {},
   "outputs": [
    {
     "name": "stdout",
     "output_type": "stream",
     "text": [
      "['staff', 'shoes', 'sweater', 'shirt', 'hat', 'tie']\n",
      "You have 6 items in your list!\n",
      "tie\n",
      "['staff', 'shoes', 'sweater', 'shirt', 'hat']\n",
      "You have 5 items in your list!\n"
     ]
    }
   ],
   "source": [
    "# pop method\n",
    "print(inventory)\n",
    "print(\"You have\", len(inventory), \"items in your list!\")\n",
    "item = inventory.pop()\n",
    "print(item)\n",
    "print(inventory)\n",
    "print(\"You have\", len(inventory), \"items in your list!\")"
   ]
  },
  {
   "cell_type": "code",
   "execution_count": 17,
   "metadata": {},
   "outputs": [
    {
     "name": "stdout",
     "output_type": "stream",
     "text": [
      "['staff', 'shoes', 'sweater', 'shirt', 'hat']\n",
      "shoes\n",
      "['staff', 'sweater', 'shirt', 'hat']\n"
     ]
    }
   ],
   "source": [
    "# pop specific index\n",
    "print(inventory)\n",
    "item = inventory.pop(1)\n",
    "print(item)\n",
    "print(inventory)"
   ]
  },
  {
   "cell_type": "code",
   "execution_count": 18,
   "metadata": {},
   "outputs": [
    {
     "name": "stdout",
     "output_type": "stream",
     "text": [
      "['staff', 'hat', 'shoes', 'shirt', 'tie']\n",
      "['staff', 'shoes', 'shirt', 'tie']\n"
     ]
    }
   ],
   "source": [
    "inventory = [\"staff\", \"hat\", \"shoes\", \"shirt\", \"tie\"]\n",
    "print(inventory)\n",
    "i = inventory.index(\"hat\")\n",
    "inventory.pop(i)\n",
    "print(inventory)"
   ]
  },
  {
   "cell_type": "code",
   "execution_count": 19,
   "metadata": {},
   "outputs": [
    {
     "name": "stdout",
     "output_type": "stream",
     "text": [
      "['staff', 'shoes', 'shirt', 'tie']\n",
      "4\n",
      "['staff', 'shoes', 'shirt', 'tie', 'shoes', 'socks', 'mittens', 'socks']\n",
      "['staff', 'shoes', 'shirt', 'tie', 'shoes', 'mittens', 'socks']\n"
     ]
    }
   ],
   "source": [
    "print(inventory)\n",
    "print(len(inventory))\n",
    "inventory.append(\"shoes\")\n",
    "inventory.append(\"socks\")\n",
    "inventory.append(\"mittens\")\n",
    "inventory.append(\"socks\")\n",
    "print(inventory)\n",
    "\n",
    "# only removes 1 occurrence\n",
    "item = \"socks\"\n",
    "if item in inventory:\n",
    "    inventory.remove(item)\n",
    "    \n",
    "print(inventory)\n"
   ]
  },
  {
   "cell_type": "code",
   "execution_count": 8,
   "metadata": {},
   "outputs": [
    {
     "name": "stdout",
     "output_type": "stream",
     "text": [
      "staff\n",
      "shoes\n",
      "sweater\n",
      "shirt\n",
      "hat\n",
      "tie\n"
     ]
    }
   ],
   "source": [
    "for item in inventory:\n",
    "    print(item)"
   ]
  },
  {
   "cell_type": "code",
   "execution_count": 20,
   "metadata": {},
   "outputs": [
    {
     "name": "stdout",
     "output_type": "stream",
     "text": [
      "340\n",
      "340\n"
     ]
    }
   ],
   "source": [
    "# adding up test scores using a for loop\n",
    "\n",
    "scores = [70, 80, 90, 100]\n",
    "total = 0\n",
    "for score in scores:\n",
    "    total += score\n",
    "print(total)\n",
    "\n",
    "# adding up test scores using a while loop\n",
    "total = 0\n",
    "i = 0\n",
    "while i < len(scores):\n",
    "    total += scores[i]\n",
    "    i += 1\n",
    "print(total)\n"
   ]
  },
  {
   "cell_type": "code",
   "execution_count": 1,
   "metadata": {},
   "outputs": [
    {
     "name": "stdout",
     "output_type": "stream",
     "text": [
      "25\n",
      "50\n"
     ]
    }
   ],
   "source": [
    "def double_it(value):\n",
    "    value = value * 2\n",
    "    return value\n",
    "\n",
    "def main():\n",
    "    value1 = 25\n",
    "    value2 = double_it(value1)\n",
    "    print(value1)\n",
    "    print(value2)\n",
    "    \n",
    "if __name__ == \"__main__\":\n",
    "    main()\n"
   ]
  },
  {
   "cell_type": "code",
   "execution_count": 15,
   "metadata": {},
   "outputs": [
    {
     "name": "stdout",
     "output_type": "stream",
     "text": [
      "Inventory before call:  ['pizza', 'cookies', 'ice cream']\n",
      "Inventory after call:  ['pizza', 'cookies', 'ice cream', 'pasta']\n",
      "['pizza', 'cookies', 'ice cream', 'pasta']\n"
     ]
    }
   ],
   "source": [
    "def add_to_list(list, item):\n",
    "    list.append(item)\n",
    "    \n",
    "def main():\n",
    "    inventory = [\"pizza\", \"cookies\", \"ice cream\"]\n",
    "    print(\"Inventory before call: \", inventory)\n",
    "    add_to_list(inventory, \"pasta\") \n",
    "    print(\"Inventory after call: \", inventory)\n",
    "    \n",
    "    print(inventory)\n",
    "\n",
    "        \n",
    "if __name__ == \"__main__\":\n",
    "    main()\n"
   ]
  },
  {
   "cell_type": "code",
   "execution_count": 21,
   "metadata": {},
   "outputs": [
    {
     "name": "stdout",
     "output_type": "stream",
     "text": [
      "COMMAND MENU\n",
      "list - List all movies\n",
      "add - Add a movie\n",
      "del - Delete a movie\n",
      "exit - exit program\n",
      "Enter Command: list\n",
      "\n",
      "1. A Star is Born\n",
      "2. An Old Man and a Gun\n",
      "3. X-Men\n",
      "\n",
      "COMMAND MENU\n",
      "list - List all movies\n",
      "add - Add a movie\n",
      "del - Delete a movie\n",
      "exit - exit program\n",
      "Enter Command: add\n",
      "Movie Name: Jaws\n",
      "Jaws was added to the movie list.\n",
      "\n",
      "COMMAND MENU\n",
      "list - List all movies\n",
      "add - Add a movie\n",
      "del - Delete a movie\n",
      "exit - exit program\n",
      "Enter Command: list\n",
      "\n",
      "1. A Star is Born\n",
      "2. An Old Man and a Gun\n",
      "3. X-Men\n",
      "4. Jaws\n",
      "\n",
      "COMMAND MENU\n",
      "list - List all movies\n",
      "add - Add a movie\n",
      "del - Delete a movie\n",
      "exit - exit program\n",
      "Enter Command: del\n",
      "Movie number: 2\n",
      "An Old Man and a Gun was deleted.\n",
      "\n",
      "COMMAND MENU\n",
      "list - List all movies\n",
      "add - Add a movie\n",
      "del - Delete a movie\n",
      "exit - exit program\n",
      "Enter Command: list\n",
      "\n",
      "1. A Star is Born\n",
      "2. X-Men\n",
      "3. Jaws\n",
      "\n",
      "COMMAND MENU\n",
      "list - List all movies\n",
      "add - Add a movie\n",
      "del - Delete a movie\n",
      "exit - exit program\n",
      "Enter Command: jijnijniij\n",
      "Not a valid command.  Please try again.\n",
      "\n",
      "Enter Command: exit\n",
      "You'll be back!\n"
     ]
    }
   ],
   "source": [
    "# Movie - Phase 1\n",
    "# Author: Murach and Yang\n",
    "\n",
    "def display_menu():\n",
    "    print(\"COMMAND MENU\")\n",
    "    print(\"list - List all movies\")\n",
    "    print(\"add - Add a movie\")\n",
    "    print(\"del - Delete a movie\")\n",
    "    print(\"exit - exit program\")\n",
    "    \n",
    "def list(movie_list):\n",
    "    i = 1\n",
    "    print()\n",
    "    for movie in movie_list:\n",
    "        print(str(i) + \". \" + movie)\n",
    "        i += 1\n",
    "        \n",
    "    print()\n",
    "    \n",
    "def add(movie_list):\n",
    "    movie = input(\"Movie Name: \")\n",
    "    movie_list.append(movie)\n",
    "    print(movie + \" was added to the movie list.\\n\")\n",
    "    \n",
    "def delete(movie_list):\n",
    "    number = int(input(\"Movie number: \"))\n",
    "    if number < 1 or number > len(movie_list):\n",
    "        print(\"Invalid movie number.\\n\")\n",
    "    else:\n",
    "        movie = movie_list.pop(number-1)\n",
    "        print(movie + \" was deleted.\\n\")\n",
    "              \n",
    "def main():\n",
    "    movie_list = [\"A Star is Born\",\n",
    "                  \"An Old Man and a Gun\",\n",
    "                  \"X-Men\"]\n",
    "              \n",
    "    display_menu()\n",
    "    command = input(\"Enter Command: \")\n",
    "        \n",
    "    while (command.lower() != \"exit\"):\n",
    "        \n",
    "        if command.lower() == \"list\":\n",
    "            list(movie_list)\n",
    "            display_menu()\n",
    "        elif command.lower() == \"add\":\n",
    "            add(movie_list)\n",
    "            display_menu()\n",
    "        elif command.lower() == \"del\":\n",
    "            delete(movie_list)\n",
    "            display_menu()\n",
    "        else:\n",
    "            print(\"Not a valid command.  Please try again.\\n\")\n",
    "            \n",
    "        command = input(\"Enter Command: \")\n",
    "               \n",
    "    print(\"You'll be back!\")     \n",
    "        \n",
    "if __name__ == \"__main__\":\n",
    "    main()\n",
    "  \n",
    "          \n",
    "    "
   ]
  },
  {
   "cell_type": "code",
   "execution_count": 22,
   "metadata": {},
   "outputs": [
    {
     "name": "stdout",
     "output_type": "stream",
     "text": [
      "[['Joel', 85, 95, 70], ['Anne', 95, 100, 100], ['Mike', 77, 70, 80, 85]]\n"
     ]
    }
   ],
   "source": [
    "students = [[\"Joel\", 85, 95, 70],\n",
    "            [\"Anne\", 95, 100, 100],\n",
    "            [\"Mike\", 77, 70, 80, 85]]\n",
    "print(students)"
   ]
  },
  {
   "cell_type": "code",
   "execution_count": 23,
   "metadata": {},
   "outputs": [
    {
     "name": "stdout",
     "output_type": "stream",
     "text": [
      "Joel | 85 | 95 | 70 | \n",
      "Anne | 95 | 100 | 100 | \n",
      "Mike | 77 | 70 | 80 | 85 | \n"
     ]
    }
   ],
   "source": [
    "for student in students:\n",
    "    for item in student:\n",
    "        print(item, end=\" | \")\n",
    "    print()"
   ]
  },
  {
   "cell_type": "code",
   "execution_count": 24,
   "metadata": {},
   "outputs": [
    {
     "name": "stdout",
     "output_type": "stream",
     "text": [
      "COMMAND MENU\n",
      "list - List all movies\n",
      "add - Add a movie\n",
      "del - Delete a movie\n",
      "exit - exit program\n",
      "Enter Command: list\n",
      "\n",
      "1. A Star is Born (2018)\n",
      "2. An Old Man and a Gun (2018)\n",
      "3. The Spy Who Dumped Me (2017)\n",
      "\n",
      "COMMAND MENU\n",
      "list - List all movies\n",
      "add - Add a movie\n",
      "del - Delete a movie\n",
      "exit - exit program\n",
      "Enter Command: add\n",
      "Movie Name: jaws\n",
      "Movie Year: 1975\n",
      "jaws was added.\n",
      "\n",
      "COMMAND MENU\n",
      "list - List all movies\n",
      "add - Add a movie\n",
      "del - Delete a movie\n",
      "exit - exit program\n",
      "Enter Command: list\n",
      "\n",
      "1. A Star is Born (2018)\n",
      "2. An Old Man and a Gun (2018)\n",
      "3. The Spy Who Dumped Me (2017)\n",
      "4. jaws (1975)\n",
      "\n",
      "COMMAND MENU\n",
      "list - List all movies\n",
      "add - Add a movie\n",
      "del - Delete a movie\n",
      "exit - exit program\n",
      "Enter Command: del\n",
      "Movie number: 2\n",
      "An Old Man and a Gun was deleted.\n",
      "\n",
      "COMMAND MENU\n",
      "list - List all movies\n",
      "add - Add a movie\n",
      "del - Delete a movie\n",
      "exit - exit program\n",
      "Enter Command: list\n",
      "\n",
      "1. A Star is Born (2018)\n",
      "2. The Spy Who Dumped Me (2017)\n",
      "3. jaws (1975)\n",
      "\n",
      "COMMAND MENU\n",
      "list - List all movies\n",
      "add - Add a movie\n",
      "del - Delete a movie\n",
      "exit - exit program\n",
      "Enter Command: kokoko\n",
      "Not a valid command.  Please try again.\n",
      "\n",
      "Enter Command: exit\n",
      "You'll be back!\n"
     ]
    }
   ],
   "source": [
    "# Movie - Phase 2 - Movie Name and Movie Year\n",
    "# Author: Murach and Yang\n",
    "\n",
    "def display_menu():\n",
    "    print(\"COMMAND MENU\")\n",
    "    print(\"list - List all movies\")\n",
    "    print(\"add - Add a movie\")\n",
    "    print(\"del - Delete a movie\")\n",
    "    print(\"exit - exit program\")\n",
    "    \n",
    "def list(movie_list):\n",
    "    if len(movie_list) == 0:\n",
    "        print(\"There are no movies in the list.\\n\")\n",
    "    else:\n",
    "        i = 1\n",
    "        print()\n",
    "        for row in movie_list:\n",
    "            print(str(i) + \". \" + row[0] + \" (\" + str(row[1]) + \")\")\n",
    "            i += 1\n",
    "        \n",
    "        print()\n",
    "    \n",
    "def add(movie_list):\n",
    "    name = input(\"Movie Name: \")\n",
    "    year = input(\"Movie Year: \")\n",
    "    movie = []\n",
    "    movie.append(name)\n",
    "    movie.append(year)\n",
    "    movie_list.append(movie)\n",
    "    print(movie[0] + \" was added.\\n\")\n",
    "    \n",
    "def delete(movie_list):\n",
    "    number = int(input(\"Movie number: \"))\n",
    "    if number < 1 or number > len(movie_list):\n",
    "        print(\"Invalid movie number.\\n\")\n",
    "    else:\n",
    "        movie = movie_list.pop(number-1)\n",
    "        print(movie[0] + \" was deleted.\\n\")\n",
    "              \n",
    "def main():\n",
    "    movie_list = [[\"A Star is Born\", 2018],\n",
    "                     [\"An Old Man and a Gun\", 2018],\n",
    "                    [\"The Spy Who Dumped Me\", 2017]]\n",
    "              \n",
    "    display_menu()\n",
    "    command = input(\"Enter Command: \")\n",
    "        \n",
    "    while (command.lower() != \"exit\"):\n",
    "        \n",
    "        if command.lower() == \"list\":\n",
    "            list(movie_list)\n",
    "            display_menu()\n",
    "        elif command.lower() == \"add\":\n",
    "            add(movie_list)\n",
    "            display_menu()\n",
    "        elif command.lower() == \"del\":\n",
    "            delete(movie_list)\n",
    "            display_menu()\n",
    "        else:\n",
    "            print(\"Not a valid command.  Please try again.\\n\")\n",
    "\n",
    "        command = input(\"Enter Command: \")\n",
    "         \n",
    "    print(\"You'll be back!\")     \n",
    "        \n",
    "if __name__ == \"__main__\":\n",
    "    main()\n",
    "  \n",
    "          "
   ]
  },
  {
   "cell_type": "code",
   "execution_count": 25,
   "metadata": {},
   "outputs": [
    {
     "name": "stdout",
     "output_type": "stream",
     "text": [
      "2\n",
      "[25, 14, 10, 8, 2, 14, 3, 84, 15, 5]\n",
      "[2, 3, 5, 8, 10, 14, 14, 15, 25, 84]\n"
     ]
    }
   ],
   "source": [
    "numlist = [5, 15, 84, 3, 14, 2, 8, 10, 14, 25]\n",
    "\n",
    "# count returns the number of occurrences of an item\n",
    "count = numlist.count(14)\n",
    "print(count)\n",
    "\n",
    "# reverses the list \n",
    "numlist.reverse()\n",
    "print(numlist)\n",
    "\n",
    "# sorts the list\n",
    "numlist.sort()\n",
    "print(numlist)"
   ]
  },
  {
   "cell_type": "code",
   "execution_count": 26,
   "metadata": {},
   "outputs": [
    {
     "name": "stdout",
     "output_type": "stream",
     "text": [
      "['Pear', 'apple', 'banana', 'orange']\n",
      "['apple', 'banana', 'orange', 'Pear']\n",
      "['Pear', 'apple', 'banana', 'orange']\n",
      "['apple', 'banana', 'orange', 'Pear']\n"
     ]
    }
   ],
   "source": [
    "foodlist = [\"orange\", \"apple\", \"Pear\", \"banana\"]\n",
    "foodlist.sort()\n",
    "print(foodlist)\n",
    "\n",
    "foodlist.sort(key=str.lower)\n",
    "print(foodlist)\n",
    "\n",
    "foodlist = [\"orange\", \"apple\", \"Pear\", \"banana\"]\n",
    "foodlist = sorted(foodlist)\n",
    "print(foodlist)\n",
    "\n",
    "foodlist = sorted(foodlist, key=str.lower)\n",
    "print(foodlist)"
   ]
  },
  {
   "cell_type": "code",
   "execution_count": 27,
   "metadata": {},
   "outputs": [
    {
     "name": "stdout",
     "output_type": "stream",
     "text": [
      "2\n",
      "84\n"
     ]
    }
   ],
   "source": [
    "numlist = [5, 15, 84, 3, 14, 2, 8, 10, 14, 25]\n",
    "print(min(numlist))\n",
    "print(max(numlist))"
   ]
  },
  {
   "cell_type": "code",
   "execution_count": 29,
   "metadata": {},
   "outputs": [
    {
     "name": "stdout",
     "output_type": "stream",
     "text": [
      "[1, 4, 3, 4, 5]\n",
      "[1, 4, 3, 4, 5]\n"
     ]
    }
   ],
   "source": [
    "# shallow copy causes both to refer to the same list\n",
    "\n",
    "list_one = [1, 2, 3, 4, 5]\n",
    "list_two = list_one\n",
    "list_two[1] = 4\n",
    "print(list_one)\n",
    "print(list_two)"
   ]
  },
  {
   "cell_type": "code",
   "execution_count": 28,
   "metadata": {},
   "outputs": [
    {
     "name": "stdout",
     "output_type": "stream",
     "text": [
      "[1, 2, 3, 4, 5]\n",
      "[1, 4, 3, 4, 5]\n"
     ]
    }
   ],
   "source": [
    "# deep copy\n",
    "\n",
    "import copy\n",
    "list_one = [1, 2, 3, 4, 5]\n",
    "list_two = copy.deepcopy(list_one)\n",
    "list_two[1] = 4\n",
    "print(list_one)\n",
    "print(list_two)"
   ]
  },
  {
   "cell_type": "code",
   "execution_count": 28,
   "metadata": {},
   "outputs": [
    {
     "name": "stdout",
     "output_type": "stream",
     "text": [
      "[52, 54]\n",
      "[52, 54]\n",
      "[60, 62]\n",
      "[52, 56]\n",
      "[62, 60, 58, 56, 54, 52]\n"
     ]
    }
   ],
   "source": [
    "numbers = [52, 54, 56, 58, 60, 62]\n",
    "print(numbers[0:2])\n",
    "print(numbers[:2])\n",
    "print(numbers[4:])\n",
    "print(numbers[0:4:2])\n",
    "print(numbers[::-1])"
   ]
  },
  {
   "cell_type": "code",
   "execution_count": 31,
   "metadata": {},
   "outputs": [
    {
     "name": "stdout",
     "output_type": "stream",
     "text": [
      "1 2 3\n"
     ]
    }
   ],
   "source": [
    "# tuples - unpacking\n",
    "\n",
    "tuple_values = (1, 2, 3)\n",
    "a, b, c = tuple_values\n",
    "print(a, b, c)"
   ]
  },
  {
   "cell_type": "code",
   "execution_count": 29,
   "metadata": {},
   "outputs": [
    {
     "name": "stdout",
     "output_type": "stream",
     "text": [
      "5 4 1\n"
     ]
    }
   ],
   "source": [
    "def multiple_return_values():\n",
    "    x = 5\n",
    "    y = 4\n",
    "    z = 1\n",
    "    return x, y, z\n",
    "\n",
    "def main():\n",
    "    a, b, c = multiple_return_values()\n",
    "    print(a, b, c)\n",
    "    \n",
    "if __name__ == \"__main__\":\n",
    "    main()\n",
    "  "
   ]
  },
  {
   "cell_type": "code",
   "execution_count": null,
   "metadata": {},
   "outputs": [],
   "source": [
    "# Number Crunching Program\n",
    "\n",
    "import random\n",
    "\n",
    "def crunch_numbers(data):\n",
    "    total = 0\n",
    "    for number in data:\n",
    "        total += number\n",
    "        \n",
    "    average = round(total / len(data))\n",
    "    median_index = len(data) // 2\n",
    "    median = data[median_index]\n",
    "    minimum = min(data)\n",
    "    maximum = max(data)\n",
    "    dups = get_duplicates(data)\n",
    "    \n",
    "    print(\"Average =\", average,\n",
    "          \"Median =\", median,\n",
    "          \"Min =\", minimum,\n",
    "          \"Max =\", maximum,\n",
    "          \"Dups =\", dups)\n",
    "    \n",
    "def get_duplicates(data):\n",
    "    dups = []\n",
    "    for i in range(51):\n",
    "        count = data.count(i)\n",
    "        if count >= 2:\n",
    "            dups.append(i)\n",
    "    return dups\n",
    "\n",
    "def main():\n",
    "    fixed_tuple = (0, 5, 10, 15, 20, 25, 39, 35, 40, 45, 50)\n",
    "    random_list = [0] * 11\n",
    "    for i in range(len(random_list)):\n",
    "        random_list[i] = random.randint(0, 50)\n",
    "    random_list.sort()\n",
    "    \n",
    "    print(\"TUPLE DATA:\", fixed_tuple)\n",
    "    crunch_numbers(fixed_tuple)\n",
    "    print()\n",
    "    print(\"RANDOM DATA:\", random_list)\n",
    "    crunch_numbers(random_list)\n",
    "    \n",
    "if __name__ == \"__main__\":\n",
    "    main()\n",
    "  \n",
    "    "
   ]
  },
  {
   "cell_type": "code",
   "execution_count": 9,
   "metadata": {},
   "outputs": [
    {
     "name": "stdout",
     "output_type": "stream",
     "text": [
      "(8, 6, 7)\n"
     ]
    },
    {
     "ename": "AttributeError",
     "evalue": "'tuple' object has no attribute 'append'",
     "output_type": "error",
     "traceback": [
      "\u001b[1;31m---------------------------------------------------------------------------\u001b[0m",
      "\u001b[1;31mAttributeError\u001b[0m                            Traceback (most recent call last)",
      "\u001b[1;32m<ipython-input-9-c567198bdfc4>\u001b[0m in \u001b[0;36m<module>\u001b[1;34m()\u001b[0m\n\u001b[0;32m     14\u001b[0m \u001b[1;33m\u001b[0m\u001b[0m\n\u001b[0;32m     15\u001b[0m \u001b[1;32mif\u001b[0m \u001b[0m__name__\u001b[0m \u001b[1;33m==\u001b[0m \u001b[1;34m\"__main__\"\u001b[0m\u001b[1;33m:\u001b[0m\u001b[1;33m\u001b[0m\u001b[0m\n\u001b[1;32m---> 16\u001b[1;33m     \u001b[0mmain\u001b[0m\u001b[1;33m(\u001b[0m\u001b[1;33m)\u001b[0m\u001b[1;33m\u001b[0m\u001b[0m\n\u001b[0m\u001b[0;32m     17\u001b[0m \u001b[1;33m\u001b[0m\u001b[0m\n",
      "\u001b[1;32m<ipython-input-9-c567198bdfc4>\u001b[0m in \u001b[0;36mmain\u001b[1;34m()\u001b[0m\n\u001b[0;32m     10\u001b[0m \u001b[1;32mdef\u001b[0m \u001b[0mmain\u001b[0m\u001b[1;33m(\u001b[0m\u001b[1;33m)\u001b[0m\u001b[1;33m:\u001b[0m\u001b[1;33m\u001b[0m\u001b[0m\n\u001b[0;32m     11\u001b[0m     \u001b[0mmy_tuple\u001b[0m \u001b[1;33m=\u001b[0m \u001b[1;33m(\u001b[0m\u001b[1;36m8\u001b[0m\u001b[1;33m,\u001b[0m \u001b[1;36m6\u001b[0m\u001b[1;33m,\u001b[0m \u001b[1;36m7\u001b[0m\u001b[1;33m)\u001b[0m\u001b[1;33m\u001b[0m\u001b[0m\n\u001b[1;32m---> 12\u001b[1;33m     \u001b[0mtest_this\u001b[0m\u001b[1;33m(\u001b[0m\u001b[0mmy_tuple\u001b[0m\u001b[1;33m)\u001b[0m\u001b[1;33m\u001b[0m\u001b[0m\n\u001b[0m\u001b[0;32m     13\u001b[0m     \u001b[0mprint\u001b[0m\u001b[1;33m(\u001b[0m\u001b[0mmy_tuple\u001b[0m\u001b[1;33m)\u001b[0m\u001b[1;33m\u001b[0m\u001b[0m\n\u001b[0;32m     14\u001b[0m \u001b[1;33m\u001b[0m\u001b[0m\n",
      "\u001b[1;32m<ipython-input-9-c567198bdfc4>\u001b[0m in \u001b[0;36mtest_this\u001b[1;34m(tuple_list)\u001b[0m\n\u001b[0;32m      2\u001b[0m \u001b[1;32mdef\u001b[0m \u001b[0mtest_this\u001b[0m\u001b[1;33m(\u001b[0m\u001b[0mtuple_list\u001b[0m\u001b[1;33m)\u001b[0m\u001b[1;33m:\u001b[0m\u001b[1;33m\u001b[0m\u001b[0m\n\u001b[0;32m      3\u001b[0m     \u001b[0mprint\u001b[0m\u001b[1;33m(\u001b[0m\u001b[0mtuple_list\u001b[0m\u001b[1;33m)\u001b[0m\u001b[1;33m\u001b[0m\u001b[0m\n\u001b[1;32m----> 4\u001b[1;33m     \u001b[0mtuple_list\u001b[0m\u001b[1;33m.\u001b[0m\u001b[0mappend\u001b[0m\u001b[1;33m(\u001b[0m\u001b[1;36m8\u001b[0m\u001b[1;33m)\u001b[0m\u001b[1;33m\u001b[0m\u001b[0m\n\u001b[0m\u001b[0;32m      5\u001b[0m     \u001b[1;31m#tuple_list = [8, 5, 4]\u001b[0m\u001b[1;33m\u001b[0m\u001b[1;33m\u001b[0m\u001b[0m\n\u001b[0;32m      6\u001b[0m     \u001b[0mprint\u001b[0m\u001b[1;33m(\u001b[0m\u001b[0mtuple_list\u001b[0m\u001b[1;33m)\u001b[0m\u001b[1;33m\u001b[0m\u001b[0m\n",
      "\u001b[1;31mAttributeError\u001b[0m: 'tuple' object has no attribute 'append'"
     ]
    }
   ],
   "source": [
    "\n",
    "def test_this(tuple_list):\n",
    "    print(tuple_list)\n",
    "    tuple_list.append(8)\n",
    "    #tuple_list = [8, 5, 4]\n",
    "    print(tuple_list)\n",
    "    tuple_list.append(8)\n",
    "    print(tuple_list)\n",
    "    \n",
    "def main():\n",
    "    my_tuple = (8, 6, 7)\n",
    "    test_this(my_tuple)\n",
    "    print(my_tuple)\n",
    "    \n",
    "if __name__ == \"__main__\":\n",
    "    main()\n",
    "    "
   ]
  },
  {
   "cell_type": "code",
   "execution_count": 4,
   "metadata": {},
   "outputs": [
    {
     "name": "stdout",
     "output_type": "stream",
     "text": [
      "Linda\n",
      "5.0\n",
      "3.5\n"
     ]
    }
   ],
   "source": [
    "new_num = 3\n",
    "new_num = \"Linda\"\n",
    "print(new_num)\n",
    "x = 7\n",
    "y = 2\n",
    "z = 1.5\n",
    "new_num = x / y + z\n",
    "print(new_num)\n",
    "new_num = x / y\n",
    "print(new_num)"
   ]
  },
  {
   "cell_type": "code",
   "execution_count": 5,
   "metadata": {},
   "outputs": [
    {
     "name": "stdout",
     "output_type": "stream",
     "text": [
      "Enter your age: 29\n",
      "In 5 years you will be 34 .\n"
     ]
    }
   ],
   "source": [
    "my_age = input(\"Enter your age: \")\n",
    "myNewAge = int(my_age) + 5 \n",
    "print(\"In 5 years you will be\", myNewAge, \".\")"
   ]
  },
  {
   "cell_type": "code",
   "execution_count": null,
   "metadata": {},
   "outputs": [],
   "source": []
  }
 ],
 "metadata": {
  "kernelspec": {
   "display_name": "Python 3",
   "language": "python",
   "name": "python3"
  },
  "language_info": {
   "codemirror_mode": {
    "name": "ipython",
    "version": 3
   },
   "file_extension": ".py",
   "mimetype": "text/x-python",
   "name": "python",
   "nbconvert_exporter": "python",
   "pygments_lexer": "ipython3",
   "version": "3.7.6"
  }
 },
 "nbformat": 4,
 "nbformat_minor": 2
}
