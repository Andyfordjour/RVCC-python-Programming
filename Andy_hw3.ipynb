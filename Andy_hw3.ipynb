{
 "cells": [
  {
   "cell_type": "markdown",
   "id": "0b364a07",
   "metadata": {},
   "source": [
    "### homework3\n",
    "### Author:  Andy fordjour\n",
    "\n",
    "### problem 1\n",
    "### Purpose: Use turtle library to draw a Square"
   ]
  },
  {
   "cell_type": "code",
   "execution_count": null,
   "id": "4c9eaae3",
   "metadata": {},
   "outputs": [],
   "source": [
    "#importing turtle\n",
    "#square has all sides to be equal so we make the forward 50 unites and the left 90 degrees\n",
    "\n",
    "import turtle\n",
    "turtle.forward(50)\n",
    "turtle.left(90)\n",
    "turtle.forward(50)\n",
    "turtle.left(90)\n",
    "turtle.forward(50)\n",
    "turtle.left(90)\n",
    "turtle.forward(50)\n",
    "\n"
   ]
  },
  {
   "cell_type": "markdown",
   "id": "cfa56f03",
   "metadata": {},
   "source": [
    "### Purpose: Use turtle library to draw a rectangle"
   ]
  },
  {
   "cell_type": "code",
   "execution_count": null,
   "id": "ec55b1a9",
   "metadata": {},
   "outputs": [],
   "source": [
    "#importing turtle\n",
    "# a rectangle has two sides to be equal so we make forward 100 units and the other sides 50 unites with a left of 90 degrees\n",
    "import turtle as t\n",
    "t.forward(100)\n",
    "t.left(90)\n",
    "t.forward(50)\n",
    "t.left(90)\n",
    "t.forward(100)\n",
    "t.left(90)\n",
    "t.forward(50)\n"
   ]
  },
  {
   "cell_type": "markdown",
   "id": "3eaf87e7",
   "metadata": {},
   "source": [
    "### Using turtle library to draw a Polygon"
   ]
  },
  {
   "cell_type": "code",
   "execution_count": null,
   "id": "41caf2c8",
   "metadata": {},
   "outputs": [],
   "source": [
    "#importing turtle\n",
    "# A polygon is a six sided figure\n",
    "# In this lab I add a pencolor of red,blue,yellow and fillcolor of green\n",
    "import turtle as t\n",
    "\n",
    "t.pencolor(\"red\")\n",
    "t.fillcolor(\"green\")\n",
    "t.begin_fill()\n",
    "t.width(5)\n",
    "t.forward(100)\n",
    "t.width(5)\n",
    "t.right(300)\n",
    "t.forward(100)\n",
    "t.width(5)\n",
    "t.pencolor(\"blue\")\n",
    "t.right(300)\n",
    "t.forward(100)\n",
    "t.width(5)\n",
    "t.right(300)\n",
    "t.forward(100)\n",
    "t.width(5)\n",
    "t.pencolor(\"yellow\")\n",
    "t.right(300)\n",
    "t.forward(100)\n",
    "t.width(5)\n",
    "t.right(300)\n",
    "t.forward(100)\n",
    "t.width(5)\n",
    "t.right(300)\n",
    "t.end_fill()\n",
    "\n",
    "\n"
   ]
  },
  {
   "cell_type": "markdown",
   "id": "3a403801",
   "metadata": {},
   "source": [
    "### Author: Andy Fordjour\n",
    "### Problem 2\n",
    "### the dating equation program"
   ]
  },
  {
   "cell_type": "code",
   "execution_count": 5,
   "id": "bd03b818",
   "metadata": {},
   "outputs": [
    {
     "name": "stdout",
     "output_type": "stream",
     "text": [
      "Enter your age: 30\n",
      "Enter LI age: 15\n",
      "You are creepy... find someone your own age!\n"
     ]
    }
   ],
   "source": [
    "# dating program\n",
    "# author Andy fordjour\n",
    "# the vairant ask if you like a celebrity or not and do not override the age but instead use the age for validation\n",
    "\n",
    "your_age = int(input(\"Enter your age: \"))\n",
    "love_interest_age = int(input(\"Enter LI age: \"))\n",
    "\n",
    "#if statement for low love intrest age\n",
    "if love_interest_age < your_age / 2 + 7:\n",
    "    print(\"You are creepy... find someone your own age!\")\n",
    "\n",
    "#if statement for not too old love intrest age\n",
    "elif love_interest_age >= your_age-7 * 2:\n",
    "    \n",
    "    # variant ask if you like a celebrity or not \n",
    "    \n",
    "    variant = str(input(\"Do you want a celebrity: type 'yes' or 'no': \"))\n",
    "    \n",
    "    if variant ==\"yes\":\n",
    "        \n",
    "        print(\"Great! enjoy your celebrity life style\")\n",
    "        \n",
    "    else :\n",
    "        print(\"Great! I see you like a simple life!\")\n",
    "        \n",
    "    print(\"Not too old for you.. you are good to go\")"
   ]
  },
  {
   "cell_type": "markdown",
   "id": "ed49bf37",
   "metadata": {},
   "source": [
    "### Author: Andy fordjour\n",
    "### problem 3"
   ]
  },
  {
   "cell_type": "code",
   "execution_count": null,
   "id": "6d077f9c",
   "metadata": {},
   "outputs": [],
   "source": [
    "#Author Andy fordjour\n",
    "#A program to indicate whether the person is an infant, a toddler, a child, a teenager, an adult, or a mature, wise person\n",
    "\n",
    "#user input\n",
    "user = int(input(\"Enter person's age: \"))\n",
    "# calculation for infant\n",
    "if user <= 1 :\n",
    "    print(\"infant\")\n",
    "#calculation for toddler\n",
    "elif user > 1 and user < 3:\n",
    "    print(\"toddler\")\n",
    "#calculation for child\n",
    "elif user > 3 and user < 13 :\n",
    "    print(\"child\")\n",
    "#calculation for teenager\n",
    "elif user >= 13 and user < 20 :\n",
    "    print(\"teenager\")\n",
    "#calculation for adult\n",
    "elif user >= 20 and user < 70:\n",
    "    print(\"adult\")\n",
    "#calculation for a wise person\n",
    "elif user >=70 :\n",
    "    print(\"mature wise person!\")"
   ]
  }
 ],
 "metadata": {
  "kernelspec": {
   "display_name": "Python 3",
   "language": "python",
   "name": "python3"
  },
  "language_info": {
   "codemirror_mode": {
    "name": "ipython",
    "version": 3
   },
   "file_extension": ".py",
   "mimetype": "text/x-python",
   "name": "python",
   "nbconvert_exporter": "python",
   "pygments_lexer": "ipython3",
   "version": "3.8.8"
  }
 },
 "nbformat": 4,
 "nbformat_minor": 5
}
