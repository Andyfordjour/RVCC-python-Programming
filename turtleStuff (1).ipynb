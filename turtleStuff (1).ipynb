{
 "cells": [
  {
   "cell_type": "code",
   "execution_count": null,
   "metadata": {},
   "outputs": [],
   "source": [
    "# Author: Linda Yang\n",
    "# turtle library is not built-in\n",
    "# import loads the turtle module into memory\n",
    "# so the python interpreter can use it\n",
    "import turtle\n",
    "#turtle.showturtle()\n",
    "turtle.dot()\n",
    "turtle.forward(50)\n",
    "turtle.dot()\n",
    "turtle.forward(50)\n",
    "turtle.dot()"
   ]
  },
  {
   "cell_type": "code",
   "execution_count": null,
   "metadata": {},
   "outputs": [],
   "source": [
    "import turtle\n",
    "turtle.showturtle()\n",
    "turtle.circle(100)"
   ]
  },
  {
   "cell_type": "code",
   "execution_count": null,
   "metadata": {},
   "outputs": [],
   "source": [
    "import turtle\n",
    "turtle.showturtle()\n",
    "turtle.forward(5)\n",
    "turtle.circle(100)\n",
    "turtle.forward(5)\n",
    "turtle.circle(100)\n",
    "turtle.forward(5)\n",
    "turtle.circle(100)"
   ]
  },
  {
   "cell_type": "code",
   "execution_count": null,
   "metadata": {},
   "outputs": [],
   "source": [
    "import turtle\n",
    "turtle.showturtle()\n",
    "turtle.pencolor(\"violet\")\n",
    "turtle.forward(5)\n",
    "turtle.circle(100)\n",
    "turtle.forward(5)\n",
    "turtle.circle(100)"
   ]
  },
  {
   "cell_type": "code",
   "execution_count": null,
   "metadata": {},
   "outputs": [],
   "source": [
    "turtle.left(90)\n",
    "turtle.penup()\n",
    "turtle.forward(100)\n",
    "turtle.pendown()\n",
    "turtle.write(\"My Circles\")"
   ]
  },
  {
   "cell_type": "code",
   "execution_count": 1,
   "metadata": {},
   "outputs": [],
   "source": [
    "import turtle as t\n",
    "t.showturtle()\n",
    "degrees = 90\n",
    "t.left(degrees)\n",
    "t.penup()\n",
    "pixels = 100\n",
    "t.forward(pixels)\n",
    "t.pendown()\n",
    "name = \"Linda J Yang\"\n",
    "t.write(name)"
   ]
  },
  {
   "cell_type": "code",
   "execution_count": null,
   "metadata": {},
   "outputs": [],
   "source": []
  }
 ],
 "metadata": {
  "kernelspec": {
   "display_name": "Python 3",
   "language": "python",
   "name": "python3"
  },
  "language_info": {
   "codemirror_mode": {
    "name": "ipython",
    "version": 3
   },
   "file_extension": ".py",
   "mimetype": "text/x-python",
   "name": "python",
   "nbconvert_exporter": "python",
   "pygments_lexer": "ipython3",
   "version": "3.7.6"
  }
 },
 "nbformat": 4,
 "nbformat_minor": 2
}
