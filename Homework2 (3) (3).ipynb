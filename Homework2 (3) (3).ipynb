{
 "cells": [
  {
   "cell_type": "markdown",
   "id": "aef030b0",
   "metadata": {},
   "source": [
    " ### homework2\n",
    " ### Author Andy Fordjour \n",
    " ### csit-200-51\n",
    " \n",
    " ### question 1"
   ]
  },
  {
   "cell_type": "code",
   "execution_count": 5,
   "id": "64634b75",
   "metadata": {},
   "outputs": [
    {
     "name": "stdout",
     "output_type": "stream",
     "text": [
      "Enter the number of seconds: 11730\n",
      "\n",
      " The time in hours, minutes, and second is: \n",
      "\n",
      "\t Hours : 3.3 \n",
      "\n",
      "\t Minutes : 15.5 \n",
      "\n",
      "\t Seconds : 30.0\n"
     ]
    }
   ],
   "source": [
    "#question1\n",
    "#Author :Andy Fordjour\n",
    "\n",
    "# this code calculates and convert the seconds in hours, minutes, seconds\n",
    "\n",
    "#USER INPUT\n",
    "\n",
    "user = float (input(\"Enter the number of seconds: \"))\n",
    "\n",
    "#the time in hours calculations\n",
    "hour = float(user/3600)\n",
    "\n",
    "#the time in minutes calculations\n",
    "\n",
    "minutes = float((user%3600)/60)\n",
    "\n",
    "#the time in seconds calcutations\n",
    "\n",
    "seconds = float(user%60)\n",
    "\n",
    "#display the calculated results\n",
    "print(\"\\n The time in hours, minutes, and second is: \\n\")\n",
    "\n",
    "print(\"\\t Hours :\",round(hour,1),\"\\n\")\n",
    "\n",
    "print(\"\\t Minutes :\",round(minutes,1),\"\\n\")\n",
    "\n",
    "print(\"\\t Seconds :\",round(seconds,1))\n",
    "\n",
    "\n",
    "\n"
   ]
  },
  {
   "cell_type": "markdown",
   "id": "b63bbd83",
   "metadata": {},
   "source": [
    "### question 2\n",
    "### convert farenheit to celcius"
   ]
  },
  {
   "cell_type": "code",
   "execution_count": 4,
   "id": "82b83605",
   "metadata": {},
   "outputs": [
    {
     "name": "stdout",
     "output_type": "stream",
     "text": [
      "Enter farenheit: 98.6\n",
      "\n",
      " farenheit in celsius is:  37.0\n"
     ]
    }
   ],
   "source": [
    "#author : Andy Fordjour\n",
    "#this code convert ask a farenheit input from a user and convert it into celsius\n",
    "\n",
    "# user input\n",
    "user = float(input(\"Enter farenheit: \"))\n",
    "\n",
    "#celsius calculation\n",
    "farenheit = 32\n",
    "celsius = ((user - farenheit)*5/9)\n",
    "\n",
    "#display results\n",
    "print(\"\\n farenheit in celsius is: \",celsius)"
   ]
  },
  {
   "cell_type": "code",
   "execution_count": null,
   "id": "d0e460a2",
   "metadata": {},
   "outputs": [],
   "source": []
  }
 ],
 "metadata": {
  "kernelspec": {
   "display_name": "Python 3",
   "language": "python",
   "name": "python3"
  },
  "language_info": {
   "codemirror_mode": {
    "name": "ipython",
    "version": 3
   },
   "file_extension": ".py",
   "mimetype": "text/x-python",
   "name": "python",
   "nbconvert_exporter": "python",
   "pygments_lexer": "ipython3",
   "version": "3.8.8"
  }
 },
 "nbformat": 4,
 "nbformat_minor": 5
}
