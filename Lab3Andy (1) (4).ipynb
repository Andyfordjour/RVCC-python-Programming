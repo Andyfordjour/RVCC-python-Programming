{
 "cells": [
  {
   "cell_type": "markdown",
   "id": "9b6fbd8a",
   "metadata": {},
   "source": [
    "### lab3\n",
    "### author : Andy Fordjour\n",
    "### problem1\n",
    "### rock, paper,scissors,tree,sponge. The rock crushes the scissors,the treeand the sponge.The scissors crushes the tree,spongeand paper.The tree crushes the sponge and the paper.the paper crushes the rock.I the player chooses a variant capable of crushing the computer variant the player wins."
   ]
  },
  {
   "cell_type": "code",
   "execution_count": 3,
   "id": "954ab895",
   "metadata": {},
   "outputs": [
    {
     "name": "stdout",
     "output_type": "stream",
     "text": [
      "Welcome to my game!\n",
      "Do you want to be 'rock', 'paper', or 'scissors','tree','sponge'? paper\n",
      "You are  paper\n",
      "The computer has tree\n",
      "You LOSE!\n"
     ]
    }
   ],
   "source": [
    "#Andy fordjour\n",
    "# Rock, Paper, Scissors using random function, if statements and logical and\n",
    "import random\n",
    "\n",
    "print(\"Welcome to my game!\")\n",
    "\n",
    "player = input(\"Do you want to be 'rock', 'paper', or 'scissors','tree','sponge'? \")\n",
    "print(\"You are \", player)\n",
    "\n",
    "computer = random.choice(['rock', 'paper', 'scissors','tree','sponge'])\n",
    "print(\"The computer has\", computer)\n",
    "\n",
    "if player == computer:\n",
    "    print(\"It's a TIE!\")\n",
    "\n",
    "elif player == 'rock' and computer =='tree':\n",
    "    print(\"You WIN!\")\n",
    "\n",
    "elif player == 'rock' and computer =='sponge':\n",
    "    print(\"You WIN!\")\n",
    "\n",
    "elif player == 'rock' and computer =='scissors':\n",
    "    print(\"You WIN!\")\n",
    "\n",
    "elif player == 'rock' and computer == 'paper':\n",
    "    print(\"You LOSE!\")\n",
    "\n",
    "elif player == 'scissors' and computer =='rock':\n",
    "    print(\"You LOSE!\")\n",
    "\n",
    "elif player == 'scissors' and computer =='paper':\n",
    "    print(\"You WIN!\")\n",
    "    \n",
    "elif player == 'scissors' and computer =='tree':\n",
    "    print(\"You WIN!\")\n",
    "\n",
    "elif player == 'scissors' and computer =='sponge':\n",
    "    print(\"You WIN!\")\n",
    "\n",
    "elif player == 'paper' and computer =='scissors':\n",
    "    print(\"You LOSE!\")\n",
    "\n",
    "elif player == 'paper' and computer =='rock':\n",
    "    print(\"You WIN!\")\n",
    "\n",
    "elif player == 'paper' and computer =='tree':\n",
    "    print(\"You LOSE!\")\n",
    "    \n",
    "elif player == 'paper' and computer =='sponge':\n",
    "    print(\"You LOSE!\")\n",
    "    \n",
    "elif player == 'tree' and computer =='paper':\n",
    "    print(\"You WIN!\")\n",
    "    \n",
    "elif player == 'tree' and computer =='sponge':\n",
    "    print(\"You WIN!\")\n",
    "    \n",
    "elif player == 'tree' and computer =='scissors':\n",
    "    print(\"You LOSE!\")\n",
    "    \n",
    "elif player == 'tree' and computer =='rock':\n",
    "    print(\"You LOSE!\")\n",
    "    \n",
    "elif player == 'sponge' and computer =='paper':\n",
    "    print(\"You WIN!\")\n",
    "    \n",
    "elif player == 'sponge' and computer =='tree':\n",
    "    print(\"You LOSE!\")\n",
    "    \n",
    "elif player == 'sponge' and computer =='scissors':\n",
    "    print(\"You LOSE!\")\n",
    "    \n",
    "elif player == 'sponge' and computer =='rock':\n",
    "    print(\"You LOSE!\")"
   ]
  },
  {
   "cell_type": "markdown",
   "id": "e59ff27a",
   "metadata": {},
   "source": [
    "### problem2\n",
    "### rewriting the rock paper scissors game in a nested loop"
   ]
  },
  {
   "cell_type": "code",
   "execution_count": 8,
   "id": "07e427ef",
   "metadata": {},
   "outputs": [
    {
     "name": "stdout",
     "output_type": "stream",
     "text": [
      "Welcome to my game!\n",
      "Do you want to be 'rock', 'paper', or 'scissors'? paper\n",
      "You are  paper\n",
      "The computer has rock\n",
      "You WIN!\n"
     ]
    }
   ],
   "source": [
    "#Andy fordjour\n",
    "# Rock, Paper, Scissors using random function, if statements and logical and\n",
    "import random\n",
    "\n",
    "print(\"Welcome to my game!\")\n",
    "\n",
    "player = input(\"Do you want to be 'rock', 'paper', or 'scissors'? \")\n",
    "print(\"You are \", player)\n",
    "\n",
    "computer = random.choice(['rock', 'paper', 'scissors'])\n",
    "print(\"The computer has\", computer)\n",
    "\n",
    "if player == computer:\n",
    "    print(\"It's a TIE!\")\n",
    "\n",
    "elif player == 'rock':\n",
    "    if computer =='tree':\n",
    "        print(\"You WIN!\")\n",
    "    else:\n",
    "        print(\"You LOSE\")\n",
    "\n",
    "\n",
    "elif player == 'scissors': \n",
    "    if computer =='rock':\n",
    "        print(\"You LOSE!\")\n",
    "    else:\n",
    "        print(\"You WIN!\")\n",
    "\n",
    "\n",
    "        \n",
    "elif player == 'paper' :\n",
    "    if computer =='scissors':\n",
    "        print(\"You LOSE!\")\n",
    "    else:\n",
    "        print(\"You WIN!\")\n",
    "\n",
    "\n"
   ]
  },
  {
   "cell_type": "markdown",
   "id": "acc18c15",
   "metadata": {},
   "source": [
    "### lab3\n",
    "### problem 3"
   ]
  },
  {
   "cell_type": "code",
   "execution_count": 6,
   "id": "01eec099",
   "metadata": {},
   "outputs": [
    {
     "name": "stdout",
     "output_type": "stream",
     "text": [
      "Welcome to RVCC Where would you like to visit first? \n",
      "Type 'a' for Labrary , 'b' for west building ,'c' for cafetaria and 'd' for somerset building d\n",
      "somerset building houses mostly lecture rooms\n",
      "you can find the security post over there too\n"
     ]
    }
   ],
   "source": [
    "\n",
    "#Andy fordjour\n",
    "#this code is to create an andventure story about the buidings of rvcc\n",
    "print(\"Welcome to RVCC Where would you like to visit first? \")\n",
    "\n",
    "choice1 = input(\"Type 'a' for Labrary , 'b' for west building ,'c' for cafetaria and 'd' for somerset building \")\n",
    "\n",
    "if choice1 == 'a':\n",
    "    print(\"Great, you're on your way to the library!\")\n",
    "    print(\"it is filled with books and has a study room for students.\")\n",
    "    print(\"Now what? \")\n",
    "    choice2 = input(\"Type 'a' to give up and go home or 'b' to show directions: \")\n",
    "\n",
    "    if choice2 == 'a':\n",
    "        print(\"Guess you don't want to learn today.farewell.\")\n",
    "    elif choice2 == 'b':\n",
    "        print(\"Great decision. Go through the main entrance, take the elevator down to the ground floor and turn left!\")\n",
    "        print(\"Enjoy the library  :-)\")\n",
    "\n",
    "elif choice1 == 'b':\n",
    "    print(\"the west building houses all the computer laboretories\")\n",
    "    print(\"You will mostly find computer and engineering students there\")\n",
    "    \n",
    "elif choice1 == 'c':\n",
    "    print(\"The cafetaria is palce to hang out and have some fun\")\n",
    "    print(\"you can also buy meals over there\")\n",
    "\n",
    "elif choice1 == 'd':\n",
    "    print(\"somerset building houses mostly lecture rooms\")\n",
    "    print(\"you can find the security post over there too\")\n",
    "    "
   ]
  },
  {
   "cell_type": "code",
   "execution_count": null,
   "id": "fc9b8d4c",
   "metadata": {},
   "outputs": [],
   "source": []
  }
 ],
 "metadata": {
  "kernelspec": {
   "display_name": "Python 3",
   "language": "python",
   "name": "python3"
  },
  "language_info": {
   "codemirror_mode": {
    "name": "ipython",
    "version": 3
   },
   "file_extension": ".py",
   "mimetype": "text/x-python",
   "name": "python",
   "nbconvert_exporter": "python",
   "pygments_lexer": "ipython3",
   "version": "3.8.8"
  }
 },
 "nbformat": 4,
 "nbformat_minor": 5
}
