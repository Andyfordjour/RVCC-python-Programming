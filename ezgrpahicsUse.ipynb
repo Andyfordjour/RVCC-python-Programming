{
 "cells": [
  {
   "cell_type": "code",
   "execution_count": 1,
   "metadata": {},
   "outputs": [],
   "source": [
    "# Program that draws 3 colored rectangles\n",
    "# on a canvas - From Horstmann and Necaise\n",
    "\n",
    "from ezgraphics import GraphicsWindow\n",
    "\n",
    "# create graphics window and return object\n",
    "# in variable win\n",
    "win = GraphicsWindow(500, 500)\n",
    "\n",
    "# access the canvas contained in the graphics window\n",
    "canvas = win.canvas()\n",
    "\n",
    "# Draw on the canvas\n",
    "canvas.setColor(\"maroon\")\n",
    "\n",
    "# parameters are x, y, width and height\n",
    "# with 0,0 being at the top\n",
    "canvas.drawRect(0, 10, 200, 10)\n",
    "\n",
    "canvas.setColor(\"tan\")\n",
    "canvas.drawRect(0, 30, 300, 10)\n",
    "\n",
    "canvas.setColor(\"blue\")\n",
    "canvas.drawRect(0, 50, 100, 10)\n",
    "\n",
    "# Wait for the user to close the window\n",
    "win.wait()"
   ]
  },
  {
   "cell_type": "code",
   "execution_count": 3,
   "metadata": {},
   "outputs": [
    {
     "name": "stdout",
     "output_type": "stream",
     "text": [
      "Enter the number of dollars: 5\n",
      "First class stamps:  9\n",
      "Change:  5\n"
     ]
    }
   ],
   "source": [
    "# Author: Horstmann and Necaise (and Yang)\n",
    "#\n",
    "# This program simulates a stamp machne that receives dollar\n",
    "# bills and dispenses stamps and calculates the change\n",
    "#\n",
    "\n",
    "# Define the price of a stamp in pennies (using standards for constant)\n",
    "STAMP_PRICE = 55\n",
    "\n",
    "# Obtain he numer of dollars\n",
    "dollars = int(input(\"Enter the number of dollars: \"))\n",
    "\n",
    "# Compute and print the number of stamps to dispense\n",
    "firstClassStamps = 100 * dollars // STAMP_PRICE\n",
    "change = 100 * dollars - firstClassStamps * STAMP_PRICE\n",
    "print(\"First class stamps: \", firstClassStamps)\n",
    "print(\"Change: \", change)"
   ]
  },
  {
   "cell_type": "code",
   "execution_count": null,
   "metadata": {},
   "outputs": [],
   "source": []
  },
  {
   "cell_type": "code",
   "execution_count": null,
   "metadata": {},
   "outputs": [],
   "source": []
  }
 ],
 "metadata": {
  "kernelspec": {
   "display_name": "Python 3",
   "language": "python",
   "name": "python3"
  },
  "language_info": {
   "codemirror_mode": {
    "name": "ipython",
    "version": 3
   },
   "file_extension": ".py",
   "mimetype": "text/x-python",
   "name": "python",
   "nbconvert_exporter": "python",
   "pygments_lexer": "ipython3",
   "version": "3.7.6"
  }
 },
 "nbformat": 4,
 "nbformat_minor": 2
}
