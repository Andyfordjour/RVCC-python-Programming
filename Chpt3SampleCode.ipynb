{
 "cells": [
  {
   "cell_type": "code",
   "execution_count": 1,
   "metadata": {},
   "outputs": [
    {
     "name": "stdout",
     "output_type": "stream",
     "text": [
      "Enter a test score: 73\n",
      "The grade is:  C\n"
     ]
    }
   ],
   "source": [
    "# Test Score converted to letter grade\n",
    "\n",
    "score = int(input(\"Enter a test score: \"))\n",
    "\n",
    "if score >= 90:\n",
    "    grade = \"A\"\n",
    "elif score >= 80:\n",
    "    grade = \"B\"\n",
    "elif score >= 70:\n",
    "    grade = \"C\"\n",
    "elif score >= 60:\n",
    "    grade = \"D\"\n",
    "else:\n",
    "    grade = \"F\"\n",
    "    \n",
    "print(\"The grade is: \", grade)\n"
   ]
  },
  {
   "cell_type": "code",
   "execution_count": 24,
   "metadata": {},
   "outputs": [
    {
     "name": "stdout",
     "output_type": "stream",
     "text": [
      "The Miles Per Gallon application\n",
      "\n",
      "Enter miles driven:\t\t 156\n",
      "Enter gallons of gas used:\t 12\n",
      "Miles Per Gallon:\t\t 13.0\n",
      "\n",
      "Bye\n"
     ]
    }
   ],
   "source": [
    "# Miles Per Gallon Program\n",
    "# display a welcome message\n",
    "print(\"The Miles Per Gallon application\")\n",
    "print()\n",
    "\n",
    "# get input from the user\n",
    "miles_driven = float(input(\"Enter miles driven:\\t\\t \"))\n",
    "gallons_used = float(input(\"Enter gallons of gas used:\\t \"))\n",
    "\n",
    "if miles_driven <= 0:\n",
    "    print(\"Miles driven must be greater than zero. Please try again.\")\n",
    "elif gallons_used <= 0:\n",
    "    print(\"Gallons used must be greater than zero. Please try again.\")\n",
    "else:\n",
    "    # calculate and display miles per gallon\n",
    "    mpg = round((miles_driven / gallons_used), 2)\n",
    "    print(\"Miles Per Gallon:\\t\\t\", mpg)\n",
    "\n",
    "print()\n",
    "print(\"Bye\")"
   ]
  },
  {
   "cell_type": "code",
   "execution_count": null,
   "metadata": {},
   "outputs": [],
   "source": []
  },
  {
   "cell_type": "code",
   "execution_count": 17,
   "metadata": {},
   "outputs": [
    {
     "name": "stdout",
     "output_type": "stream",
     "text": [
      "Welcome to my game!\n",
      "Do you want to be 'rock', 'paper', or 'scissors'? paper\n",
      "You are  paper\n",
      "The computer has scissors\n",
      "You LOSE!\n"
     ]
    }
   ],
   "source": [
    "# Rock, Paper, Scissors using random function, if statements and logical and\n",
    "import random\n",
    "\n",
    "print(\"Welcome to my game!\")\n",
    "\n",
    "player = input(\"Do you want to be 'rock', 'paper', or 'scissors'? \")\n",
    "print(\"You are \", player)\n",
    "\n",
    "computer = random.choice(['rock', 'paper', 'scissors'])\n",
    "print(\"The computer has\", computer)\n",
    "\n",
    "if player == 'rock' and computer == 'rock':\n",
    "    print(\"It's a TIE!\")\n",
    "\n",
    "elif player == 'rock' and computer =='scissors':\n",
    "    print(\"You WIN!\")\n",
    "\n",
    "elif player == 'rock' and computer == 'paper':\n",
    "    print(\"You LOSE!\")\n",
    "\n",
    "elif player == 'scissors' and computer =='scissors':\n",
    "    print(\"It's a TIE!!\")\n",
    "\n",
    "elif player == 'scissors' and computer =='rock':\n",
    "    print(\"You LOSE!\")\n",
    "\n",
    "elif player == 'scissors' and computer =='paper':\n",
    "    print(\"You WIN!\")\n",
    "\n",
    "elif player == 'paper' and computer =='scissors':\n",
    "    print(\"You LOSE!\")\n",
    "\n",
    "elif player == 'paper' and computer =='rock':\n",
    "    print(\"You WIN!\")\n",
    "\n",
    "elif player == 'paper' and computer =='paper':\n",
    "    print(\"It's a TIE!\")"
   ]
  },
  {
   "cell_type": "code",
   "execution_count": 25,
   "metadata": {},
   "outputs": [
    {
     "name": "stdout",
     "output_type": "stream",
     "text": [
      "Welcome to New York City! Where would you like to visit first? \n",
      "Type 'a' for Times Square or 'b' for Wall Street: a\n",
      "Great, you're on your way to Times Square!\n",
      "But once you arrive, someone steals your wallet.\n",
      "Now what? \n",
      "Type 'a' to give up and go home or 'b' to stay and ask strangers for money: b\n",
      "Great decision.  The first person you ask gives you a lottery ticket and you win!\n",
      "Life is sweet  :-)\n"
     ]
    }
   ],
   "source": [
    "# Choose Your Own Adventure\n",
    "\n",
    "print(\"Welcome to New York City! Where would you like to visit first? \")\n",
    "\n",
    "choice1 = input(\"Type 'a' for Times Square or 'b' for Wall Street: \")\n",
    "\n",
    "if choice1 == 'a':\n",
    "    print(\"Great, you're on your way to Times Square!\")\n",
    "    print(\"But once you arrive, someone steals your wallet.\")\n",
    "    print(\"Now what? \")\n",
    "    choice2 = input(\"Type 'a' to give up and go home or 'b' to stay and ask strangers for money: \")\n",
    "\n",
    "    if choice2 == 'a':\n",
    "        print(\"Guess you don't have what it takes to make it in New York. So long, farewell.\")\n",
    "    elif choice2 == 'b':\n",
    "        print(\"Great decision.  The first person you ask gives you a lottery ticket and you win!\")\n",
    "        print(\"Life is sweet  :-)\")\n",
    "\n",
    "elif choice1 == 'b':\n",
    "    print(\"You head towards Wall Street, and vampires suck your blood until you die or become a vampire too.\")\n",
    "    print(\"This is relatively common on Wall Street.\")"
   ]
  },
  {
   "cell_type": "code",
   "execution_count": 15,
   "metadata": {},
   "outputs": [
    {
     "name": "stdout",
     "output_type": "stream",
     "text": [
      "Enter your age: 7\n",
      "Not old enough to be drafted.\n",
      "Not old enough to drive\n",
      "Not old enough to vote.\n",
      "Not old enought to drink.\n"
     ]
    }
   ],
   "source": [
    "# Author: Linda Yang \n",
    "# Example of Nested If\n",
    "\n",
    "age = input(\"Enter your age: \");\n",
    "age = int(age)\n",
    "\n",
    "if age >= 18:\n",
    "\tif (age < 20):\n",
    "\t\tprint(\"Old enough to be drafted !\")\n",
    "\t\tprint(\"Old enough to vote.\")\n",
    "\t\tprint(\"Old enough to drive!\")\n",
    "\telse:\n",
    "\t\tprint(\"Old enough to be drafted !\")\n",
    "\t\tprint(\"Old enough to vote.\")\n",
    "\t\tprint(\"Old enough to drive!\")\n",
    "\t\tprint(\"Old enough to drink!\")\n",
    "\t\tprint (\".... But don't drink and drive!\")\n",
    "\n",
    "else:\n",
    "\tprint(\"Not old enough to be drafted.\")\n",
    "\tprint(\"Not old enough to drive\")\n",
    "\tprint(\"Not old enough to vote.\")\n",
    "\tprint(\"Not old enought to drink.\")"
   ]
  },
  {
   "cell_type": "code",
   "execution_count": 7,
   "metadata": {},
   "outputs": [
    {
     "name": "stdout",
     "output_type": "stream",
     "text": [
      "Floor: 16\n",
      "The elevator will travel to actual floor:  15\n"
     ]
    }
   ],
   "source": [
    "# Elevator Problem from book\n",
    "input_floor = int(input(\"Floor: \"))\n",
    "\n",
    "if input_floor > 13:\n",
    "    actual_floor = input_floor -1\n",
    "else:\n",
    "    actual_floor = input_floor\n",
    "    \n",
    "    \n",
    "print(\"The elevator will travel to actual floor: \", actual_floor)\n"
   ]
  },
  {
   "cell_type": "code",
   "execution_count": 12,
   "metadata": {},
   "outputs": [
    {
     "name": "stdout",
     "output_type": "stream",
     "text": [
      "Floor: 12\n",
      "The elevator will travel to actual floor:  12\n"
     ]
    }
   ],
   "source": [
    "# Elevator Problem from book\n",
    "\n",
    "input_floor = int(input(\"Floor: \"))\n",
    "\n",
    "if input_floor <= 0:\n",
    "    print(\"Invalid floor number entereed!\")\n",
    "    \n",
    "else:\n",
    "    if input_floor > 13:\n",
    "        actual_floor = input_floor -1\n",
    "    else:\n",
    "        actual_floor = input_floor\n",
    "    \n",
    "    print(\"The elevator will travel to actual floor: \", actual_floor)\n"
   ]
  },
  {
   "cell_type": "code",
   "execution_count": 13,
   "metadata": {},
   "outputs": [
    {
     "name": "stdout",
     "output_type": "stream",
     "text": [
      "Floor: 23\n",
      "The elevator will travel to actual floor:  22\n"
     ]
    }
   ],
   "source": [
    "# Elevator Problem from book\n",
    "\n",
    "input_floor = int(input(\"Floor: \"))\n",
    "\n",
    "if input_floor <= 0 or input_floor > 20:\n",
    "    print(\"Invalid floor number entereed!\")\n",
    "    \n",
    "else:\n",
    "    if input_floor > 13:\n",
    "        actual_floor = input_floor -1\n",
    "    else:\n",
    "        actual_floor = input_floor\n",
    "    \n",
    "    print(\"The elevator will travel to actual floor: \", actual_floor)"
   ]
  },
  {
   "cell_type": "code",
   "execution_count": 19,
   "metadata": {},
   "outputs": [
    {
     "name": "stdout",
     "output_type": "stream",
     "text": [
      "Enter the number on the richter scale: 3.2\n",
      "no destruction\n"
     ]
    }
   ],
   "source": [
    "# Author: Horstmann and Necaise\n",
    "# richter - too much nesting?\n",
    "\n",
    "richter = float(input(\"Enter the number on the richter scale: \"))\n",
    "if richter >= 8.0:\n",
    "    print(\"Most structures fall\")\n",
    "else:\n",
    "    if richter >= 7.0:\n",
    "        print(\"Many bldgs destroyed\")\n",
    "    else:\n",
    "        if richter >= 6.0:\n",
    "            print(\"minor damage\")\n",
    "            \n",
    "        else:\n",
    "            print(\"no destruction\")\n",
    "        "
   ]
  },
  {
   "cell_type": "code",
   "execution_count": 21,
   "metadata": {},
   "outputs": [
    {
     "name": "stdout",
     "output_type": "stream",
     "text": [
      "Enter the number on the richter scale: 3.2\n",
      "no destruction\n"
     ]
    }
   ],
   "source": [
    "# Author: Horstmann and Necaise\n",
    "# richter - too much nesting?\n",
    "\n",
    "richter = float(input(\"Enter the number on the richter scale: \"))\n",
    "if richter >= 8.0:\n",
    "    print(\"Most structures fall\")\n",
    "elif richter >= 7.0:\n",
    "    print(\"Many bldgs destroyed\")\n",
    "elif richter >= 6.0:\n",
    "    print(\"minor damage\")\n",
    "else:\n",
    "    print(\"no destruction\")\n",
    "        "
   ]
  },
  {
   "cell_type": "code",
   "execution_count": 27,
   "metadata": {},
   "outputs": [
    {
     "name": "stdout",
     "output_type": "stream",
     "text": [
      "Enter your age: 30\n",
      "Enter LI age: 15\n",
      "You are creepy... find someone your own age!\n"
     ]
    }
   ],
   "source": [
    "# dating program\n",
    "\n",
    "your_age = int(input(\"Enter your age: \"))\n",
    "love_interest_age = int(input(\"Enter LI age: \"))\n",
    "\n",
    "if love_interest_age < your_age / 2 + 7:\n",
    "    print(\"You are creepy... find someone your own age!\")\n",
    "else:\n",
    "    print(\"You are good to go!\")"
   ]
  },
  {
   "cell_type": "code",
   "execution_count": null,
   "metadata": {},
   "outputs": [],
   "source": []
  }
 ],
 "metadata": {
  "kernelspec": {
   "display_name": "Python 3",
   "language": "python",
   "name": "python3"
  },
  "language_info": {
   "codemirror_mode": {
    "name": "ipython",
    "version": 3
   },
   "file_extension": ".py",
   "mimetype": "text/x-python",
   "name": "python",
   "nbconvert_exporter": "python",
   "pygments_lexer": "ipython3",
   "version": "3.8.8"
  }
 },
 "nbformat": 4,
 "nbformat_minor": 2
}
